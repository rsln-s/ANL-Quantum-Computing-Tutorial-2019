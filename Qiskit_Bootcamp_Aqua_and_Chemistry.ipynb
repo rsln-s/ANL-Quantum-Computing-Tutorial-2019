{
  "nbformat": 4,
  "nbformat_minor": 0,
  "metadata": {
    "colab": {
      "name": "Qiskit_Bootcamp_Aqua_and_Chemistry.ipynb",
      "version": "0.3.2",
      "provenance": [],
      "collapsed_sections": []
    },
    "language_info": {
      "codemirror_mode": {
        "name": "ipython",
        "version": 3
      },
      "file_extension": ".py",
      "mimetype": "text/x-python",
      "name": "python",
      "nbconvert_exporter": "python",
      "pygments_lexer": "ipython3",
      "version": "3.6.5"
    },
    "kernelspec": {
      "display_name": "code",
      "language": "python",
      "name": "code"
    }
  },
  "cells": [
    {
      "cell_type": "markdown",
      "metadata": {
        "slideshow": {
          "slide_type": "slide"
        },
        "id": "lhxlVru-Juzo",
        "colab_type": "text"
      },
      "source": [
        "![Qiskit](https://github.com/Qiskit/qiskit-tutorials/raw/115c78962dda85bac29d679063b7d0d0ab1d1ab4/images/qiskit-heading.gif)"
      ]
    },
    {
      "cell_type": "markdown",
      "metadata": {
        "slideshow": {
          "slide_type": "-"
        },
        "id": "kn2sWbd8Juzr",
        "colab_type": "text"
      },
      "source": [
        "# Qiskit Bootcamp Parts III & IV: Aqua, Optimization, Machine Learning, and Chemistry\n",
        "\n",
        "donny@ibm.com"
      ]
    },
    {
      "cell_type": "markdown",
      "metadata": {
        "slideshow": {
          "slide_type": "slide"
        },
        "id": "4oBbd8oZJuzw",
        "colab_type": "text"
      },
      "source": [
        "# Gameplan\n",
        "\n",
        "* Overview and basics\n",
        "  * What is Aqua?\n",
        "  * Structural Elements\n",
        "  * Control flow\n",
        "  * Interfaces\n",
        "* Detailed component overview\n",
        "* Tips and Tricks\n",
        "* Learning more"
      ]
    },
    {
      "cell_type": "markdown",
      "metadata": {
        "slideshow": {
          "slide_type": "slide"
        },
        "id": "v9B8vjKmJuz0",
        "colab_type": "text"
      },
      "source": [
        "But first, install Aqua:"
      ]
    },
    {
      "cell_type": "code",
      "metadata": {
        "slideshow": {
          "slide_type": "fragment"
        },
        "id": "RWqGyCPuJuz7",
        "colab_type": "code",
        "colab": {}
      },
      "source": [
        "!pip install qiskit-aqua"
      ],
      "execution_count": 0,
      "outputs": []
    },
    {
      "cell_type": "code",
      "metadata": {
        "id": "sHKmGy7cJu0B",
        "colab_type": "code",
        "colab": {}
      },
      "source": [
        "import warnings\n",
        "warnings.filterwarnings(action='once')"
      ],
      "execution_count": 0,
      "outputs": []
    },
    {
      "cell_type": "markdown",
      "metadata": {
        "slideshow": {
          "slide_type": "slide"
        },
        "id": "KfyOoBslJu0H",
        "colab_type": "text"
      },
      "source": [
        "# Part III: Constructing and Executing Quantum Algorithms with Aqua"
      ]
    },
    {
      "cell_type": "markdown",
      "metadata": {
        "slideshow": {
          "slide_type": "slide"
        },
        "id": "j9oF_ZEhJu0N",
        "colab_type": "text"
      },
      "source": [
        "# What is Aqua?\n",
        "\n",
        "Aqua is:\n",
        "* An easy to use library for running many different quantum algorithms\n",
        "* A collection of reusable components which can be mixed and matched in different algorithms\n",
        "\n",
        "Aqua is very practically driven\n",
        "* We have real chemists and clients who are trying to get things done\n",
        "* It is exactly what you’d expect to spring out of rapid practical need… it is very function-driven and evolves rapidly\n",
        "* The guts are not so inviting in some places because it is engineered and optimized to the nines\n",
        "* If you need to do something, there is a good chance someone already put it in Aqua or should\n",
        "  * **Please submit feature requests!**\n",
        "\n",
        "Aqua is built to be highly extensible and have a diversity of available interfaces:\n",
        "* Declarative: Creating a QuantumAlgorithm object in python with a config dict and calling run()\n",
        "* Objective: Constructing QuantumAlgorithm and component objects manually\n",
        "* Aqua GUI\n",
        "* Command line interface\n"
      ]
    },
    {
      "cell_type": "markdown",
      "metadata": {
        "slideshow": {
          "slide_type": "slide"
        },
        "id": "llUJ1sdjJu0P",
        "colab_type": "text"
      },
      "source": [
        "# Plug and play components, not a circuit library\n",
        "\n",
        "Keep in mind:\n",
        "\n",
        "Aqua organizes reusable components into buckets, elements of which can be substituted for one another:\n",
        "* Algorithms\n",
        "* Variational forms\n",
        "* Optimizers\n",
        "* Other smaller buckets (translators, QFTs, oracles, feature maps)\n",
        "\n",
        "It is not so much an “I give you parameters, you give me back a circuit” library, because in nearly all cases, running an algorithm is much more than executing a single circuit (e.g. VQE, q-kernel SVM, etc.)\n",
        "\n",
        "It’s not even so much about “give me x component,” it’s more “execute this algorithm, with this set of components,” allowing you to mix and match or add your own components\n",
        "\n",
        "There are many tests, which give good examples of execution modes and components, as well as tutorials in the qiskit-tutorials repo\n",
        "\n",
        "Get an IDE (Pycharm is good!) and step through the code!\n"
      ]
    },
    {
      "cell_type": "markdown",
      "metadata": {
        "slideshow": {
          "slide_type": "slide"
        },
        "id": "xq-L3mtTJu0Q",
        "colab_type": "text"
      },
      "source": [
        "# Structural Elements\n",
        "\n",
        "It is easy to see Aqua as being composed of roughly four high-level elements:\n",
        "* Algorithms - the control flow and logic in generally well contained inside the algorithm class file. \n",
        "* Interfaces - Aqua is meant to be highly accessible, so it has a lot of infrascructure to allow the graphical or JSON interfaces to be almost equally accessible as coding against the library directly (no small feat!)\n",
        "   * JSON definitions and declarative interfaces are dispersed throughout\n",
        "   * The UI and CLI are in the top level Aqua directory\n",
        "* Components - These are objects which are shared by several algorithms, as mentioned above.\n",
        "* Utilities - Aqua has many useful modules and helper classes that an algorithm and application developer might want. Examples include the [operator class](https://github.com/Qiskit/aqua/blob/master/qiskit_aqua/operator.py), [random matrix generator](https://github.com/Qiskit/aqua/blob/master/qiskit_aqua/utils/random_matrix_generator.py), [cnx](https://github.com/Qiskit/aqua/blob/master/qiskit_aqua/utils/cnx.py), [run_circutis.py](https://github.com/Qiskit/aqua/blob/master/qiskit_aqua/utils/run_circuits.py), and much more."
      ]
    },
    {
      "cell_type": "markdown",
      "metadata": {
        "slideshow": {
          "slide_type": "slide"
        },
        "id": "8w2bYTkWJu0u",
        "colab_type": "text"
      },
      "source": [
        "# The Maxcut problem\n",
        "\n",
        "Today, we're going to focus on a combinatorial optimization problem called **Maxcut**, which is solved by dividing the nodes of a weighted graph into two groups such that the egdes between the two groups carry the most possible weight. There's an [excellent notebook](https://github.com/Qiskit/qiskit-tutorial/blob/master/qiskit/aqua/optimization/maxcut_and_tsp.ipynb) 📒 by Mezzacapo et al that goes into the problem in more detail, which I highly recommend. "
      ]
    },
    {
      "cell_type": "markdown",
      "metadata": {
        "id": "U7-oH0xHLnub",
        "colab_type": "text"
      },
      "source": [
        "The formal definition of this problem is the following:\n",
        "\n",
        "Consider an $n$-node undirected graph *G = (V, E)* where *|V| = n* with edge weights $w_{ij}>0$, $w_{ij}=w_{ji}$, for $(i, j)\\in E$. A cut is defined as a partition of the original set V into two subsets. The cost function to be optimized is in this case the sum of weights of edges connecting points in the two different subsets, *crossing* the cut. By assigning $x_i=0$ or $x_i=1$ to each node $i$, one tries to maximize the objective function (here and in the following summations run over indices 0,1,...n-1)\n",
        "\n",
        "$$\\tilde{C}(\\textbf{x}) = \\sum_{i,j} w_{ij} x_i (1-x_j).$$"
      ]
    },
    {
      "cell_type": "markdown",
      "metadata": {
        "id": "yfBMt31tLywB",
        "colab_type": "text"
      },
      "source": [
        "An extension to this model has the nodes themselves carry weights. With this additional information in our model, the objective function to maximize becomes \n",
        "\n",
        "$$C(\\textbf{x}) = \\sum_{i,j} w_{ij} x_i (1-x_j)+\\sum_i w_i x_i. $$"
      ]
    },
    {
      "cell_type": "markdown",
      "metadata": {
        "id": "lCH5KZR1L7Mi",
        "colab_type": "text"
      },
      "source": [
        "In order to find a solution to this problem on a quantum computer, one needs first to map it to an Ising Hamiltonian. This can be done with the assignment $x_i\\rightarrow (1-Z_i)/2$, where $Z_i$ is the Pauli Z operator that has eigenvalues $\\pm 1$. Doing this we find that \n",
        "\n",
        "$$C(\\textbf{Z}) = \\sum_{i,j} \\frac{w_{ij}}{4} (1-Z_i)(1+Z_j) + \\sum_i \\frac{w_i}{2} (1-Z_i) = -\\frac{1}{2}\\left( \\sum_{i<j} w_{ij} Z_i Z_j +\\sum_i w_i Z_i\\right)+\\mathrm{const},$$\n",
        "\n",
        "where const = $\\sum_{i<j}w_{ij}/2+\\sum_i w_i/2 $. In other terms, the weighted Max-Cut problem is equivalent to minimizing the Ising Hamiltonian \n",
        "\n",
        "$$ H = \\sum_i w_i Z_i + \\sum_{i<j} w_{ij} Z_iZ_j.$$\n",
        "\n",
        "Aqua can generate the Ising Hamiltonian for the first profit function $\\tilde{C}$."
      ]
    },
    {
      "cell_type": "markdown",
      "metadata": {
        "colab_type": "text",
        "id": "C1B1Ap8aMlrY"
      },
      "source": [
        "### Approximate Universal Quantum Computing for Optimization Problems\n",
        "\n",
        "There has been a considerable amount of interest in recent times about the use of quantum computers to find a solution to combinatorial problems. It is important to say that, given the classical nature of combinatorial problems, exponential speedup in using quantum computers compared to the best classical algorithms is not guaranteed. However, due to the nature and importance of the target problems, it is worth investigating heuristic approaches on a quantum computer that could indeed speed up some problem instances. Here we demonstrate an approach that is based on the Quantum Approximate Optimization Algorithm by Farhi, Goldstone, and Gutman (2014). We frame the algorithm in the context of *approximate quantum computing*, given its heuristic nature. \n",
        "\n",
        "The Algorithm works as follows:\n",
        "1. Choose the $w_i$ and $w_{ij}$ in the target Ising problem. In principle, even higher powers of Z are allowed.\n",
        "2. Choose the depth of the quantum circuit $m$. Note that the depth can be modified adaptively.\n",
        "3. Choose a set of controls $\\theta$ and make a trial function $|\\psi(\\boldsymbol\\theta)\\rangle$, built using a quantum circuit made of C-Phase gates and single-qubit Y rotations, parameterized by the components of $\\boldsymbol\\theta$. \n",
        "4. Evaluate $C(\\boldsymbol\\theta) = \\langle\\psi(\\boldsymbol\\theta)~|H|~\\psi(\\boldsymbol\\theta)\\rangle = \\sum_i w_i \\langle\\psi(\\boldsymbol\\theta)~|Z_i|~\\psi(\\boldsymbol\\theta)\\rangle+ \\sum_{i<j} w_{ij} \\langle\\psi(\\boldsymbol\\theta)~|Z_iZ_j|~\\psi(\\boldsymbol\\theta)\\rangle$ by sampling the outcome of the circuit in the Z-basis and adding the expectation values of the individual Ising terms together. In general, different control points around $\\boldsymbol\\theta$ have to be estimated, depending on the classical optimizer chosen. \n",
        "5. Use a classical optimizer to choose a new set of controls.\n",
        "6. Continue until $C(\\boldsymbol\\theta)$ reaches a minimum, close enough to the solution $\\boldsymbol\\theta^*$.\n",
        "7. Use the last $\\boldsymbol\\theta$ to generate a final set of samples from the distribution $|\\langle z_i~|\\psi(\\boldsymbol\\theta)\\rangle|^2\\;\\forall i$ to obtain the answer.\n",
        "    \n",
        "It is our belief the difficulty of finding good heuristic algorithms will come down to the choice of an appropriate trial wavefunction. For example, one could consider a trial function whose entanglement best aligns with the target problem, or simply make the amount of entanglement a variable. In this tutorial, we will consider a simple trial function of the form\n",
        "\n",
        "$$|\\psi(\\theta)\\rangle  = [U_\\mathrm{single}(\\boldsymbol\\theta) U_\\mathrm{entangler}]^m |+\\rangle$$\n",
        "\n",
        "where $U_\\mathrm{entangler}$ is a collection of C-Phase gates (fully entangling gates), and $U_\\mathrm{single}(\\theta) = \\prod_{i=1}^n Y(\\theta_{i})$, where $n$ is the number of qubits and $m$ is the depth of the quantum circuit. The motivation for this choice is that for these classical problems this choice allows us to search over the space of quantum states that have only real coefficients, still exploiting the entanglement to potentially converge faster to the solution.\n",
        "\n",
        "One advantage of using this sampling method compared to adiabatic approaches is that the target Ising Hamiltonian does not have to be implemented directly on hardware, allowing this algorithm not to be limited to the connectivity of the device. Furthermore, higher-order terms in the cost function, such as $Z_iZ_jZ_k$, can also be sampled efficiently, whereas in adiabatic or annealing approaches they are generally impractical to deal with. \n",
        "\n",
        "\n",
        "References:\n",
        "- A. Lucas, Frontiers in Physics 2, 5 (2014)\n",
        "- E. Farhi, J. Goldstone, S. Gutmann e-print arXiv 1411.4028 (2014)\n",
        "- D. Wecker, M. B. Hastings, M. Troyer Phys. Rev. A 94, 022309 (2016)\n",
        "- E. Farhi, J. Goldstone, S. Gutmann, H. Neven e-print arXiv 1703.06199 (2017)"
      ]
    },
    {
      "cell_type": "markdown",
      "metadata": {
        "slideshow": {
          "slide_type": "slide"
        },
        "id": "wbopdOYTJu0x",
        "colab_type": "text"
      },
      "source": [
        "Let's begin with a weight matrix w, representing the weights between edges of the graph. To make it easier to follow along with the above mentioned notebook, we'll use the same cost matrix."
      ]
    },
    {
      "cell_type": "code",
      "metadata": {
        "id": "EgsuZCLcMoUS",
        "colab_type": "code",
        "colab": {}
      },
      "source": [
        "# useful additional packages \n",
        "import matplotlib.pyplot as plt\n",
        "import matplotlib.axes as axes\n",
        "%matplotlib inline\n",
        "import numpy as np\n",
        "import networkx as nx\n",
        "\n",
        "from qiskit import BasicAer\n",
        "from qiskit.tools.visualization import plot_histogram\n",
        "from qiskit.aqua import Operator, run_algorithm\n",
        "from qiskit.aqua.input import EnergyInput\n",
        "from qiskit.aqua.translators.ising import max_cut, tsp\n",
        "from qiskit.aqua.algorithms import VQE, ExactEigensolver\n",
        "from qiskit.aqua.components.optimizers import SPSA\n",
        "from qiskit.aqua.components.variational_forms import RY\n",
        "from qiskit.aqua import QuantumInstance\n",
        "\n",
        "# setup aqua logging\n",
        "import logging\n",
        "from qiskit.aqua import set_qiskit_aqua_logging\n",
        "# set_qiskit_aqua_logging(logging.DEBUG)  # choose INFO, DEBUG to see the log"
      ],
      "execution_count": 0,
      "outputs": []
    },
    {
      "cell_type": "code",
      "metadata": {
        "id": "fTs8JENVM_bN",
        "colab_type": "code",
        "colab": {}
      },
      "source": [
        "# Generating a graph of 4 nodes \n",
        "\n",
        "n=4 # Number of nodes in graph\n",
        "G=nx.Graph()\n",
        "G.add_nodes_from(np.arange(0,n,1))\n",
        "elist=[(0,1,1.0),(0,2,1.0),(0,3,1.0),(1,2,1.0),(2,3,1.0)]\n",
        "# tuple is (i,j,weight) where (i,j) is the edge\n",
        "G.add_weighted_edges_from(elist)\n",
        "\n",
        "colors = ['r' for node in G.nodes()]\n",
        "pos = nx.spring_layout(G)\n",
        "default_axes = plt.axes(frameon=True)\n",
        "nx.draw_networkx(G, node_color=colors, node_size=600, alpha=.8, ax=default_axes, pos=pos)"
      ],
      "execution_count": 0,
      "outputs": []
    },
    {
      "cell_type": "code",
      "metadata": {
        "id": "83e2X8x2NLIv",
        "colab_type": "code",
        "colab": {}
      },
      "source": [
        "# Computing the weight matrix from the random graph\n",
        "w = np.zeros([n,n])\n",
        "for i in range(n):\n",
        "    for j in range(n):\n",
        "        temp = G.get_edge_data(i,j,default=0)\n",
        "        if temp != 0:\n",
        "            w[i,j] = temp['weight'] \n",
        "print(w)"
      ],
      "execution_count": 0,
      "outputs": []
    },
    {
      "cell_type": "markdown",
      "metadata": {
        "id": "ag_6ZJujNQgd",
        "colab_type": "text"
      },
      "source": [
        "### Brute force approach\n",
        "\n",
        "Try all possible $2^n$ combinations. For $n = 4$, as in this example, one deals with only 16 combinations, but for n = 1000, one has 1.071509e+30 combinations, which is impractical to deal with by using a brute force approach. "
      ]
    },
    {
      "cell_type": "code",
      "metadata": {
        "id": "orDoCA1nNN1U",
        "colab_type": "code",
        "colab": {}
      },
      "source": [
        "best_cost_brute = 0\n",
        "for b in range(2**n):\n",
        "    x = [int(t) for t in reversed(list(bin(b)[2:].zfill(n)))]\n",
        "    cost = 0\n",
        "    for i in range(n):\n",
        "        for j in range(n):\n",
        "            cost = cost + w[i,j]*x[i]*(1-x[j])\n",
        "    if best_cost_brute < cost:\n",
        "        best_cost_brute = cost\n",
        "        xbest_brute = x \n",
        "    print('case = ' + str(x)+ ' cost = ' + str(cost))\n",
        "\n",
        "colors = ['r' if xbest_brute[i] == 0 else 'b' for i in range(n)]\n",
        "nx.draw_networkx(G, node_color=colors, node_size=600, alpha=.8, pos=pos)\n",
        "print('\\nBest solution = ' + str(xbest_brute) + ' cost = ' + str(best_cost_brute))    "
      ],
      "execution_count": 0,
      "outputs": []
    },
    {
      "cell_type": "markdown",
      "metadata": {
        "id": "ZJRT679gUg2u",
        "colab_type": "text"
      },
      "source": [
        "### Mapping to the Ising problem"
      ]
    },
    {
      "cell_type": "code",
      "metadata": {
        "id": "btuFFFoRUjFm",
        "colab_type": "code",
        "colab": {}
      },
      "source": [
        "qubitOp, offset = max_cut.get_max_cut_qubitops(w)\n",
        "algo_input = EnergyInput(qubitOp)"
      ],
      "execution_count": 0,
      "outputs": []
    },
    {
      "cell_type": "markdown",
      "metadata": {
        "id": "tKSBo-fdUqIf",
        "colab_type": "text"
      },
      "source": [
        "### Checking that the full Hamiltonian gives the right cost "
      ]
    },
    {
      "cell_type": "code",
      "metadata": {
        "id": "5Y5BCtkdUpbr",
        "colab_type": "code",
        "colab": {}
      },
      "source": [
        "#Making the Hamiltonian in its full form and getting the lowest eigenvalue and eigenvector\n",
        "ee = ExactEigensolver(qubitOp, k=1)\n",
        "result = ee.run()\n",
        "\n",
        "algorithm_cfg = {\n",
        "    'name': 'ExactEigensolver',\n",
        "}\n",
        "\n",
        "params = {\n",
        "    'problem': {'name': 'ising'},\n",
        "    'algorithm': algorithm_cfg\n",
        "}\n",
        "result = run_algorithm(params,algo_input)\n",
        "\n",
        "x = max_cut.sample_most_likely(result['eigvecs'][0])\n",
        "print('energy:', result['energy'])\n",
        "print('max-cut objective:', result['energy'] + offset)\n",
        "print('solution:', max_cut.get_graph_solution(x))\n",
        "print('solution objective:', max_cut.max_cut_value(x, w))\n",
        "\n",
        "colors = ['r' if max_cut.get_graph_solution(x)[i] == 0 else 'b' for i in range(n)]\n",
        "nx.draw_networkx(G, node_color=colors, node_size=600, alpha = .8, pos=pos)"
      ],
      "execution_count": 0,
      "outputs": []
    },
    {
      "cell_type": "markdown",
      "metadata": {
        "id": "5bQz18ttVCug",
        "colab_type": "text"
      },
      "source": [
        "### Running it on quantum computer\n",
        "We run the optimization routine using a feedback loop with a quantum computer that uses trial functions built with Y single-qubit rotations, $U_\\mathrm{single}(\\theta) = \\prod_{i=1}^n Y(\\theta_{i})$, and entangler steps $U_\\mathrm{entangler}$."
      ]
    },
    {
      "cell_type": "code",
      "metadata": {
        "id": "44Q4nKq5VFlA",
        "colab_type": "code",
        "colab": {}
      },
      "source": [
        "seed = 10598\n",
        "\n",
        "spsa = SPSA(max_trials=300)\n",
        "ry = RY(qubitOp.num_qubits, depth=5, entanglement='linear')\n",
        "vqe = VQE(qubitOp, ry, spsa, 'matrix')\n",
        "\n",
        "backend = BasicAer.get_backend('statevector_simulator')\n",
        "quantum_instance = QuantumInstance(backend, seed=seed, seed_transpiler=seed)\n",
        "\n",
        "result = vqe.run(quantum_instance)\n",
        "\n",
        "\"\"\" declarative approach\n",
        "algorithm_cfg = {\n",
        "    'name': 'VQE',\n",
        "    'operator_mode': 'matrix'\n",
        "}\n",
        "\n",
        "optimizer_cfg = {\n",
        "    'name': 'SPSA',\n",
        "    'max_trials': 300\n",
        "}\n",
        "\n",
        "var_form_cfg = {\n",
        "    'name': 'RY',\n",
        "    'depth': 5,\n",
        "    'entanglement': 'linear'\n",
        "}\n",
        "\n",
        "params = {\n",
        "    'problem': {'name': 'ising', 'random_seed': seed},\n",
        "    'algorithm': algorithm_cfg,\n",
        "    'optimizer': optimizer_cfg,\n",
        "    'variational_form': var_form_cfg,\n",
        "    'backend': {'provider': 'qiskit.BasicAer', 'name': 'statevector_simulator'}\n",
        "}\n",
        "\n",
        "result = run_algorithm(params, algo_input)\n",
        "\"\"\"\n",
        "\n",
        "x = max_cut.sample_most_likely(result['eigvecs'][0])\n",
        "print('energy:', result['energy'])\n",
        "print('time:', result['eval_time'])\n",
        "print('max-cut objective:', result['energy'] + offset)\n",
        "print('solution:', max_cut.get_graph_solution(x))\n",
        "print('solution objective:', max_cut.max_cut_value(x, w))\n",
        "\n",
        "colors = ['r' if max_cut.get_graph_solution(x)[i] == 0 else 'b' for i in range(n)]\n",
        "nx.draw_networkx(G, node_color=colors, node_size=600, alpha = .8, pos=pos)"
      ],
      "execution_count": 0,
      "outputs": []
    },
    {
      "cell_type": "code",
      "metadata": {
        "id": "E9JLPKoIWIcC",
        "colab_type": "code",
        "colab": {}
      },
      "source": [
        "# run quantum algorithm with shots\n",
        "seed = 10598\n",
        "\n",
        "spsa = SPSA(max_trials=300)\n",
        "ry = RY(qubitOp.num_qubits, depth=5, entanglement='linear')\n",
        "vqe = VQE(qubitOp, ry, spsa, 'grouped_paulis')\n",
        "\n",
        "backend = BasicAer.get_backend('qasm_simulator')\n",
        "quantum_instance = QuantumInstance(backend, shots=1024, seed=seed, seed_transpiler=seed)\n",
        "\n",
        "result = vqe.run(quantum_instance)\n",
        "\n",
        "\"\"\"declarative approach, update the param from the previous cell.\n",
        "params['algorithm']['operator_mode'] = 'grouped_paulis'\n",
        "params['backend']['provider'] = 'qiskit.BasicAer'\n",
        "params['backend']['name'] = 'qasm_simulator'\n",
        "params['backend']['shots'] = 1024\n",
        "result = run_algorithm(params, algo_input)\n",
        "\"\"\"\n",
        "\n",
        "x = max_cut.sample_most_likely(result['eigvecs'][0])\n",
        "print('energy:', result['energy'])\n",
        "print('time:', result['eval_time'])\n",
        "print('max-cut objective:', result['energy'] + offset)\n",
        "print('solution:', max_cut.get_graph_solution(x))\n",
        "print('solution objective:', max_cut.max_cut_value(x, w))\n",
        "plot_histogram(result['eigvecs'][0])\n",
        "\n",
        "colors = ['r' if max_cut.get_graph_solution(x)[i] == 0 else 'b' for i in range(n)]\n",
        "nx.draw_networkx(G, node_color=colors, node_size=600, alpha = .8, pos=pos)"
      ],
      "execution_count": 0,
      "outputs": []
    },
    {
      "cell_type": "markdown",
      "metadata": {
        "id": "gDdbPxJTXYb3",
        "colab_type": "text"
      },
      "source": [
        "Now, let's try using the declarative interface to Aqua"
      ]
    },
    {
      "cell_type": "code",
      "metadata": {
        "id": "NOt_RlTNXVCX",
        "colab_type": "code",
        "colab": {}
      },
      "source": [
        "aqua_dict = {\n",
        "    'problem': {'name': 'ising', 'random_seed': 10598},\n",
        "    'algorithm': {'name': 'VQE','operator_mode': 'matrix'},\n",
        "    'optimizer': {'name': 'SPSA','max_trials': 300},\n",
        "    'variational_form': {'name': 'RY','depth': 5,'entanglement': 'linear'},\n",
        "    'backend': {'name': 'statevector_simulator'}\n",
        "}\n",
        "\n",
        "result = run_algorithm(aqua_dict, algo_input)\n",
        "\n",
        "x = max_cut.sample_most_likely(result['eigvecs'][0])\n",
        "print('energy:', result['energy'])\n",
        "print('time:', result['eval_time'])\n",
        "print('maxcut objective:', result['energy'] + offset)\n",
        "print('solution:', max_cut.get_graph_solution(x))\n",
        "print('solution objective:', max_cut.max_cut_value(x, w))\n",
        "\n",
        "sol = max_cut.get_graph_solution(x)\n",
        "sol"
      ],
      "execution_count": 0,
      "outputs": []
    },
    {
      "cell_type": "markdown",
      "metadata": {
        "id": "XpmULvtXXr7p",
        "colab_type": "text"
      },
      "source": [
        "Now, let's try a new optimizer. This is a big part of the power of Aqua. The Aqua team spends time making the components broadly compatable, so experimentation is cheap and easy."
      ]
    },
    {
      "cell_type": "code",
      "metadata": {
        "id": "AGDe088_XtYh",
        "colab_type": "code",
        "colab": {}
      },
      "source": [
        "aqua_dict = {\n",
        "    'problem': {'name': 'ising', 'random_seed': 10598},\n",
        "    'algorithm': {'name': 'VQE','operator_mode': 'matrix'},\n",
        "    'optimizer': {'name': 'SLSQP'},\n",
        "    'variational_form': {'name': 'RY','depth': 5,'entanglement': 'linear'},\n",
        "    'backend': {'name': 'statevector_simulator'}\n",
        "}\n",
        "\n",
        "result = run_algorithm(aqua_dict, algo_input)\n",
        "\n",
        "x = max_cut.sample_most_likely(result['eigvecs'][0])\n",
        "print('energy:', result['energy'])\n",
        "print('time:', result['eval_time'])\n",
        "print('maxcut objective:', result['energy'] + offset)\n",
        "print('solution:', max_cut.get_graph_solution(x))\n",
        "print('solution objective:', max_cut.max_cut_value(x, w))\n",
        "\n",
        "sol = max_cut.get_graph_solution(x)\n",
        "sol"
      ],
      "execution_count": 0,
      "outputs": []
    },
    {
      "cell_type": "markdown",
      "metadata": {
        "slideshow": {
          "slide_type": "fragment"
        },
        "colab_type": "text",
        "id": "EeHxFeE6MjRL"
      },
      "source": [
        "Empirical notes on optimizers:\n",
        "* COBYLA is a generally good global optimizer, especially in situations when you do not have a good starting point\n",
        "* SLSQP (Sequential Least Squares Programming) is very good when you have a good starting point, and the error surface can be approximated in small cavities by quadratic functions\n",
        "* SPSA is generally resilient to noise, so almost always the first choise for running on the hardware or noisy simulations"
      ]
    },
    {
      "cell_type": "markdown",
      "metadata": {
        "id": "kX_63lYJX7Vr",
        "colab_type": "text"
      },
      "source": [
        "Now let's try a new variational form:"
      ]
    },
    {
      "cell_type": "code",
      "metadata": {
        "id": "goQUxVDBX9o-",
        "colab_type": "code",
        "colab": {}
      },
      "source": [
        "aqua_dict = {\n",
        "    'problem': {'name': 'ising', 'random_seed': 10598},\n",
        "    'algorithm': {'name': 'VQE','operator_mode': 'matrix'},\n",
        "    'optimizer': {'name': 'SLSQP'},\n",
        "    'variational_form': {'name': 'RYRZ','depth': 5,'entanglement': 'linear'},\n",
        "    'backend': {'name': 'statevector_simulator'}\n",
        "}\n",
        "\n",
        "result = run_algorithm(aqua_dict, algo_input)\n",
        "\n",
        "x = max_cut.sample_most_likely(result['eigvecs'][0])\n",
        "print('energy:', result['energy'])\n",
        "print('time:', result['eval_time'])\n",
        "print('maxcut objective:', result['energy'] + offset)\n",
        "print('solution:', max_cut.get_graph_solution(x))\n",
        "print('solution objective:', max_cut.max_cut_value(x, w))\n",
        "\n",
        "sol = max_cut.get_graph_solution(x)\n",
        "sol"
      ],
      "execution_count": 0,
      "outputs": []
    },
    {
      "cell_type": "markdown",
      "metadata": {
        "id": "fUmUFDgqYDwo",
        "colab_type": "text"
      },
      "source": [
        "That seemed to work worse. We can also increase variational form depth:"
      ]
    },
    {
      "cell_type": "code",
      "metadata": {
        "id": "UX022BiNYF7A",
        "colab_type": "code",
        "colab": {}
      },
      "source": [
        "aqua_dict = {\n",
        "    'problem': {'name': 'ising', 'random_seed': 10598},\n",
        "    'algorithm': {'name': 'VQE','operator_mode': 'matrix'},\n",
        "    'optimizer': {'name': 'SLSQP'},\n",
        "    'variational_form': {'name': 'RY','depth': 8,'entanglement': 'linear'},\n",
        "    'backend': {'name': 'statevector_simulator'}\n",
        "}\n",
        "\n",
        "result = run_algorithm(aqua_dict, algo_input)\n",
        "\n",
        "x = max_cut.sample_most_likely(result['eigvecs'][0])\n",
        "print('energy:', result['energy'])\n",
        "print('time:', result['eval_time'])\n",
        "print('maxcut objective:', result['energy'] + offset)\n",
        "print('solution:', max_cut.get_graph_solution(x))\n",
        "print('solution objective:', max_cut.max_cut_value(x, w))\n",
        "\n",
        "sol = max_cut.get_graph_solution(x)\n",
        "sol"
      ],
      "execution_count": 0,
      "outputs": []
    },
    {
      "cell_type": "markdown",
      "metadata": {
        "id": "hXzVrcfMYWlr",
        "colab_type": "text"
      },
      "source": [
        "In many cases we can even swap out the **algorithm**:"
      ]
    },
    {
      "cell_type": "code",
      "metadata": {
        "id": "1DSOFfHhYbP0",
        "colab_type": "code",
        "colab": {}
      },
      "source": [
        "aqua_dict = {\n",
        "    'problem': {'name': 'ising', 'random_seed': 10598},\n",
        "    'algorithm': {'name': 'QAOA.Variational','operator_mode': 'matrix', 'p':2},\n",
        "    'optimizer': {'name': 'COBYLA'},\n",
        "    'backend': {'name': 'statevector_simulator'}\n",
        "}\n",
        "\n",
        "result = run_algorithm(aqua_dict, algo_input)\n",
        "\n",
        "x = max_cut.sample_most_likely(result['eigvecs'][0])\n",
        "print('energy:', result['energy'])\n",
        "print('time:', result['eval_time'])\n",
        "print('maxcut objective:', result['energy'] + offset)\n",
        "print('solution:', max_cut.get_graph_solution(x))\n",
        "print('solution objective:', max_cut.max_cut_value(x, w))\n",
        "\n",
        "sol = max_cut.get_graph_solution(x)\n",
        "sol"
      ],
      "execution_count": 0,
      "outputs": []
    },
    {
      "cell_type": "markdown",
      "metadata": {
        "slideshow": {
          "slide_type": "slide"
        },
        "id": "iJYCtedBJu1e",
        "colab_type": "text"
      },
      "source": [
        "# Interfaces: Dictionary vs. Declaration\n",
        "\n",
        "The form above relies on a dictionary to construct the Aqua components, and is convenient for many use cases. The dictionary allows you to experiment with low-risk changes to the algorithm in a cheap and straightforward way. \n",
        "\n",
        "In addition, objects can be constructed explicitly via imports and constructors. This allows you to reuse or modify components more daringly, and most algorithms developers eventully take this route for many parts of their work."
      ]
    },
    {
      "cell_type": "markdown",
      "metadata": {
        "slideshow": {
          "slide_type": "slide"
        },
        "id": "9B0YZuQQJu1f",
        "colab_type": "text"
      },
      "source": [
        "# Quick Demo: Aqua UI\n",
        "\n",
        "_Note: The following shell command can only be run locally_"
      ]
    },
    {
      "cell_type": "code",
      "metadata": {
        "id": "NmbGfrAYJu1g",
        "colab_type": "code",
        "colab": {}
      },
      "source": [
        "!qiskit_aqua_ui"
      ],
      "execution_count": 0,
      "outputs": []
    },
    {
      "cell_type": "markdown",
      "metadata": {
        "slideshow": {
          "slide_type": "slide"
        },
        "id": "o84OwBzOJu1h",
        "colab_type": "text"
      },
      "source": [
        "# Other Neat Stuff\n",
        "\n",
        "Aqua has many core algorithms, including:\n",
        "* VQE\n",
        "* QAOA\n",
        "* QPE/iterativeQPE\n",
        "* Hamiltonian Evolution\n",
        "* Quantum-Kernel SVM\n",
        "* Variational SVM\n",
        "* Grover’s"
      ]
    },
    {
      "cell_type": "markdown",
      "metadata": {
        "slideshow": {
          "slide_type": "slide"
        },
        "id": "P-Y4A24dJu13",
        "colab_type": "text"
      },
      "source": [
        "# Tips and tricks (Basically the same as Terra...)\n",
        "\n",
        "* Put many circuits into a single execution!\n",
        "  * Simulators will (generally) execute these in parallel\n",
        "  * Quantum Hardware does a lot of calibration for each new job, so if you send 100 jobs it will generally take 100x as long as one job with 100 circuits, even if the circuits are completely different!\n",
        "* The “qasm_simulator” (cpp) backend fails gracefully over to the “qasm_simulator_py,” which is ~5x slower!\n",
        "  * (ctrl-f for 'failing gracefully')\n",
        "* Consider commenting out Qobj validation if you need more speed in an iterative algo, but don’t tell anyone who told you so!\n",
        "* Use an IDE!! A lot of people at IBM use Pycharm. Being able to step through the code is critical!\n",
        "* Look at the debug log messages. There is a ton of important info in there. See notebook here\n",
        "  * Even better, save them to a file."
      ]
    },
    {
      "cell_type": "code",
      "metadata": {
        "slideshow": {
          "slide_type": "fragment"
        },
        "id": "jWmCG1kNJu14",
        "colab_type": "code",
        "colab": {}
      },
      "source": [
        "import logging\n",
        "logging.getLogger('qiskit').setLevel(logging.DEBUG)"
      ],
      "execution_count": 0,
      "outputs": []
    },
    {
      "cell_type": "markdown",
      "metadata": {
        "slideshow": {
          "slide_type": "fragment"
        },
        "id": "fQzpyP3OJu16",
        "colab_type": "text"
      },
      "source": [
        "Redirecting logs to a file:\n",
        "\n",
        "```\n",
        "# Redirecting debug logs to a file (can't be done in colab):\n",
        "    loggerc = logging.getLogger('qiskit_chemistry')\n",
        "    loggerc.setLevel(logging.DEBUG)\n",
        "    loggera = logging.getLogger('qiskit_aqua')\n",
        "    loggera.setLevel(logging.DEBUG)\n",
        "    loggerq = logging.getLogger('qiskit')\n",
        "    loggerq.setLevel(logging.DEBUG)\n",
        "    formatter = logging.Formatter(fmt='%(asctime)s %(levelname)-8s %(message)s', datefmt='%Y-%m-%d %H:%M:%S')\n",
        "    hdlr = logging.FileHandler(outdir + log_file_name, mode='w')\n",
        "    hdlr.setFormatter(formatter)\n",
        "    loggerc.addHandler(hdlr)\n",
        "    loggera.addHandler(hdlr)\n",
        "    loggerq.addHandler(hdlr)\n",
        "    print('\\nlog file: {}'.format(outdir + log_file_name))\n",
        "# <build, execute, etc.>\n",
        "# close up handlers\n",
        "    loggerc.removeHandler(hdlr)\n",
        "    loggera.removeHandler(hdlr)\n",
        "    loggerq.removeHandler(hdlr)\n",
        "    hdlr.close()\n",
        "```"
      ]
    },
    {
      "cell_type": "markdown",
      "metadata": {
        "slideshow": {
          "slide_type": "slide"
        },
        "id": "WH334muVJu16",
        "colab_type": "text"
      },
      "source": [
        "# Part IV: Qiskit Chemistry"
      ]
    },
    {
      "cell_type": "markdown",
      "metadata": {
        "slideshow": {
          "slide_type": "slide"
        },
        "id": "H7HqVlm7Ju17",
        "colab_type": "text"
      },
      "source": [
        "# Qiskit Chemistry is a Convenient Wrapper Around Aqua and Popular Chemistry Drivers\n",
        "\n",
        "* Qiskit Chemistry is an even more practitioner-centric tool, specifically for Chemists\n",
        "* It includes two other component buckets that are not in Aqua: Chemistry drivers, and mappings (Jordan-Wigner, Bravyi-Kitaev, parity, etc.)\n",
        "* The interfaces look very similar to Aqua - instantiation with a dictionary, or a standalone UI, etc.\n",
        "* The core service of Qiskit Chemistry is to prepare all of the required calculations for the hamiltonian and other important observables before attempting to do Chemistry simulation or eigendecomposition in Aqua\n"
      ]
    },
    {
      "cell_type": "code",
      "metadata": {
        "slideshow": {
          "slide_type": "fragment"
        },
        "id": "M76DzsddJu18",
        "colab_type": "code",
        "colab": {}
      },
      "source": [
        "!pip install qiskit-chemistry\n",
        "!pip install pyscf"
      ],
      "execution_count": 0,
      "outputs": []
    },
    {
      "cell_type": "code",
      "metadata": {
        "slideshow": {
          "slide_type": "fragment"
        },
        "id": "Je56m3wBJu1_",
        "colab_type": "code",
        "colab": {}
      },
      "source": [
        "import numpy as np\n",
        "import pylab\n",
        "from qiskit.chemistry import QiskitChemistry"
      ],
      "execution_count": 0,
      "outputs": []
    },
    {
      "cell_type": "markdown",
      "metadata": {
        "slideshow": {
          "slide_type": "slide"
        },
        "id": "B3oCHKswJu2A",
        "colab_type": "text"
      },
      "source": [
        "# Most Important Thing to Grasp - the Execution Flow:\n",
        "\n",
        "* Qiskit Chemistry discovers components and reads config dictionaries\n",
        "* Most fancy Chemistry package features are allowed, like orbital removal, qubit tapering, core freezing, etc.\n",
        "* Calls Chemistry Drivers to calculate single and double excitation integrals\n",
        "* Uses mapping to create a hamiltonian circuit out of operators for each excitation\n",
        "* Calls VQE in Aqua to find eigenstates of the hamiltonian (e.g. ground state energy)\n",
        "  * Also passes aux_ops (auxiliary operators) for Aqua to calculate at the end: spin, particle number, dipole moment, etc.\n",
        "* Aqua creates an “evaluate_energy” function which: \n",
        "  * Takes in a scalar parameter list, creates a variational form (UCCSD, RyRz, Swap-Rz, your own, etc.) parameterized by the list\n",
        "  * Executes the variational circuit + the hamiltonian circuit (or does math in the background to simulate the result quickly without sending the full circuit to the simulator)\n",
        "  * Returns the resulting energy of the system\n",
        "* Aqua instantiates an optimizer, and passes the energy function as the cost function to minimize\n",
        "  * Use COBYLA if running on statevector simulator, SPSA if running on shot-based (qasm) because it performs well in the presence of noise\n",
        "* The optimizer minimizes the energy, and returns the optimal parameters when complete\n",
        "* Aqua re-creates the ground state with the optimal params, and calculates and returns the ground state energy and auxiliary operators"
      ]
    },
    {
      "cell_type": "markdown",
      "metadata": {
        "slideshow": {
          "slide_type": "slide"
        },
        "id": "F_lB_qU8Ju2A",
        "colab_type": "text"
      },
      "source": [
        "Let's start with a simple example, sodium hydride NaH:"
      ]
    },
    {
      "cell_type": "code",
      "metadata": {
        "slideshow": {
          "slide_type": "fragment"
        },
        "id": "XzKP_afCJu2B",
        "colab_type": "code",
        "colab": {}
      },
      "source": [
        "qiskit_chemistry_dict = {\n",
        "    'driver': {'name': 'PYSCF'},\n",
        "    'PYSCF': {'atom': 'H .0 .0 .0; Na .0 .0 1.1', 'basis': 'sto3g'},\n",
        "    'operator': {'name': 'hamiltonian', 'qubit_mapping': 'parity',\n",
        "                 'two_qubit_reduction': True, 'freeze_core': True, 'orbital_reduction': [-3, -2]},\n",
        "    'algorithm': {'name': 'VQE'},\n",
        "    'optimizer': {'name': 'COBYLA', 'maxiter': 10000 },\n",
        "    'variational_form': {'name': 'RYRZ'},\n",
        "    'initial_state': {'name': 'HartreeFock'},\n",
        "    'backend': {'name': 'statevector_simulator'}\n",
        "}\n",
        "\n",
        "solver = QiskitChemistry()\n",
        "result = solver.run(qiskit_chemistry_dict)"
      ],
      "execution_count": 0,
      "outputs": []
    },
    {
      "cell_type": "code",
      "metadata": {
        "slideshow": {
          "slide_type": "fragment"
        },
        "id": "LVTrvrmAJu2C",
        "colab_type": "code",
        "colab": {}
      },
      "source": [
        "for line in result['printable']:\n",
        "    print(line)"
      ],
      "execution_count": 0,
      "outputs": []
    },
    {
      "cell_type": "markdown",
      "metadata": {
        "slideshow": {
          "slide_type": "slide"
        },
        "id": "AhmZ_xeMJu2E",
        "colab_type": "text"
      },
      "source": [
        "Now, let's plot the full dissociation profile for LiH (this will take a while - maybe over 20 minutes). Notice, on line 43, that we reuse the optimal parameters from a given point as the initial parameters when we begin the following point. This gives us adiabatic-ish effects without having to run at extremely small distance steps.\n",
        "\n",
        "Based on [this notebook](https://github.com/Qiskit/qiskit-tutorial/blob/master/qiskit/aqua/chemistry/dissociation_profile_of_molecule.ipynb) by Mezzacapo et al."
      ]
    },
    {
      "cell_type": "code",
      "metadata": {
        "id": "jEROcwVtJu2E",
        "colab_type": "code",
        "colab": {}
      },
      "source": [
        "import numpy as np\n",
        "import pylab\n",
        "from qiskit.chemistry import QiskitChemistry\n",
        "\n",
        "# Input dictionary to configure Qiskit Chemistry for the chemistry problem.\n",
        "qiskit_chemistry_dict = {\n",
        "    'driver': {'name': 'PYSCF'},\n",
        "    'PYSCF': {'atom': '', 'basis': 'sto3g'},\n",
        "    'operator': {'name': 'hamiltonian', 'qubit_mapping': 'parity',\n",
        "                 'two_qubit_reduction': True, 'freeze_core': True, 'orbital_reduction': [-3, -2]},\n",
        "    'algorithm': {'name': ''},\n",
        "    'optimizer': {'name': 'COBYLA', 'maxiter': 10000 },\n",
        "    'variational_form': {'name': 'RYRZ'},\n",
        "    'initial_state': {'name': 'HartreeFock'},\n",
        "    'backend': {'name': 'statevector_simulator'}\n",
        "}\n",
        "molecule = 'H .0 .0 -{0}; Li .0 .0 {0}'\n",
        "algorithms = [{'name': 'VQE'}]\n",
        "\n",
        "pts = np.around(np.arange(.8, 2.2, .1), decimals = 2)\n",
        "energies = np.empty([len(algorithms), len(pts)])\n",
        "hf_energies = np.empty(len(pts))\n",
        "distances = np.empty(len(pts))\n",
        "eval_counts = np.zeros([len(algorithms), len(pts)], dtype=np.intp)\n",
        "\n",
        "print('Processing step __', end='')\n",
        "for i, d in enumerate(pts):\n",
        "    print('\\b\\b{:2d}'.format(i), end='', flush=True)\n",
        "    qiskit_chemistry_dict['PYSCF']['atom'] = molecule.format(d/2) \n",
        "    for j in range(len(algorithms)):\n",
        "        qiskit_chemistry_dict['algorithm'] = algorithms[j] \n",
        "        solver = QiskitChemistry()\n",
        "        result = solver.run(qiskit_chemistry_dict)\n",
        "        energies[j][i] = result['energy']\n",
        "        hf_energies[i] = result['hf_energy']\n",
        "        if algorithms[j]['name'] == 'VQE':\n",
        "            eval_counts[j][i] = result['algorithm_retvals']['eval_count']\n",
        "            if j == 1:\n",
        "                algorithms[j]['initial_point'] = result['algorithm_retvals']['opt_params']\n",
        "    distances[i] = d\n",
        "print(' --- complete')"
      ],
      "execution_count": 0,
      "outputs": []
    },
    {
      "cell_type": "code",
      "metadata": {
        "slideshow": {
          "slide_type": "slide"
        },
        "id": "GnPjd_7KJu2F",
        "colab_type": "code",
        "colab": {}
      },
      "source": [
        "print('Distances: ', distances)\n",
        "print('Energies:', energies)\n",
        "print('Hartree-Fock energies:', hf_energies)\n",
        "print('VQE num evaluations:', eval_counts)"
      ],
      "execution_count": 0,
      "outputs": []
    },
    {
      "cell_type": "markdown",
      "metadata": {
        "slideshow": {
          "slide_type": "fragment"
        },
        "id": "2SKf7u9SJu2G",
        "colab_type": "text"
      },
      "source": [
        "# Tips!\n",
        "\n",
        "* The examples above are somewhat naive, there are techniques to improve them by several orders of magnitude\n",
        "* $|\\text{Spin orbitals}| \\approx |\\text{qubits}|$ - if you increase the size of the molecule or basis, your classical execution time increases exponentially\n",
        "* You don’t need to use VQE to find eigenstates! You can use QPE, QAOA, or whatever else\n",
        "* Your initial point matters a lot. The way you move along a dissociation curve can dictate the fate of your resutlts.\n",
        "* UCCSD is nice but it will not be runnable on Quantum hardware for a long time.\n",
        "* Optimization over non-convex high-dimensional error surfaces is hard. I am sorry about that."
      ]
    }
  ]
}