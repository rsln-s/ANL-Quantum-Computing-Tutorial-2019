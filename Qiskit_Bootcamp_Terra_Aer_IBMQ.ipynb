{
  "nbformat": 4,
  "nbformat_minor": 0,
  "metadata": {
    "colab": {
      "name": "Copy of Qiskit_Bootcamp_Terra_Aer_IBMQ.ipynb",
      "version": "0.3.2",
      "provenance": []
    },
    "language_info": {
      "codemirror_mode": {
        "name": "ipython",
        "version": 3
      },
      "file_extension": ".py",
      "mimetype": "text/x-python",
      "name": "python",
      "nbconvert_exporter": "python",
      "pygments_lexer": "ipython3",
      "version": "3.6.5"
    },
    "kernelspec": {
      "display_name": "code",
      "language": "python",
      "name": "code"
    }
  },
  "cells": [
    {
      "cell_type": "markdown",
      "metadata": {
        "slideshow": {
          "slide_type": "skip"
        },
        "id": "pTPi-5h5h3QV",
        "colab_type": "text"
      },
      "source": [
        "# [Qiskit Bootcamp Part 0: Introduction to Qiskit and IBM Q](https://docs.google.com/presentation/d/1Y--23RhBtemLSxkFG40uhmMKpX-QJw6xL9WpA1ZUq2s/edit#slide=id.p)\n",
        "\n",
        "Note: Search for the 📒emoji to see all the notebooks linked in this deck."
      ]
    },
    {
      "cell_type": "markdown",
      "metadata": {
        "slideshow": {
          "slide_type": "slide"
        },
        "id": "RuUc5I39h3QY",
        "colab_type": "text"
      },
      "source": [
        "![Qiskit](https://github.com/Qiskit/qiskit-tutorials/raw/115c78962dda85bac29d679063b7d0d0ab1d1ab4/images/qiskit-heading.gif)"
      ]
    },
    {
      "cell_type": "markdown",
      "metadata": {
        "slideshow": {
          "slide_type": "-"
        },
        "id": "u4UBXDFEh3QZ",
        "colab_type": "text"
      },
      "source": [
        "# Qiskit Bootcamp Parts I & II: Building and Executing Quantum Circuits with Terra, Aer, & IBM Q\n",
        "\n",
        "donny@ibm.com <br>_23-Apr-19_"
      ]
    },
    {
      "cell_type": "code",
      "metadata": {
        "slideshow": {
          "slide_type": "skip"
        },
        "id": "zahRGYVdh3Qb",
        "colab_type": "code",
        "colab": {}
      },
      "source": [
        "# **Note:** This notebook can be presented as a deck by uncommenting and running:\n",
        "#!jupyter nbconvert ./Qiskit_Bootcamp_Terra.ipynb --to slides --post serve\n",
        "\n",
        "# Or by installing RISE: https://damianavila.github.io/RISE/."
      ],
      "execution_count": 0,
      "outputs": []
    },
    {
      "cell_type": "markdown",
      "metadata": {
        "slideshow": {
          "slide_type": "slide"
        },
        "id": "TBUrA03Uh3Qf",
        "colab_type": "text"
      },
      "source": [
        "# Gameplan\n",
        "\n",
        "* Part I: Constructing and Compiling Circuits in Terra\n",
        "    * Circuit Construction Basics\n",
        "    * Structural Elements\n",
        "    * Compilation Flow, Transpilation\n",
        "* Part II: Executing Circuits on Aer, BasicAer, and IBMQ\n",
        "  * Aer basics\n",
        "    * Ideal simulation\n",
        "    * Noiseless sampling simulation\n",
        "  * IBM Q Basics\n",
        "    * Browsing device info\n",
        "    * Building and executing noise model from device properties\n",
        "    * Executing on quantum hardware\n",
        "* Tips and tricks\n",
        "* Learning More, Resources\n",
        "* Resources for Quantum Algorithm Building Blocks"
      ]
    },
    {
      "cell_type": "markdown",
      "metadata": {
        "slideshow": {
          "slide_type": "slide"
        },
        "id": "CQZOH581h3Qg",
        "colab_type": "text"
      },
      "source": [
        "But first, install Terra, Aer, and IBM Q (and Ignis):"
      ]
    },
    {
      "cell_type": "code",
      "metadata": {
        "slideshow": {
          "slide_type": "fragment"
        },
        "id": "7VVfNUbCh3Qh",
        "colab_type": "code",
        "colab": {}
      },
      "source": [
        "#!pip install qiskit"
      ],
      "execution_count": 0,
      "outputs": []
    },
    {
      "cell_type": "markdown",
      "metadata": {
        "slideshow": {
          "slide_type": "slide"
        },
        "id": "6trkox8Ph3Ql",
        "colab_type": "text"
      },
      "source": [
        "# Part I: Constructing and Compiling Circuits in Terra"
      ]
    },
    {
      "cell_type": "markdown",
      "metadata": {
        "slideshow": {
          "slide_type": "slide"
        },
        "id": "Uy67uqJbh3Qm",
        "colab_type": "text"
      },
      "source": [
        "# What is Terra?\n",
        "\n",
        "Right now (Version ~0.8) Terra’s core service is the construction and compilation of Quantum executables (circuits and pulse schedules) for arbitrary backends\n",
        "   * Terra includes interfaces for the construction of OpenQASM-compliant circuits and OpenPulse-compliant pulse schedules - see the [paper here](https://arxiv.org/abs/1809.03452)\n",
        "   * Terra can take a single circuit or pulse object and compile it to run on any OpenQASM or OpenPulse compliant Quantum hardware or simulator\n",
        "   * Terra also optimizes circuits, and allows for plug-and-play transpilation options\n",
        "   \n",
        "**Today we will only focus on circuits, not pulse schedules, because pulse v0 is being released presently.**"
      ]
    },
    {
      "cell_type": "markdown",
      "metadata": {
        "slideshow": {
          "slide_type": "slide"
        },
        "id": "C2ZjJtCmh3Qn",
        "colab_type": "text"
      },
      "source": [
        "In the future, Terra will include:\n",
        "\n",
        "  * More convenience operations for constructing sophisticated circuits\n",
        "  * Richer set of tools for Quantum Information (Operators, Channels, States, etc.)\n",
        "\n",
        "Keep in mind:\n",
        "\n",
        "  * Terra is not a language per se, but more of a large piece of infrastructure. Some code may seem unnecessary for the one thing you’re doing, but in many cases it’s necessary for Qiskit to be robust.\n",
        "  * Qiskit is very much a work in progress. It is changing rapidly to converge toward the needs of its users. \n",
        "\n",
        "🎉**You are now in the inner circle of people who have a strong voice about the direction of Qiskit.** 🎉"
      ]
    },
    {
      "cell_type": "code",
      "metadata": {
        "slideshow": {
          "slide_type": "slide"
        },
        "id": "hmorx7Fmh3Qo",
        "colab_type": "code",
        "colab": {}
      },
      "source": [
        "# Housekeeping: uncomment this to suppress deprecation warnings\n",
        "import warnings\n",
        "warnings.filterwarnings('ignore')"
      ],
      "execution_count": 0,
      "outputs": []
    },
    {
      "cell_type": "markdown",
      "metadata": {
        "slideshow": {
          "slide_type": "slide"
        },
        "id": "PusWPAlxh3Qs",
        "colab_type": "text"
      },
      "source": [
        "# Structural Elements\n",
        "\n",
        "Let's start building circuits to get acquainted with Terra's structural elements."
      ]
    },
    {
      "cell_type": "code",
      "metadata": {
        "slideshow": {
          "slide_type": "fragment"
        },
        "id": "51hGI2xHh3Qt",
        "colab_type": "code",
        "colab": {}
      },
      "source": [
        "from qiskit import QuantumRegister, ClassicalRegister, QuantumCircuit\n",
        "import numpy as np"
      ],
      "execution_count": 0,
      "outputs": []
    },
    {
      "cell_type": "code",
      "metadata": {
        "slideshow": {
          "slide_type": "fragment"
        },
        "id": "DUd464Gzh3Qw",
        "colab_type": "code",
        "colab": {}
      },
      "source": [
        "# Create a Quantum Register with 3 qubits\n",
        "qr = QuantumRegister(3)\n",
        "\n",
        "# Create a Classical Register with 3 bits\n",
        "# Only necessary if you want to do measurement!\n",
        "cr = ClassicalRegister(3)\n",
        "\n",
        "# Create a Quantum Circuit acting on the qr and cr register\n",
        "bell = QuantumCircuit(qr, cr)"
      ],
      "execution_count": 0,
      "outputs": []
    },
    {
      "cell_type": "markdown",
      "metadata": {
        "slideshow": {
          "slide_type": "slide"
        },
        "id": "9PskhEXqh3Q1",
        "colab_type": "text"
      },
      "source": [
        "# QuantumCircuits are the primary unit of computation in Terra\n",
        "* QuantumCircuits are backend agnostic\n",
        "* They contain 3 instance variables:\n",
        "  * `name` - for referencing the circuit later (e.g. in the results object)\n",
        "  * `data` - a 1d list of tuples containing `Instructions` in the circuit and the registers they act upon\n",
        "  * `regs` - the `QuantumRegisters` and `ClassicalRegisters` in the instructions of the circuit\n",
        "    * Behind the scenes these are mostly labels, they do not have any fancy instance methods\n"
      ]
    },
    {
      "cell_type": "markdown",
      "metadata": {
        "slideshow": {
          "slide_type": "slide"
        },
        "id": "3gntvNiyh3Q2",
        "colab_type": "text"
      },
      "source": [
        "# I highly recommend scrolling through the `QuantumCircuit` module to gain a feel for what it can do:"
      ]
    },
    {
      "cell_type": "code",
      "metadata": {
        "id": "ZdZlGYn8h3Q4",
        "colab_type": "code",
        "colab": {}
      },
      "source": [
        "help(QuantumCircuit)"
      ],
      "execution_count": 0,
      "outputs": []
    },
    {
      "cell_type": "markdown",
      "metadata": {
        "slideshow": {
          "slide_type": "slide"
        },
        "id": "rEB3xz-Uh3Q-",
        "colab_type": "text"
      },
      "source": [
        "# Gates! There are many. And they're called `Instructions`.\n",
        "\n",
        "Qiskit supports many gates. They are located in the `qiskit/extensions/standard directory`, but are loaded in sneakily so you don’t need to import them one by one.\n",
        "\n",
        "The basis gateset of the IBM Q devices is {u1, u2, u3, CX}, so you might find that a lot of code uses u3 for all single-qubit operations, rather than rx, ry, or rz.\n",
        "\n",
        "Gates are technically objects, but in practice you're likely to use them in the form of static functions on the circuit object. Don't go looking for these functions in the QuantumCircuit class, they're dynamically added by each gate module import 🙈. More info on gates [here](https://github.com/Qiskit/qiskit-tutorial/blob/master/qiskit/terra/summary_of_quantum_operations.ipynb) 📒."
      ]
    },
    {
      "cell_type": "markdown",
      "metadata": {
        "slideshow": {
          "slide_type": "slide"
        },
        "id": "sR9QYbm5h3Q_",
        "colab_type": "text"
      },
      "source": [
        "After we add some gates, we can print our circuit's Qasm:"
      ]
    },
    {
      "cell_type": "code",
      "metadata": {
        "slideshow": {
          "slide_type": "fragment"
        },
        "id": "hDPbXz_dh3RA",
        "colab_type": "code",
        "colab": {}
      },
      "source": [
        "# Hadamard gate on qubit 0\n",
        "bell.h(qr[0])\n",
        "\n",
        "# CNOT (Controlled-NOT) gate from qubit 0 to qubit 1\n",
        "bell.cx(qr[0], qr[1])\n",
        "\n",
        "print(bell.qasm())"
      ],
      "execution_count": 0,
      "outputs": []
    },
    {
      "cell_type": "markdown",
      "metadata": {
        "id": "9zLJkWwph3RE",
        "colab_type": "text"
      },
      "source": [
        "Here we've added an H gate to qubit 0 in register `qr`, and a CX gate from qubit 0 to qubit 1 in register `qr`. Composing circuits by adding gates one by one like this can be tedious, and fancier 🎩, more powerful 💪 methods will be arriving in 0.9 (some with most of the groundwork already in 0.8)."
      ]
    },
    {
      "cell_type": "markdown",
      "metadata": {
        "slideshow": {
          "slide_type": "slide"
        },
        "id": "gEgf6ezTh3RF",
        "colab_type": "text"
      },
      "source": [
        "# Seeing what's inside a QuantumCircuit\n",
        "\n",
        "The contents of the circuit sits inside `circuit.data`, but I wouldn't recommend doing much in there. It's considered \"behind the scenes\" and likely to change often (as it just did from 0.7 to 0.8).\n",
        "\n",
        "The standard way to visualize a circuit is to `draw` it (`print(circuit)` also works):"
      ]
    },
    {
      "cell_type": "code",
      "metadata": {
        "slideshow": {
          "slide_type": "fragment"
        },
        "id": "fYDHnBURh3RG",
        "colab_type": "code",
        "colab": {}
      },
      "source": [
        "bell.draw()"
      ],
      "execution_count": 0,
      "outputs": []
    },
    {
      "cell_type": "markdown",
      "metadata": {
        "slideshow": {
          "slide_type": "fragment"
        },
        "id": "vX-2to8oh3RL",
        "colab_type": "text"
      },
      "source": [
        "## Guess what? There's more info about visualizing circuits [here](https://github.com/Qiskit/qiskit-tutorials/blob/master/qiskit/terra/visualizing_a_quantum_circuit.ipynb) 📒"
      ]
    },
    {
      "cell_type": "markdown",
      "metadata": {
        "slideshow": {
          "slide_type": "slide"
        },
        "id": "SBNH1ugMh3RM",
        "colab_type": "text"
      },
      "source": [
        "# What's the deal with Registers?\n",
        "\n",
        "Registers are in a sort of in-between state for the moment. They are useful for grouping qubits, such as making some group \"anc\" and calling `qc.h(anc)` on all anc qubits, or knowing which qubits line up where if you're composing circuits together:"
      ]
    },
    {
      "cell_type": "code",
      "metadata": {
        "id": "Cjubcoroh3RN",
        "colab_type": "code",
        "colab": {}
      },
      "source": [
        "print(bell + bell + bell + bell)"
      ],
      "execution_count": 0,
      "outputs": []
    },
    {
      "cell_type": "markdown",
      "metadata": {
        "id": "IR8GgsQMh3RP",
        "colab_type": "text"
      },
      "source": [
        "But they are also a bit tedious, having to be declared and kept track of all the time. By 0.9, the form factor for constructing and gluing circuits together will be clearer, and registers shouldn't be as in the way."
      ]
    },
    {
      "cell_type": "markdown",
      "metadata": {
        "slideshow": {
          "slide_type": "slide"
        },
        "id": "eDg43MDzh3RQ",
        "colab_type": "text"
      },
      "source": [
        "Now, we already have enough to run the circuit if we like. Let's import a backend, in this case a simulator, and run the circuit."
      ]
    },
    {
      "cell_type": "code",
      "metadata": {
        "slideshow": {
          "slide_type": "fragment"
        },
        "id": "e-tHmiAuh3RR",
        "colab_type": "code",
        "colab": {}
      },
      "source": [
        "from qiskit import Aer, execute\n",
        "qasm_backend = Aer.get_backend('qasm_simulator')\n",
        "\n",
        "job = execute(bell, qasm_backend)\n",
        "\n",
        "result = job.result()\n",
        "result.get_counts(bell)"
      ],
      "execution_count": 0,
      "outputs": []
    },
    {
      "cell_type": "markdown",
      "metadata": {
        "slideshow": {
          "slide_type": "slide"
        },
        "id": "rstRNf3Sh3RW",
        "colab_type": "text"
      },
      "source": [
        "Whoops! We forgot to measure. Let's do that."
      ]
    },
    {
      "cell_type": "code",
      "metadata": {
        "id": "UvMqjHb1h3RY",
        "colab_type": "code",
        "colab": {}
      },
      "source": [
        "bell.measure(qr, cr)\n",
        "\n",
        "job = execute(bell, qasm_backend)\n",
        "\n",
        "result = job.result()\n",
        "result.get_counts(bell)"
      ],
      "execution_count": 0,
      "outputs": []
    },
    {
      "cell_type": "markdown",
      "metadata": {
        "slideshow": {
          "slide_type": "-"
        },
        "id": "q03jOw4Vh3Rc",
        "colab_type": "text"
      },
      "source": [
        "**Note** that Terra .8 treats the rightmost qubit as qubit 0 (!), which is consistent with binary endianness, but slightly counterintuitive."
      ]
    },
    {
      "cell_type": "markdown",
      "metadata": {
        "slideshow": {
          "slide_type": "slide"
        },
        "id": "dAZgqEEIh3Rd",
        "colab_type": "text"
      },
      "source": [
        "# DAGs, Passes, Qobjs, Jobs\n",
        "\n",
        "We've actually skipped a few steps that happen under the hood within `execute`. Let's look at them in more detail. \n",
        "\n",
        "```\n",
        "transpile(circuits, backend=None, basis_gates=None, coupling_map=None,\n",
        "              initial_layout=None, seed_mapper=None, pass_manager=None)\n",
        "```\n",
        "\n",
        "`execute` calls `transpile` on the circuits and a `PassManager` of transpiler passes, which converts the circuit into a Directed Acyclic Graph, or `DAG`, of gates, executes the passes on the `DAG`, and the converts the `DAG` back into a circuit. There are over 30 different passes in Terra and counting, including:\n",
        "* cx_cancellation, optimize_1q_gates\n",
        "* **12** different mapping passes for rearranging qubits to fit on a particular backend, including `NoiseAdaptiveLayout`\n",
        "* Unroller - Unroll to an abitrary (sufficient) basis!\n",
        "   \n",
        "```\n",
        "qobj = assemble_circuits(new_circuits, qobj_header=qobj_header, run_config=run_config) \n",
        "```\n",
        "\n",
        "`execute` then calls `assemble_circuits` to produce a `Qobj`, an object which is executable by OpenQASM-compliant backends. Standard execution settings, such as the number of shots or memory, are packaged in the `Qobj`.\n",
        "\n",
        "```\n",
        "return backend.run(qobj, **kwargs)\n",
        "```\n",
        "\n",
        "Finally, `execute` passes the `Qobj` to the user-specified `backend` object for execution, and returns a `Job`, not the result proper (as some executions can take a long time).\n"
      ]
    },
    {
      "cell_type": "markdown",
      "metadata": {
        "slideshow": {
          "slide_type": "slide"
        },
        "id": "WhISdvjYh3Re",
        "colab_type": "text"
      },
      "source": [
        "As mentioned above, the PassManager is a container of transpiler passes to be executed on the circuit.  It's worthwhile to take a brief look at the default PassManager, which is constructed when `pass_manager=None` in the execute call:\n",
        "```\n",
        "def default_pass_manager(basis_gates, coupling_map, initial_layout,\n",
        "                         skip_numeric_passes, seed_mapper):\n",
        "    \"\"\"\n",
        "    The default pass manager that maps to the coupling map.\n",
        "\n",
        "    Args:\n",
        "        basis_gates (list[str]): list of basis gate names supported by the\n",
        "            target. Default: ['u1','u2','u3','cx','id']\n",
        "        initial_layout (Layout or None): If None, trivial layout will be chosen.\n",
        "        skip_numeric_passes (bool): If true, skip passes which require fixed parameter values\n",
        "        coupling_map (CouplingMap): coupling map (perhaps custom) to target\n",
        "            in mapping.\n",
        "        seed_mapper (int or None): random seed for the swap_mapper.\n",
        "\n",
        "    Returns:\n",
        "        PassManager: A pass manager to map and optimize.\n",
        "    \"\"\"\n",
        "    pass_manager = PassManager()\n",
        "    pass_manager.property_set['layout'] = initial_layout\n",
        "\n",
        "    pass_manager.append(Unroller(basis_gates))\n",
        "\n",
        "    # Use the trivial layout if no layouto is found\n",
        "    pass_manager.append(TrivialLayout(coupling_map),\n",
        "                        condition=lambda property_set: not property_set['layout'])\n",
        "\n",
        "    # if the circuit and layout already satisfy the coupling_constraints, use that layout\n",
        "    # otherwise layout on the most densely connected physical qubit subset\n",
        "    pass_manager.append(CheckMap(coupling_map))\n",
        "    pass_manager.append(DenseLayout(coupling_map),\n",
        "                        condition=lambda property_set: not property_set['is_swap_mapped'])\n",
        "\n",
        "    # Extend the the dag/layout with ancillas using the full coupling map\n",
        "    pass_manager.append(FullAncillaAllocation(coupling_map))\n",
        "    pass_manager.append(EnlargeWithAncilla())\n",
        "\n",
        "    # Swap mapper\n",
        "    pass_manager.append(LegacySwap(coupling_map, trials=20, seed=seed_mapper))\n",
        "\n",
        "    # Expand swaps\n",
        "    pass_manager.append(Decompose(SwapGate))\n",
        "\n",
        "    # Change CX directions\n",
        "    pass_manager.append(CXDirection(coupling_map))\n",
        "\n",
        "    # Unroll to the basis\n",
        "    pass_manager.append(Unroller(['u1', 'u2', 'u3', 'id', 'cx']))\n",
        "\n",
        "    # Simplify single qubit gates and CXs\n",
        "    if not skip_numeric_passes:\n",
        "        simplification_passes = [Optimize1qGates(), CXCancellation()]\n",
        "    else:\n",
        "        simplification_passes = [CXCancellation()]\n",
        "\n",
        "    pass_manager.append(simplification_passes + [Depth(), FixedPoint('depth')],\n",
        "                        do_while=lambda property_set: not property_set['depth_fixed_point'])\n",
        "\n",
        "    return pass_manager\n",
        "```"
      ]
    },
    {
      "cell_type": "markdown",
      "metadata": {
        "slideshow": {
          "slide_type": "slide"
        },
        "id": "UCg6CLLnh3Rf",
        "colab_type": "text"
      },
      "source": [
        "# Notes on Transpilation\n",
        "\n",
        " * You can disable all transpilation (**at your own risk**) by passing an empty pass manager to the execute call\n",
        "   ```\n",
        "   execute(circuits, backend, pass_manager=PassMananger()):\n",
        "   ```\n",
        " * However, backends each accept only a particular set of gates and follow a strict topology for 2-qubit connectivity. For example, the IBM Q backends only accept ['u1', 'u2', 'u3', 'id', 'cx'] gates, and submitting an `RZ` gate will throw an error. If you submit a circuit with 2-qubit gates which are not present on the chip, the backend will yell at you.\n",
        "  * Note that backends will dutifully execute the instructions exactly as specified in the Qobj. As of now there is no further rearranging or unrolling once a `Qobj` is submitted.\n",
        "  * If you are doing fancy things that require less aggressive transpilation, you should probably build a `PassManager` with a restricted set of passes rather than try to hand-compile.\n",
        "\n",
        " * You can call `transpile` yourself and print your circuit if you want to see what the transpiler did!"
      ]
    },
    {
      "cell_type": "code",
      "metadata": {
        "slideshow": {
          "slide_type": "fragment"
        },
        "id": "rzxRKeM7h3Rf",
        "colab_type": "code",
        "colab": {}
      },
      "source": [
        "from qiskit.transpiler import transpile"
      ],
      "execution_count": 0,
      "outputs": []
    },
    {
      "cell_type": "code",
      "metadata": {
        "slideshow": {
          "slide_type": "fragment"
        },
        "id": "TAGnjhEeh3Ri",
        "colab_type": "code",
        "colab": {}
      },
      "source": [
        "chewed_circuit = transpile(bell, backend=qasm_backend, \n",
        "                           basis_gates=['u1','u2','u3','cx','id'], \n",
        "                           coupling_map=[[0, 2], [1, 2]])\n",
        "print(chewed_circuit)"
      ],
      "execution_count": 0,
      "outputs": []
    },
    {
      "cell_type": "markdown",
      "metadata": {
        "slideshow": {
          "slide_type": "slide"
        },
        "id": "lYOCnSIlh3Rm",
        "colab_type": "text"
      },
      "source": [
        "# Execution Settings, All Together Now - a Good Picture of Terra’s robustness"
      ]
    },
    {
      "cell_type": "code",
      "metadata": {
        "id": "3gxv73LFh3Rn",
        "colab_type": "code",
        "colab": {}
      },
      "source": [
        "help(execute)"
      ],
      "execution_count": 0,
      "outputs": []
    },
    {
      "cell_type": "markdown",
      "metadata": {
        "slideshow": {
          "slide_type": "slide"
        },
        "id": "U448V1eLh3Rs",
        "colab_type": "text"
      },
      "source": [
        "# Computational Flow\n",
        "\n",
        "Let's review our running count of Terra's core objects:\n",
        "* QuantumCircuit\n",
        "* QuantumRegister, ClassicalRegister\n",
        "* Instruction\n",
        "* Backend\n",
        "* DAG\n",
        "* Qobj\n",
        "* Job, result\n",
        "\n",
        "And the computational flow of Terra is:\n",
        "* Instructions are added to QuantumCircuits\n",
        "* QuantumCircuits are converted into DAGs, transpiled, and converted back into circuits\n",
        "* Circuits are assembled into Qobjs\n",
        "* Qobjs are sent to backends\n",
        "* Backends return results"
      ]
    },
    {
      "cell_type": "markdown",
      "metadata": {
        "slideshow": {
          "slide_type": "slide"
        },
        "id": "UNXpRuMjh3Rt",
        "colab_type": "text"
      },
      "source": [
        "So far we've run a very vanilla Bell state. Let's do some more interesting things."
      ]
    },
    {
      "cell_type": "code",
      "metadata": {
        "slideshow": {
          "slide_type": "fragment"
        },
        "id": "O1eQoCv5h3Ru",
        "colab_type": "code",
        "colab": {}
      },
      "source": [
        "tele = QuantumCircuit(qr, cr)\n",
        "tele.ry(np.pi/2, qr[0])\n",
        "tele.h(qr[1])\n",
        "tele.cx(qr[1], qr[2])\n",
        "tele.barrier()\n",
        "\n",
        "tele.cx(qr[0], qr[1])\n",
        "tele.h(qr[0])\n",
        "tele.barrier()\n",
        "\n",
        "tele.measure(qr[0], cr[0])\n",
        "tele.measure(qr[1], cr[1])\n",
        "\n",
        "tele.draw()"
      ],
      "execution_count": 0,
      "outputs": []
    },
    {
      "cell_type": "markdown",
      "metadata": {
        "slideshow": {
          "slide_type": "slide"
        },
        "id": "W76iYwMHh3Ry",
        "colab_type": "text"
      },
      "source": [
        "Qiskit allows conditional gates in simulation, but not on the real quantum hardware (yet)."
      ]
    },
    {
      "cell_type": "code",
      "metadata": {
        "slideshow": {
          "slide_type": "fragment"
        },
        "id": "O7t_5d62h3Rz",
        "colab_type": "code",
        "colab": {}
      },
      "source": [
        "tele.z(qr[2]).c_if(cr, 1)\n",
        "tele.x(qr[2]).c_if(cr, 2)\n",
        "tele.y(qr[2]).c_if(cr, 3) # Note that ZX =iY\n",
        "tele.measure(qr[2], cr[2])\n",
        "tele.draw()"
      ],
      "execution_count": 0,
      "outputs": []
    },
    {
      "cell_type": "markdown",
      "metadata": {
        "slideshow": {
          "slide_type": "slide"
        },
        "id": "Qmj8bOsLh3R2",
        "colab_type": "text"
      },
      "source": [
        "You might recognize this as Qauntum Teleportation. You can find a more in depth guide to teleportation in Anna Phan's notebook on the topic, [here](https://github.com/Qiskit/qiskit-tutorial/blob/master/community/terra/qis_intro/teleportation_superdensecoding.ipynb) 📒.\n",
        "\n",
        "Let's see what pops out."
      ]
    },
    {
      "cell_type": "code",
      "metadata": {
        "slideshow": {
          "slide_type": "fragment"
        },
        "id": "ygQhzzYrh3R5",
        "colab_type": "code",
        "colab": {}
      },
      "source": [
        "job = execute(tele, qasm_backend)\n",
        "\n",
        "result = job.result()\n",
        "result.get_counts(tele)"
      ],
      "execution_count": 0,
      "outputs": []
    },
    {
      "cell_type": "markdown",
      "metadata": {
        "slideshow": {
          "slide_type": "slide"
        },
        "id": "RpM33k6oh3R9",
        "colab_type": "text"
      },
      "source": [
        "Maybe this isn't accurate enough to tell what we encoded on qubit 1. Let's increase the number of shots."
      ]
    },
    {
      "cell_type": "code",
      "metadata": {
        "slideshow": {
          "slide_type": "fragment"
        },
        "id": "BfDIOUKmh3R_",
        "colab_type": "code",
        "colab": {}
      },
      "source": [
        "job = execute(tele, qasm_backend, shots = 10000)\n",
        "\n",
        "result = job.result()\n",
        "result.get_counts(tele)"
      ],
      "execution_count": 0,
      "outputs": []
    },
    {
      "cell_type": "markdown",
      "metadata": {
        "slideshow": {
          "slide_type": "slide"
        },
        "id": "5rzc1BnVh3SD",
        "colab_type": "text"
      },
      "source": [
        "Now let's visualize those results as a histogram"
      ]
    },
    {
      "cell_type": "code",
      "metadata": {
        "slideshow": {
          "slide_type": "fragment"
        },
        "id": "oEOwRcwUh3SE",
        "colab_type": "code",
        "colab": {}
      },
      "source": [
        "from qiskit.tools.visualization import plot_histogram"
      ],
      "execution_count": 0,
      "outputs": []
    },
    {
      "cell_type": "code",
      "metadata": {
        "slideshow": {
          "slide_type": "fragment"
        },
        "id": "GS9qUgVPh3SH",
        "colab_type": "code",
        "colab": {}
      },
      "source": [
        "plot_histogram(result.get_counts(tele))"
      ],
      "execution_count": 0,
      "outputs": []
    },
    {
      "cell_type": "markdown",
      "metadata": {
        "slideshow": {
          "slide_type": "slide"
        },
        "id": "NlQAS2-3h3SL",
        "colab_type": "text"
      },
      "source": [
        "And now, calculating the percentage of shots with $|0\\rangle$ measured on qubit 2 (but qubit 0 in our results)."
      ]
    },
    {
      "cell_type": "code",
      "metadata": {
        "slideshow": {
          "slide_type": "fragment"
        },
        "id": "CAr3gdfch3SM",
        "colab_type": "code",
        "colab": {}
      },
      "source": [
        "counts = result.get_counts(tele)\n",
        "qubit3_p0 = sum([v for k, v in counts.items() if k[0]=='0'])/10000\n",
        "qubit3_p0"
      ],
      "execution_count": 0,
      "outputs": []
    },
    {
      "cell_type": "markdown",
      "metadata": {
        "slideshow": {
          "slide_type": "slide"
        },
        "id": "DC1skU4Eh3SO",
        "colab_type": "text"
      },
      "source": [
        "Our probability of finding 0 is 50%, which is correct, because $ry(\\pi / 2)$ should put qubit 0 in the $|+\\rangle$ state. \n",
        "\n",
        "But how do we know that we're not in the $|-\\rangle$ state, or any other state along the equator of the Bloch sphere? Let's use a Hadamard to see whether our phase is correct. We'll need to delete the final measurement and add the Hadamard to do this."
      ]
    },
    {
      "cell_type": "code",
      "metadata": {
        "slideshow": {
          "slide_type": "fragment"
        },
        "id": "5LGJTY8hh3SP",
        "colab_type": "code",
        "colab": {}
      },
      "source": [
        "del(tele.data[-1])\n",
        "tele.h(qr[2])\n",
        "tele.measure(qr[2], cr[2])\n",
        "tele.draw(line_length=200)"
      ],
      "execution_count": 0,
      "outputs": []
    },
    {
      "cell_type": "code",
      "metadata": {
        "slideshow": {
          "slide_type": "fragment"
        },
        "id": "UyM8qGAFh3SS",
        "colab_type": "code",
        "colab": {}
      },
      "source": [
        "shots = 100000\n",
        "job = execute(tele, qasm_backend, shots=shots)\n",
        "\n",
        "result = job.result()\n",
        "result.get_counts(tele)\n",
        "counts = result.get_counts(tele)\n",
        "qubit3_p0 = sum([v for k, v in counts.items() if k[0]=='0'])/100000\n",
        "qubit3_p0"
      ],
      "execution_count": 0,
      "outputs": []
    },
    {
      "cell_type": "markdown",
      "metadata": {
        "slideshow": {
          "slide_type": "fragment"
        },
        "id": "jsym41_Kh3SU",
        "colab_type": "text"
      },
      "source": [
        "Looks like our final state is indeed $|+\\rangle$, because our P($\\langle\\phi|H|0\\rangle$) = 100%. "
      ]
    },
    {
      "cell_type": "markdown",
      "metadata": {
        "slideshow": {
          "slide_type": "slide"
        },
        "id": "mPqrauv4h3SU",
        "colab_type": "text"
      },
      "source": [
        "# Part II: Providers and Backends - Aer, IBM Q, and 3P Providers"
      ]
    },
    {
      "cell_type": "markdown",
      "metadata": {
        "slideshow": {
          "slide_type": "slide"
        },
        "id": "lSl4o6o2h3SW",
        "colab_type": "text"
      },
      "source": [
        "## Our Running Example: Phase Estimation\n",
        "\n",
        "All this talk of checking phases is making me want to check my phases robustly. Let's see if we can work out a small phase estimation function, and sanity check it on simulators before trying it on the quantum hardware. We'll start with a QFT circuit which I've copied out of `qiskit_terra/examples/python/`. I'm also going to use the Pauli X as my controlled unitary, which simplifies things a lot. Then I'll start defining a function to give me my circuit."
      ]
    },
    {
      "cell_type": "code",
      "metadata": {
        "slideshow": {
          "slide_type": "fragment"
        },
        "id": "LDiNkcHph3SX",
        "colab_type": "code",
        "colab": {}
      },
      "source": [
        "def qft(circ, q, n):\n",
        "    \"\"\"n-qubit QFT on q in circ.\"\"\"\n",
        "    for j in range(n):\n",
        "        for k in range(j):\n",
        "            circ.cu1(np.pi / float(2**(j - k)), q[j], q[k])\n",
        "        circ.h(q[j])"
      ],
      "execution_count": 0,
      "outputs": []
    },
    {
      "cell_type": "code",
      "metadata": {
        "slideshow": {
          "slide_type": "fragment"
        },
        "id": "nLklTqUyh3SZ",
        "colab_type": "code",
        "colab": {}
      },
      "source": [
        "#Takes in a circuit with an operator on qubit n and appends the qpe circuit\n",
        "def x_qpe(circ, q, n):\n",
        "    for i in range(n-1):\n",
        "        circ.h(q[i])\n",
        "    for j in range(0, n-1, 2): # Only place a CX^n on every other qubit, because CX^n = I for n even\n",
        "        circ.cx(q[j], q[n-1])\n",
        "    circ.barrier()\n",
        "    qft(circ, q, n-1)"
      ],
      "execution_count": 0,
      "outputs": []
    },
    {
      "cell_type": "markdown",
      "metadata": {
        "slideshow": {
          "slide_type": "slide"
        },
        "id": "wrLQMb7Nh3Sd",
        "colab_type": "text"
      },
      "source": [
        "Now let's build and print a circuit using these functions. Play around with the ancilla number, the operator, the initial state, etc. below, see what happens:"
      ]
    },
    {
      "cell_type": "code",
      "metadata": {
        "slideshow": {
          "slide_type": "-"
        },
        "id": "I_iJEX6Nh3Sd",
        "colab_type": "code",
        "colab": {}
      },
      "source": [
        "# n-1 is the number of ancilla\n",
        "n = 4\n",
        "qr = QuantumRegister(n)\n",
        "cr = ClassicalRegister(n)\n",
        "x_qpe_qc = QuantumCircuit(qr, cr)\n",
        "x_qpe_qc.rx(np.pi/2, qr[n-1])\n",
        "x_qpe_qc.barrier()\n",
        "x_qpe(x_qpe_qc, qr, n)"
      ],
      "execution_count": 0,
      "outputs": []
    },
    {
      "cell_type": "code",
      "metadata": {
        "slideshow": {
          "slide_type": "fragment"
        },
        "id": "O5uxrjHzh3Sf",
        "colab_type": "code",
        "colab": {}
      },
      "source": [
        "x_qpe_qc.draw(line_length=200)"
      ],
      "execution_count": 0,
      "outputs": []
    },
    {
      "cell_type": "markdown",
      "metadata": {
        "id": "QaTWWcOzh3Sk",
        "colab_type": "text"
      },
      "source": [
        "Now that we have our basic algorithm, let's start trying to test and validate it in some quantum execution environments, or **backends**."
      ]
    },
    {
      "cell_type": "markdown",
      "metadata": {
        "slideshow": {
          "slide_type": "slide"
        },
        "id": "Om261Hi1h3Sl",
        "colab_type": "text"
      },
      "source": [
        "# Interlude: Providers and Backends\n",
        "\n",
        "Qiskit offers connectors into three core execution `providers`, each providing several `backends`:\n",
        "\n",
        "* Aer: Qiskit's suite of simulators\n",
        "* BasicAer: Simple and lightweight numpy-based simulators built into Terra for convenience\n",
        "* IBMQ: IBM's Quantum devices, and an HPC simulator\n",
        "\n",
        "In addition, there are several other non-core or 3P providers:\n",
        "* [QCGPU](https://qcgpu.github.io/)\n",
        "* [JKU](https://github.com/Qiskit/qiskit-jku-provider)\n",
        "* [ProjectQ Provider](https://github.com/Qiskit/qiskit-projectq-provider)\n",
        "\n",
        "As we saw above, you ask a provider library for a backend object like this:\n",
        "```\n",
        "Aer.get_backend('statevector_simulator')\n",
        "IBMQ.get_backend('ibmqx4')\n",
        "```"
      ]
    },
    {
      "cell_type": "code",
      "metadata": {
        "slideshow": {
          "slide_type": "fragment"
        },
        "id": "V1xxn22Th3Sm",
        "colab_type": "code",
        "colab": {}
      },
      "source": [
        "from qiskit import IBMQ, Aer, BasicAer"
      ],
      "execution_count": 0,
      "outputs": []
    },
    {
      "cell_type": "markdown",
      "metadata": {
        "slideshow": {
          "slide_type": "slide"
        },
        "id": "eHcgZ0wHh3Sq",
        "colab_type": "text"
      },
      "source": [
        "# Aer and BasicAer Simuators\n",
        "\n",
        "* **qasm_simulator** - cpp simulator, old faithful - a shot-based simulator\n",
        "  * Input: a Qobj and execution config\n",
        "  * Output: a results object containing a dictionary with basis states and shots per state\n",
        "    * {‘00’: 425, ‘01’: 267, ‘11’: 90}\n",
        "  * You can specify a random seed so the probabilistic measurement and noise stays the same\n",
        "  * Noise - In Aer (not BasicAer), includes sophisticated noise models, which you can find more info about [here](https://github.com/Qiskit/qiskit-terra/blob/0.7.0/src/qasm-simulator-cpp/README.md) 📒\n",
        "    * Unfortunately, the noise modelling in Aer does not yet have public documentation.\n",
        "    * **🚨Note that non-noisy simulation runs a single monte carlo to produce the final wavefunction and samples from it randomly to produce counts. For noisy simulation we _do not_ simulate density matrices, so noisy simulation runs one monte carlo per shot and is O(shots) slower than noiseless!**\n",
        "  * `pip install qiskit` comes with binaries for many platforms so you don’t need to compile cpp\n",
        "  * If you’re running on another platform, check out the [Aer contributing file on github](https://github.com/Qiskit/qiskit-aer/blob/master/.github/CONTRIBUTING.md#install-from-source) for make instructions. Like any C++ compilation, it might take some finagling\n",
        "* **statevector_simulator** - This is the qasm_simulator with a statevector snapshot at the end\n",
        "  * Returns a result object containing a dictionary of computational basis states with **complex amplitudes** for each, not counts\n",
        "* **unitary_simulator** - Returns a matrix of your circuit!\n",
        "* **ibmq_qasm_simulator** - a public simulator on an HPC machine run by IBM (Note, this is under the `IBMQ Provider`)"
      ]
    },
    {
      "cell_type": "code",
      "metadata": {
        "slideshow": {
          "slide_type": "fragment"
        },
        "id": "XqeoQu7Ih3Sq",
        "colab_type": "code",
        "colab": {}
      },
      "source": [
        "backend = Aer.get_backend(\"qasm_simulator\")\n",
        "print(backend)"
      ],
      "execution_count": 0,
      "outputs": []
    },
    {
      "cell_type": "markdown",
      "metadata": {
        "slideshow": {
          "slide_type": "slide"
        },
        "id": "vUXNy6RXh3St",
        "colab_type": "text"
      },
      "source": [
        "## The Qunatum Algorithm Testing Flow\n",
        "\n",
        "Most of our researchers follow a sort of backend-execution-difficulty continuum as we're testing new algorithms and applications.\n",
        "1. We start by testing on the statevector_simulator to verify that the algorithm works in the most idealized possible environment, and with high transparency if something is wrong\n",
        "1. Then we test on the qasm_simulator with no noise, to validate that the algoirthm works in the presence of sampling noise, but not simulated physical noise. This helps us distinguish between possible sources of error. If we also tested with simulated physical noise at this stage, we'd be unable to tell whether any issues were rooted in sampling noise or physical noise.\n",
        "1. Next we test in simulation with basic noise models, in most cases to obtain a very rough read of whether to spend time running on quantum hardware (because this is quite slow).\n",
        "1. Finally we test our algorithm on Quantum hardware."
      ]
    },
    {
      "cell_type": "markdown",
      "metadata": {
        "slideshow": {
          "slide_type": "slide"
        },
        "id": "VhIX0XGsh3St",
        "colab_type": "text"
      },
      "source": [
        "## Putting Our Phase Estimation Circuit Through the Gauntlet:"
      ]
    },
    {
      "cell_type": "markdown",
      "metadata": {
        "slideshow": {
          "slide_type": "-"
        },
        "id": "goeSceWzh3Su",
        "colab_type": "text"
      },
      "source": [
        "First, we'll run on the statevector simulator to verify that the core of our algorithm works in the ideal case, where complete state is preserved and no noise is present, including shot noise."
      ]
    },
    {
      "cell_type": "code",
      "metadata": {
        "slideshow": {
          "slide_type": "fragment"
        },
        "id": "i4YX5ROCh3Sv",
        "colab_type": "code",
        "colab": {}
      },
      "source": [
        "sv_backend = BasicAer.get_backend('statevector_simulator')\n",
        "print(sv_backend)"
      ],
      "execution_count": 0,
      "outputs": []
    },
    {
      "cell_type": "code",
      "metadata": {
        "slideshow": {
          "slide_type": "fragment"
        },
        "id": "vt5JeSCWh3Sy",
        "colab_type": "code",
        "colab": {}
      },
      "source": [
        "job = execute(x_qpe_qc, sv_backend)\n",
        "\n",
        "result = job.result()\n",
        "amps = result.get_statevector(x_qpe_qc)\n",
        "probs = np.absolute(amps)**2\n",
        "probs_anc = probs[0:2**(n-1)] + probs[2**(n-1):]\n",
        "angles = probs_anc * range(0, 2**(n-1)) / (2**(n-1))\n",
        "res = 2*sum(angles)\n",
        "np.around(res, decimals=5)"
      ],
      "execution_count": 0,
      "outputs": []
    },
    {
      "cell_type": "markdown",
      "metadata": {
        "id": "CEz_7c25h3S0",
        "colab_type": "text"
      },
      "source": [
        "This is saying that our algorithm estimates the phase difference between $ry(\\pi/2)|0\\rangle$ and $X ry(\\pi/2)|0\\rangle$ to be $.5*2\\pi$, or just $\\pi$. We know this to be correct by thinking about the Bloch sphere."
      ]
    },
    {
      "cell_type": "markdown",
      "metadata": {
        "slideshow": {
          "slide_type": "slide"
        },
        "id": "-cp62dGKh3S0",
        "colab_type": "text"
      },
      "source": [
        "Let's also run our single unitary on the statevector simulator to check that we have the right phase difference."
      ]
    },
    {
      "cell_type": "code",
      "metadata": {
        "slideshow": {
          "slide_type": "fragment"
        },
        "id": "ZKdmQqkjh3S1",
        "colab_type": "code",
        "colab": {}
      },
      "source": [
        "x_qr = QuantumRegister(1)\n",
        "x_cr = ClassicalRegister(1)\n",
        "x_circuit = QuantumCircuit(x_qr, x_cr)\n",
        "x_circuit.rx(np.pi/2, x_qr[0])\n",
        "job = execute(x_circuit, sv_backend)\n",
        "\n",
        "result = job.result()\n",
        "angles = np.angle(result.get_statevector(x_circuit))/(2*np.pi)\n",
        "p0 = angles[1] - angles[0]\n",
        "\n",
        "x_circuit.x(x_qr[0])\n",
        "job = execute(x_circuit, sv_backend)\n",
        "\n",
        "result = job.result()\n",
        "angles = np.angle(result.get_statevector(x_circuit))/(2*np.pi)\n",
        "p1 = angles[1] - angles[0]\n",
        "\n",
        "difference = p1-p0\n",
        "\n",
        "res = difference if difference > 0 else difference+1\n",
        "res"
      ],
      "execution_count": 0,
      "outputs": []
    },
    {
      "cell_type": "markdown",
      "metadata": {
        "slideshow": {
          "slide_type": "fragment"
        },
        "id": "_J1EgoEyh3S7",
        "colab_type": "text"
      },
      "source": [
        "👍"
      ]
    },
    {
      "cell_type": "markdown",
      "metadata": {
        "slideshow": {
          "slide_type": "slide"
        },
        "id": "HV3WcEezh3S8",
        "colab_type": "text"
      },
      "source": [
        "Now let's introduce shot noise by running on the qasm_simulator:"
      ]
    },
    {
      "cell_type": "code",
      "metadata": {
        "slideshow": {
          "slide_type": "fragment"
        },
        "id": "6Sy8XZxMh3S9",
        "colab_type": "code",
        "colab": {}
      },
      "source": [
        "qasm_backend = Aer.get_backend('qasm_simulator')"
      ],
      "execution_count": 0,
      "outputs": []
    },
    {
      "cell_type": "markdown",
      "metadata": {
        "slideshow": {
          "slide_type": "fragment"
        },
        "id": "vEcMhaLCh3S_",
        "colab_type": "text"
      },
      "source": [
        "Don't forget to measure! Recall that we don't measure our $|u\\rangle$ qubit."
      ]
    },
    {
      "cell_type": "code",
      "metadata": {
        "slideshow": {
          "slide_type": "fragment"
        },
        "id": "vrvc17-Zh3TA",
        "colab_type": "code",
        "colab": {}
      },
      "source": [
        "x_qpe_qc.barrier()\n",
        "for i in range(n-1):\n",
        "    x_qpe_qc.measure(qr[i], cr[i])"
      ],
      "execution_count": 0,
      "outputs": []
    },
    {
      "cell_type": "code",
      "metadata": {
        "slideshow": {
          "slide_type": "fragment"
        },
        "id": "gQaeRNowh3TC",
        "colab_type": "code",
        "colab": {}
      },
      "source": [
        "shots = 10000\n",
        "job = execute(x_qpe_qc, qasm_backend, shots = shots)\n",
        "\n",
        "result = job.result()\n",
        "counts = result.get_counts(x_qpe_qc)\n",
        "angles = np.array([v*int(k, 2) for k, v in counts.items()]) / shots / 2**(n-1)\n",
        "res = 2*sum(angles)\n",
        "np.around(res, decimals=5)"
      ],
      "execution_count": 0,
      "outputs": []
    },
    {
      "cell_type": "code",
      "metadata": {
        "slideshow": {
          "slide_type": "slide"
        },
        "id": "iVPSt_83h3TH",
        "colab_type": "code",
        "colab": {}
      },
      "source": [
        "plot_histogram(counts)"
      ],
      "execution_count": 0,
      "outputs": []
    },
    {
      "cell_type": "markdown",
      "metadata": {
        "slideshow": {
          "slide_type": "-"
        },
        "id": "zqjsHRsKh3TN",
        "colab_type": "text"
      },
      "source": [
        "Not bad - but this only includes shot noise. Let's introduce some physical noise into the simulation based on the callibration data from a real device."
      ]
    },
    {
      "cell_type": "markdown",
      "metadata": {
        "slideshow": {
          "slide_type": "slide"
        },
        "id": "mQ1u8Y6fh3TO",
        "colab_type": "text"
      },
      "source": [
        "## The IBMQ Provider: Pulling Device Information and Executing on Quantum Hardware\n",
        "\n",
        "The IBMQ Provider has a few core functionalities:\n",
        "* Providing the IBMQ quantum hardware and cloud simulator backend objects, which include hooks into the APIs necessary to interact with these execution environments\n",
        "* Providing system information for user consumption and for use in transpilation (e.g. coupling map, basis set)\n",
        "* Providing quantum hardware properties based on callibration data\n",
        "\n",
        "To use the Q provider, you'll either get your Q Network API token and URL from the [console](https://q-console.mybluemix.net/) (if you are are a member of the Q Network), or you'll need to get an IBM Q Experience API token from the [Q Experience accounts page](https://quantumexperience.ng.bluemix.net/qx/account/advanced).\n",
        "\n",
        "Below we'll obtain for a hardware backend object, pull some data, build a noise model based on the hardware data, execute a noisy simulation with our model, and finally execute on the real device."
      ]
    },
    {
      "cell_type": "markdown",
      "metadata": {
        "slideshow": {
          "slide_type": "slide"
        },
        "id": "g12eLPFLh3TP",
        "colab_type": "text"
      },
      "source": [
        "### First, load up your Q accounts and pull the list of backends to which you have access (more info [here](https://github.com/Qiskit/qiskit-tutorials/blob/master/qiskit/basics/the_ibmq_provider.ipynb) 📒):"
      ]
    },
    {
      "cell_type": "code",
      "metadata": {
        "id": "sw_qs7d7h3TQ",
        "colab_type": "code",
        "colab": {}
      },
      "source": [
        "# IBMQ.enable_account('<key>')\n",
        "# uncomment this ^^^ and insert your API key. Add a 'url' argument for Q Network users\n",
        "\n",
        "# Or you can use:\n",
        "IBMQ.load_accounts()\n",
        "\n",
        "print(\"Available backends:\")\n",
        "IBMQ.backends()"
      ],
      "execution_count": 0,
      "outputs": []
    },
    {
      "cell_type": "markdown",
      "metadata": {
        "id": "mj03UNQsh3TS",
        "colab_type": "text"
      },
      "source": [
        "Next, let's grab a backend:"
      ]
    },
    {
      "cell_type": "code",
      "metadata": {
        "id": "0a8mFCmdh3TS",
        "colab_type": "code",
        "colab": {}
      },
      "source": [
        "q_backend = IBMQ.get_backend('ibmq_16_melbourne')\n",
        "# NOTE: I used a private device for the executions below"
      ],
      "execution_count": 0,
      "outputs": []
    },
    {
      "cell_type": "markdown",
      "metadata": {
        "slideshow": {
          "slide_type": "slide"
        },
        "id": "dYmhMGtUh3TV",
        "colab_type": "text"
      },
      "source": [
        "# Visualizing Devices, and Pulling Device Info\n",
        "\n",
        "We can pull a relatively large quantity of data about a particular backend from the IBMQ API, but it's very difficult to read. Luckily, Terra has some neat built-in Jupyter magics for browsing this device information, such as qubit error, job queues for public devices, coupling maps, and more. More info [here](https://github.com/Qiskit/qiskit-tutorials/blob/master/qiskit/jupyter/jupyter_backend_tools.ipynb) 📒.\n",
        "\n",
        "Let's start by pulling the raw data just to see what it looks like, and because we'll need it to build our noise model later:"
      ]
    },
    {
      "cell_type": "code",
      "metadata": {
        "id": "4nPJxcFgh3TW",
        "colab_type": "code",
        "colab": {}
      },
      "source": [
        "configuration = q_backend.configuration()\n",
        "print(configuration)"
      ],
      "execution_count": 0,
      "outputs": []
    },
    {
      "cell_type": "code",
      "metadata": {
        "slideshow": {
          "slide_type": "slide"
        },
        "id": "m9OQfvX5h3TZ",
        "colab_type": "code",
        "colab": {}
      },
      "source": [
        "properties = q_backend.properties()\n",
        "print(properties)"
      ],
      "execution_count": 0,
      "outputs": []
    },
    {
      "cell_type": "markdown",
      "metadata": {
        "slideshow": {
          "slide_type": "slide"
        },
        "id": "bnsoUC1Oh3Tc",
        "colab_type": "text"
      },
      "source": [
        "# A Prettier Device Overview\n",
        "\n",
        "Terra's Jupyter tools can display this in human-readable format. Note that explanations of much of the data below can be found in the [Qiskit Backend Specifications for OpenQASM and OpenPulse Experiments](https://arxiv.org/abs/1809.03452) paper."
      ]
    },
    {
      "cell_type": "code",
      "metadata": {
        "slideshow": {
          "slide_type": "-"
        },
        "id": "7rZyf-F0h3Tc",
        "colab_type": "code",
        "colab": {}
      },
      "source": [
        "from qiskit.tools.jupyter import *"
      ],
      "execution_count": 0,
      "outputs": []
    },
    {
      "cell_type": "code",
      "metadata": {
        "slideshow": {
          "slide_type": "slide"
        },
        "id": "5D1aJj4Ph3Td",
        "colab_type": "code",
        "colab": {}
      },
      "source": [
        "%qiskit_backend_overview"
      ],
      "execution_count": 0,
      "outputs": []
    },
    {
      "cell_type": "markdown",
      "metadata": {
        "slideshow": {
          "slide_type": "slide"
        },
        "id": "bCy-6auoh3Th",
        "colab_type": "text"
      },
      "source": [
        "# Diving into a Specific Backend"
      ]
    },
    {
      "cell_type": "code",
      "metadata": {
        "id": "NLYzJmAIh3Th",
        "colab_type": "code",
        "colab": {}
      },
      "source": [
        "%qiskit_backend_monitor q_backend"
      ],
      "execution_count": 0,
      "outputs": []
    },
    {
      "cell_type": "markdown",
      "metadata": {
        "slideshow": {
          "slide_type": "slide"
        },
        "id": "GO2h6jx0h3Tk",
        "colab_type": "text"
      },
      "source": [
        "# Modelling Noise in Aer Based on a Device's Properties\n",
        "\n",
        "Now that we have these properties, we want to create a noise model for the qasm_simulator which closely resembles this device. A new feature in Aer allows you to do just that. Much of the content below is drawn from [this notebook](https://github.com/Qiskit/qiskit-tutorials/blob/master/qiskit/aer/device_noise_simulation.ipynb) 📒."
      ]
    },
    {
      "cell_type": "code",
      "metadata": {
        "slideshow": {
          "slide_type": "-"
        },
        "id": "h9iHNjabh3Tk",
        "colab_type": "code",
        "colab": {}
      },
      "source": [
        "from qiskit.providers.aer import noise"
      ],
      "execution_count": 0,
      "outputs": []
    },
    {
      "cell_type": "code",
      "metadata": {
        "slideshow": {
          "slide_type": "-"
        },
        "id": "qqPgrZyVh3Tm",
        "colab_type": "code",
        "colab": {}
      },
      "source": [
        "# List of gate times for ibmq_14_melbourne device\n",
        "# Note that the None parameter for u1, u2, u3 is because gate\n",
        "# times are the same for all qubits\n",
        "gate_times = [\n",
        "    ('u1', None, 0), ('u2', None, 50), ('u3', None, 100),\n",
        "    ('cx', [1, 0], 478), # I can add gate times for specific couplings, or all couplings\n",
        "    ('cx', [], 400)\n",
        "]\n",
        "\n",
        "# Construct the noise model from backend properties\n",
        "# and custom gate times\n",
        "noise_model = noise.device.basic_device_noise_model(properties, gate_times=gate_times)\n",
        "print(noise_model)"
      ],
      "execution_count": 0,
      "outputs": []
    },
    {
      "cell_type": "markdown",
      "metadata": {
        "slideshow": {
          "slide_type": "slide"
        },
        "id": "5dgxU0NUh3Tp",
        "colab_type": "text"
      },
      "source": [
        "# Executing Our QPE Circuit with Our Noise Model\n",
        "\n",
        "Now, let's use this model to simulate our QPE circuit. Note, this can take a few minutes to run."
      ]
    },
    {
      "cell_type": "code",
      "metadata": {
        "slideshow": {
          "slide_type": "-"
        },
        "id": "VcjXhWb2h3Tp",
        "colab_type": "code",
        "colab": {}
      },
      "source": [
        "shots = 100\n",
        "basis_gates = noise_model.basis_gates\n",
        "\n",
        "# Select the QasmSimulator from the Aer provider\n",
        "simulator = Aer.get_backend('qasm_simulator')\n",
        "coupling_map = configuration.coupling_map\n",
        "\n",
        "# Execute noisy simulation and get counts\n",
        "result_noise = execute(x_qpe_qc, simulator, \n",
        "                       shots=shots,\n",
        "                       noise_model=noise_model,\n",
        "                       coupling_map=coupling_map,\n",
        "                       basis_gates=basis_gates).result()\n",
        "counts_noise = result_noise.get_counts(x_qpe_qc)\n",
        "plot_histogram(counts_noise, title=\"Counts for QPE circuit with depolarizing noise model\")"
      ],
      "execution_count": 0,
      "outputs": []
    },
    {
      "cell_type": "code",
      "metadata": {
        "slideshow": {
          "slide_type": "slide"
        },
        "id": "3TysEhHMh3Tt",
        "colab_type": "code",
        "colab": {}
      },
      "source": [
        "# And now our phase estimate:\n",
        "angles = np.array([v*int(k, 2) for k, v in counts_noise.items()]) / shots / 2**(n-1)\n",
        "res = 2*sum(angles)\n",
        "np.around(res, decimals=5)"
      ],
      "execution_count": 0,
      "outputs": []
    },
    {
      "cell_type": "markdown",
      "metadata": {
        "id": "VnMCscJMh3Tw",
        "colab_type": "text"
      },
      "source": [
        "This is not great (we'll investigate why in a moment), but let's try running on the **Qauntum hardware anyway 🌈**."
      ]
    },
    {
      "cell_type": "markdown",
      "metadata": {
        "slideshow": {
          "slide_type": "slide"
        },
        "id": "Y2PAyMRSh3Tx",
        "colab_type": "text"
      },
      "source": [
        "# Executing on Quantum Hardware\n",
        "\n",
        "### Back again to our circuit:"
      ]
    },
    {
      "cell_type": "code",
      "metadata": {
        "slideshow": {
          "slide_type": "-"
        },
        "id": "tZeUJapXh3Ty",
        "colab_type": "code",
        "colab": {}
      },
      "source": [
        "x_qpe_qc.draw(line_length=200)"
      ],
      "execution_count": 0,
      "outputs": []
    },
    {
      "cell_type": "markdown",
      "metadata": {
        "slideshow": {
          "slide_type": "slide"
        },
        "id": "yOup2NRLh3T0",
        "colab_type": "text"
      },
      "source": [
        "Let's briefly peek at what the transpiler does to the circuit to allow it to execute on our selected device:"
      ]
    },
    {
      "cell_type": "code",
      "metadata": {
        "id": "QBle2aawh3T3",
        "colab_type": "code",
        "colab": {}
      },
      "source": [
        "chewed_x_qpe = transpile(x_qpe_qc, q_backend)\n",
        "chewed_x_qpe.draw(line_length=400)"
      ],
      "execution_count": 0,
      "outputs": []
    },
    {
      "cell_type": "markdown",
      "metadata": {
        "slideshow": {
          "slide_type": "slide"
        },
        "id": "YFJwiBdwh3T7",
        "colab_type": "text"
      },
      "source": [
        "# Now, Executing Our Circuit:"
      ]
    },
    {
      "cell_type": "code",
      "metadata": {
        "slideshow": {
          "slide_type": "-"
        },
        "id": "B-y7Lpo5h3T9",
        "colab_type": "code",
        "colab": {}
      },
      "source": [
        "shots = 8192        # Number of shots to run the program (experiment); maximum is 8192 shots.\n",
        "job_exp = execute(x_qpe_qc, q_backend, shots = shots)"
      ],
      "execution_count": 0,
      "outputs": []
    },
    {
      "cell_type": "code",
      "metadata": {
        "slideshow": {
          "slide_type": "fragment"
        },
        "id": "_hDBdPO9h3T_",
        "colab_type": "code",
        "colab": {}
      },
      "source": [
        "# Check the job status\n",
        "job_exp.status()"
      ],
      "execution_count": 0,
      "outputs": []
    },
    {
      "cell_type": "markdown",
      "metadata": {
        "id": "ibXU-Qz5h3UB",
        "colab_type": "text"
      },
      "source": [
        "# 🚨Note🚨: 'job is actively running' includes waiting in the queue!"
      ]
    },
    {
      "cell_type": "markdown",
      "metadata": {
        "slideshow": {
          "slide_type": "slide"
        },
        "id": "6IyPHHiUh3UB",
        "colab_type": "text"
      },
      "source": [
        "Note that I increase the timeout and wait time below considerably - this is completely necessary. The defaults are way too short."
      ]
    },
    {
      "cell_type": "code",
      "metadata": {
        "slideshow": {
          "slide_type": "fragment"
        },
        "id": "xvGNEz9Xh3UC",
        "colab_type": "code",
        "colab": {}
      },
      "source": [
        "# We recommend increasing the timeout to 30 minutes to avoid timeout errors when the queue is long.\n",
        "result_real = job_exp.result(timeout=3600, wait=5)\n",
        "counts = result_real.get_counts(x_qpe_qc)\n",
        "plot_histogram(counts)"
      ],
      "execution_count": 0,
      "outputs": []
    },
    {
      "cell_type": "code",
      "metadata": {
        "slideshow": {
          "slide_type": "fragment"
        },
        "id": "Oc7gKsNKh3UE",
        "colab_type": "code",
        "colab": {}
      },
      "source": [
        "angles = np.array([v*int(k, 2) for k, v in counts.items()]) / shots / 2**(n-1)\n",
        "res = 2*sum(angles)\n",
        "np.around(res, decimals=5)"
      ],
      "execution_count": 0,
      "outputs": []
    },
    {
      "cell_type": "markdown",
      "metadata": {
        "slideshow": {
          "slide_type": "-"
        },
        "id": "6-i9BZXah3UH",
        "colab_type": "text"
      },
      "source": [
        "Uh... not ideal, but the important peaks are coming through. More work to do..."
      ]
    },
    {
      "cell_type": "markdown",
      "metadata": {
        "slideshow": {
          "slide_type": "slide"
        },
        "id": "J-UTJIR6h3UI",
        "colab_type": "text"
      },
      "source": [
        "FYI, you can also retrieve an old job by its job_id."
      ]
    },
    {
      "cell_type": "code",
      "metadata": {
        "slideshow": {
          "slide_type": "-"
        },
        "id": "h4_xzez1h3UI",
        "colab_type": "code",
        "colab": {}
      },
      "source": [
        "jobID = job_exp.job_id()\n",
        "\n",
        "print('JOB ID: {}'.format(jobID))\n",
        "\n",
        "job_get=q_backend.retrieve_job(jobID)\n",
        "job_get.result().get_counts(x_qpe_qc)"
      ],
      "execution_count": 0,
      "outputs": []
    },
    {
      "cell_type": "markdown",
      "metadata": {
        "slideshow": {
          "slide_type": "slide"
        },
        "id": "IIQSpfukh3UL",
        "colab_type": "text"
      },
      "source": [
        "# Tips and tricks\n",
        "\n",
        "* Put many circuits into a single execution!\n",
        "  * Simulators will (generally) execute these in parallel\n",
        "  * Quantum Hardware does a lot of calibration for each new job, so if you send 100 jobs it will generally take ~100x as long as one job with 100 circuits, even if the circuits are completely different!\n",
        "* Increase your timeout when waiting for results! Default is 30 seconds, better to set to 1800 (30 mins)\n",
        "  * See notebook above (ctrl-f for 'timeout')\n",
        "* Consider commenting out Qobj validation if you need more speed in an iterative algo, but don’t tell anyone who told you so!\n",
        "* Use an IDE!! A lot of people at IBM use Pycharm. Being able to step through the code is critical!"
      ]
    },
    {
      "cell_type": "markdown",
      "metadata": {
        "slideshow": {
          "slide_type": "slide"
        },
        "id": "Ow_H9FqHh3UL",
        "colab_type": "text"
      },
      "source": [
        "* Look at the debug log messages. There is a ton of important info in there.\n",
        "  * Even better, save them to a file."
      ]
    },
    {
      "cell_type": "code",
      "metadata": {
        "slideshow": {
          "slide_type": "fragment"
        },
        "id": "PUilFvish3UM",
        "colab_type": "code",
        "colab": {}
      },
      "source": [
        "import logging\n",
        "logging.getLogger('qiskit').setLevel(logging.DEBUG)"
      ],
      "execution_count": 0,
      "outputs": []
    },
    {
      "cell_type": "markdown",
      "metadata": {
        "slideshow": {
          "slide_type": "fragment"
        },
        "id": "EkGDQtp5h3UO",
        "colab_type": "text"
      },
      "source": [
        "Redirecting logs to a file:\n",
        "\n",
        "```\n",
        "# Redirecting debug logs to a file (can't be done in colab):\n",
        "    loggerc = logging.getLogger('qiskit_aqua_chemistry')\n",
        "    loggerc.setLevel(logging.DEBUG)\n",
        "    loggera = logging.getLogger('qiskit_aqua')\n",
        "    loggera.setLevel(logging.DEBUG)\n",
        "    loggerq = logging.getLogger('qiskit')\n",
        "    loggerq.setLevel(logging.DEBUG)\n",
        "    formatter = logging.Formatter(fmt='%(asctime)s %(levelname)-8s %(message)s', datefmt='%Y-%m-%d %H:%M:%S')\n",
        "    hdlr = logging.FileHandler(outdir + log_file_name, mode='w')\n",
        "    hdlr.setFormatter(formatter)\n",
        "    loggerc.addHandler(hdlr)\n",
        "    loggera.addHandler(hdlr)\n",
        "    loggerq.addHandler(hdlr)\n",
        "    print('\\nlog file: {}'.format(outdir + log_file_name))\n",
        "# <build, execute, etc.>\n",
        "# close up handlers\n",
        "    loggerc.removeHandler(hdlr)\n",
        "    loggera.removeHandler(hdlr)\n",
        "    loggerq.removeHandler(hdlr)\n",
        "    hdlr.close()\n",
        "```"
      ]
    },
    {
      "cell_type": "markdown",
      "metadata": {
        "slideshow": {
          "slide_type": "slide"
        },
        "id": "Ag-nqnEOh3UO",
        "colab_type": "text"
      },
      "source": [
        "Handling errors from the hardware and APIs is hard! Don't reinvent the wheel. The Aqua team have built a sophisticated system for robust and fault-resilient execution. I highly recommend you use it, or copy its methods: [run_circuits.py](https://github.com/Qiskit/aqua/blob/master/qiskit_aqua/utils/run_circuits.py)"
      ]
    },
    {
      "cell_type": "markdown",
      "metadata": {
        "slideshow": {
          "slide_type": "slide"
        },
        "id": "Ow1Rkmvhh3UR",
        "colab_type": "text"
      },
      "source": [
        "# Learning more\n",
        "\n",
        "The [qiskit-tutorials](https://github.com/Qiskit/qiskit-tutorials) 📒 repo on Github has dozens of thoughtful and sophisticated tutorials. I highly recommend going through both the “[qiskit/](https://github.com/Qiskit/qiskit-tutorials/tree/master/qiskit)” directory and the “[community/](https://github.com/Qiskit/qiskit-tutorials/tree/master/community)” directory. I learn new things every time I look through them, and reference them regularly.\n",
        "\n",
        "The order in which I investigate if I'm confused about something:\n",
        "* Look at the tutorials for an example\n",
        "* Look at the code directly to understand the behavior\n",
        "* Look at the tests for an example\n",
        "* Debug in my IDE, relying heavily on inspecting objects during execution\n",
        "* Look at the documentation"
      ]
    },
    {
      "cell_type": "markdown",
      "metadata": {
        "slideshow": {
          "slide_type": "slide"
        },
        "id": "sEYSR47xh3UR",
        "colab_type": "text"
      },
      "source": [
        "# Review - Quantum Algorithm Building Blocks\n",
        "\n",
        "Four major building blocks of quantum algorithms:\n",
        "\n",
        "* Quantum Fourier Transform\n",
        "   * Period-finding and phase↔norm swapping\n",
        "   * Speedup from O(n2n) to O(n2)\n",
        "   * E.g. Shor’s algorithm, Quantum Phase Estimation\n",
        "* Hamiltonian Evolution\n",
        "   * Applying a Hamiltonian to an initial state over an arbitrary time period\n",
        "   * Exponential speedup (mostly, with complicated factors)\n",
        "   * E.g. HHL, QAOA, QPE\n",
        "* Unstructured Search (Grover’s)\n",
        "   * Search for a state (string) exhibiting a binary condition (e.g. satisfy my 3SAT problem…)\n",
        "   * Speedup of O(√n)\n",
        "* Variational Optimization\n",
        "   * Prepare a quantum state using a parameterized short circuit, use a classical optimizer to optimize parameters toward some desired quality evaluated on the QC (e.g. binary classification)\n",
        "   * Speedups vary, usually no guaranteed speedup, but good for NISQ machines\n",
        "   * E.g. VQE, VSVM, QAOA"
      ]
    },
    {
      "cell_type": "markdown",
      "metadata": {
        "slideshow": {
          "slide_type": "slide"
        },
        "id": "8V_Hx1Kah3US",
        "colab_type": "text"
      },
      "source": [
        "# Quantum Fourier Transform\n",
        "\n",
        "We've used it above and it is straightforward to implement, but it is not very intuitive as a building block, and I recommend the [tutorial dedicated to it](https://github.com/Qiskit/qiskit-tutorial/blob/master/community/terra/qis_adv/fourier_transform.ipynb) 📒 by Anna Phan. I also highly recommmend 3Blue1Brown's video on the [continuous fourier transform](https://www.youtube.com/watch?v=spUNpyF58BY)."
      ]
    },
    {
      "cell_type": "markdown",
      "metadata": {
        "slideshow": {
          "slide_type": "slide"
        },
        "id": "GRQGV5gNh3US",
        "colab_type": "text"
      },
      "source": [
        "# Hamiltonian Evolution\n",
        "\n",
        "This is trickier, we're working on it. For now, the best way to learn about this in Qiskit is in the [Aqua operator class](https://github.com/Qiskit/aqua/blob/master/qiskit_aqua/operator.py#L1119), which includes lots of evolution logic."
      ]
    },
    {
      "cell_type": "markdown",
      "metadata": {
        "slideshow": {
          "slide_type": "slide"
        },
        "id": "oieHctBsh3US",
        "colab_type": "text"
      },
      "source": [
        "# Grover’s Algorithm\n",
        "\n",
        "Pretty straightforward in Terra. See [this notebook](https://github.com/Qiskit/qiskit-tutorial/blob/master/community/algorithms/grover_algorithm.ipynb) 📒 by Giacomo Nannicini and Raymond Harry Rudy.\n",
        "\n"
      ]
    },
    {
      "cell_type": "markdown",
      "metadata": {
        "slideshow": {
          "slide_type": "slide"
        },
        "id": "AuIAfeMch3UT",
        "colab_type": "text"
      },
      "source": [
        "# Variational Optimization\n",
        "\n",
        "This also doesn't have a standalone tutorial, but the [Aqua VQE](https://github.com/Qiskit/aqua/blob/master/qiskit_aqua/algorithms/adaptive/vqe/vqe.py) is a straightforward, well engineered example of variational optimization. The [Aqua Variational SVM](https://github.com/Qiskit/aqua/blob/master/qiskit_aqua/algorithms/adaptive/qsvm/qsvm_variational.py) is also a good example."
      ]
    },
    {
      "cell_type": "markdown",
      "metadata": {
        "slideshow": {
          "slide_type": "slide"
        },
        "id": "8rH3ZqCjh3UU",
        "colab_type": "text"
      },
      "source": [
        "# Learning More - A Longer Course\n",
        "\n",
        "[This doc](https://docs.google.com/document/d/1WoUQky2NXdbrdGkxaUA28VE7W3fryTQG6ezn8Fw-l4E/edit) details a longer course to fluency in Quantum Programming."
      ]
    },
    {
      "cell_type": "markdown",
      "metadata": {
        "id": "m2elCOGAiOXi",
        "colab_type": "text"
      },
      "source": [
        "# On Mapping Circuits\n",
        "\n"
      ]
    },
    {
      "cell_type": "code",
      "metadata": {
        "id": "DIYXX8tph419",
        "colab_type": "code",
        "colab": {}
      },
      "source": [
        "# Import the basics\n",
        "import numpy as np\n",
        "from math import pi\n",
        "import matplotlib.pyplot as plt\n",
        "from collections import Counter\n",
        "\n",
        "import time, sys\n",
        "\n",
        "# Import the Qiskit modules\n",
        "from qiskit import QuantumCircuit, ClassicalRegister, QuantumRegister, QiskitError\n",
        "from qiskit import execute, IBMQ, BasicAer, transpiler, Aer\n",
        "from qiskit.providers.ibmq import least_busy\n",
        "from qiskit.tools.monitor import job_monitor\n",
        "from qiskit.mapper import Layout\n",
        "from qiskit.tools.visualization import plot_histogram\n",
        "from qiskit.tools import visualization as qplt\n",
        "import qiskit.providers.aer as aer\n",
        "from qiskit.providers.aer import QasmSimulator, StatevectorSimulator, UnitarySimulator\n",
        "\n",
        "\n",
        "IBMQ.load_accounts()\n",
        "\n",
        "import logging\n",
        "logging.basicConfig(level=logging.INFO)\n",
        "\n",
        "#global variables\n",
        "nb_qubits_initial_circuit = 6\n",
        "nb_qubits_fragmentA = 3\n",
        "nb_qubits_fragmentB = 5\n",
        "run_execute = 5\n",
        "shots = 5120\n",
        "index_qubit_Bridge_fragmentA = 2\n",
        "index_qubit_Bridge_fragmentB = 0\n",
        "res=[] #contains the result of the different runs of the circuit.\n",
        "beta = [2.84123489e-03, -1.45405131e-01, -4.01709451e-02,  3.14159265e+00,\n",
        "              3.14159265e+00, -3.14159265e+00]\n",
        "theta = [-2.49842349e+00, -3.76082084e-02,\n",
        "              1.31465858e+00,  3.14159265e+00, -2.32523781e+00,  2.29140588e+00]\n",
        "\n",
        "#circuit_a\n",
        "def circuit_a(measurement_basis, beta, theta):\n",
        "    try:\n",
        "        beta = beta\n",
        "        theta = theta\n",
        "        # Create a Quantum Register with 5 qubit.\n",
        "        qubit_reg = QuantumRegister(nb_qubits_fragmentA)\n",
        "        # Create a Classical Register with 5 bit.\n",
        "        c0 = ClassicalRegister(nb_qubits_fragmentA)\n",
        "        # Create a Quantum Circuit\n",
        "        qc1 = QuantumCircuit(qubit_reg, c0)\n",
        "\n",
        "\n",
        "        # entangler\n",
        "        for i in range(nb_qubits_fragmentA-1):\n",
        "            qc1.h(qubit_reg[i+1])\n",
        "            qc1.cx(qubit_reg[i], qubit_reg[i+1])\n",
        "            qc1.h(qubit_reg[i+1])\n",
        "\n",
        "        qc1.barrier(qubit_reg[0], qubit_reg[1])\n",
        "\n",
        "        # parameterizer\n",
        "\n",
        "        # layer 1\n",
        "        for i in range(nb_qubits_fragmentA -1):\n",
        "            qc1.ry(beta[i], qubit_reg[i])\n",
        "\n",
        "        # layer 2\n",
        "        for i in range(nb_qubits_fragmentA -1):\n",
        "            qc1.rz(theta[i], qubit_reg[i])\n",
        "\n",
        "\n",
        "        # Change measurement basis for qubit qubit_reg[2] according to the parameter.\n",
        "        # Do not do anything if measurement_basis==\"Z\".\n",
        "        if (measurement_basis==\"X\"):\n",
        "            qc1.x(qubit_reg[index_qubit_Bridge_fragmentA])\n",
        "            qc1.h(qubit_reg[index_qubit_Bridge_fragmentA])\n",
        "        if (measurement_basis==\"Y\"):\n",
        "            qc1.x(qubit_reg[index_qubit_Bridge_fragmentA])\n",
        "            qc1.sdg(qubit_reg[index_qubit_Bridge_fragmentA])\n",
        "            qc1.h(qubit_reg[index_qubit_Bridge_fragmentA])\n",
        "        qc1.measure(qubit_reg[index_qubit_Bridge_fragmentA], c0[index_qubit_Bridge_fragmentA])\n",
        "\n",
        "\n",
        "\n",
        "        # Measure all qubits.\n",
        "        qc1.measure(qubit_reg[0], c0[0])\n",
        "        qc1.measure(qubit_reg[1], c0[1])\n",
        "\n",
        "\n",
        "        # see a list of available remote backends\n",
        "        print(\"\\n(IBMQ Backends)\")\n",
        "        print(IBMQ.backends())\n",
        "\n",
        "        # Uncomment to choose a simulator.\n",
        "        #backend = Aer.get_backend('qasm_simulator')\n",
        "        backend = IBMQ.get_backend('ibmq_20_tokyo')\n",
        "        #backend = IBMQ.get_backend('ibmq_qasm_simulator')\n",
        "        # execute the quantum circuit\n",
        "\n",
        "        initial_layout=[int(sys.argv[1]), int(sys.argv[2]), int(sys.argv[3])]\n",
        "\n",
        "        for x in range (run_execute):\n",
        "\n",
        "            # Compile and run the quantum circuit.\n",
        "            #job_sim = execute(qc1, backend, shots=shots, max_credits=10)\n",
        "            job_sim = execute(qc1, backend, shots=5120, max_credits=10, initial_layout=initial_layout)\n",
        "\n",
        "            job_monitor(job_sim)\n",
        "            result = job_sim.result()\n",
        "\n",
        "\n",
        "            # Show the results.\n",
        "            counts  = result.get_counts(qc1)\n",
        "            res.append(counts)\n",
        "            #qplt.plot_histogram(counts)\n",
        "            # Show the results\n",
        "\n",
        "        return()\n",
        "    except QiskitError as ex:\n",
        "        print('There was an error in the circuit!. Error = {}'.format(ex))\n",
        "    return;\n",
        "\n",
        "\n",
        "circuit_a(\"X\", beta, theta)\n",
        "circuit_a(\"Y\", beta, theta)\n",
        "circuit_a(\"Z\", beta, theta)\n",
        "\n",
        "#print(str(res), file=open(\"fragmentA.txt\", \"a\"))\n",
        "print(str(res), file=open(\"fragmentA_\" + sys.argv[1] + \"-\" + sys.argv[2] +\"-\" + sys.argv[3] +\".txt\", \"a\"))"
      ],
      "execution_count": 0,
      "outputs": []
    }
  ]
}