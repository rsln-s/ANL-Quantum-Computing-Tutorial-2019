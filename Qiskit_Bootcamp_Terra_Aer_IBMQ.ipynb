{
 "cells": [
  {
   "cell_type": "markdown",
   "metadata": {
    "slideshow": {
     "slide_type": "skip"
    }
   },
   "source": [
    "# [Qiskit Bootcamp Part 0: Introduction to Qiskit and IBM Q](https://docs.google.com/presentation/d/1Y--23RhBtemLSxkFG40uhmMKpX-QJw6xL9WpA1ZUq2s/edit#slide=id.p)\n",
    "\n",
    "Note: Search for the 📒emoji to see all the notebooks linked in this deck."
   ]
  },
  {
   "cell_type": "markdown",
   "metadata": {
    "slideshow": {
     "slide_type": "slide"
    }
   },
   "source": [
    "![Qiskit](https://github.com/Qiskit/qiskit-tutorials/raw/115c78962dda85bac29d679063b7d0d0ab1d1ab4/images/qiskit-heading.gif)"
   ]
  },
  {
   "cell_type": "markdown",
   "metadata": {
    "slideshow": {
     "slide_type": "-"
    }
   },
   "source": [
    "# Qiskit Bootcamp Parts I & II: Building and Executing Quantum Circuits with Terra, Aer, & IBM Q\n",
    "\n",
    "donny@ibm.com <br>_23-Apr-19_"
   ]
  },
  {
   "cell_type": "code",
   "execution_count": 1,
   "metadata": {
    "slideshow": {
     "slide_type": "skip"
    }
   },
   "outputs": [],
   "source": [
    "# **Note:** This notebook can be presented as a deck by uncommenting and running:\n",
    "#!jupyter nbconvert ./Qiskit_Bootcamp_Terra.ipynb --to slides --post serve\n",
    "\n",
    "# Or by installing RISE: https://damianavila.github.io/RISE/."
   ]
  },
  {
   "cell_type": "markdown",
   "metadata": {
    "slideshow": {
     "slide_type": "slide"
    }
   },
   "source": [
    "# Gameplan\n",
    "\n",
    "* Part I: Constructing and Compiling Circuits in Terra\n",
    "    * Circuit Construction Basics\n",
    "    * Structural Elements\n",
    "    * Compilation Flow, Transpilation\n",
    "* Part II: Executing Circuits on Aer, BasicAer, and IBMQ\n",
    "  * Aer basics\n",
    "    * Ideal simulation\n",
    "    * Noiseless sampling simulation\n",
    "  * IBM Q Basics\n",
    "    * Browsing device info\n",
    "    * Building and executing noise model from device properties\n",
    "    * Executing on quantum hardware\n",
    "* Tips and tricks\n",
    "* Learning More, Resources\n",
    "* Resources for Quantum Algorithm Building Blocks"
   ]
  },
  {
   "cell_type": "markdown",
   "metadata": {
    "slideshow": {
     "slide_type": "slide"
    }
   },
   "source": [
    "But first, install Terra, Aer, and IBM Q (and Ignis):"
   ]
  },
  {
   "cell_type": "code",
   "execution_count": 2,
   "metadata": {
    "slideshow": {
     "slide_type": "fragment"
    }
   },
   "outputs": [],
   "source": [
    "#!pip install qiskit"
   ]
  },
  {
   "cell_type": "markdown",
   "metadata": {
    "slideshow": {
     "slide_type": "slide"
    }
   },
   "source": [
    "# Part I: Constructing and Compiling Circuits in Terra"
   ]
  },
  {
   "cell_type": "markdown",
   "metadata": {
    "slideshow": {
     "slide_type": "slide"
    }
   },
   "source": [
    "# What is Terra?\n",
    "\n",
    "Right now (Version ~0.8) Terra’s core service is the construction and compilation of Quantum executables (circuits and pulse schedules) for arbitrary backends\n",
    "   * Terra includes interfaces for the construction of OpenQASM-compliant circuits and OpenPulse-compliant pulse schedules - see the [paper here](https://arxiv.org/abs/1809.03452)\n",
    "   * Terra can take a single circuit or pulse object and compile it to run on any OpenQASM or OpenPulse compliant Quantum hardware or simulator\n",
    "   * Terra also optimizes circuits, and allows for plug-and-play transpilation options\n",
    "   \n",
    "**Today we will only focus on circuits, not pulse schedules, because pulse v0 is being released presently.**"
   ]
  },
  {
   "cell_type": "markdown",
   "metadata": {
    "slideshow": {
     "slide_type": "slide"
    }
   },
   "source": [
    "In the future, Terra will include:\n",
    "\n",
    "  * More convenience operations for constructing sophisticated circuits\n",
    "  * Richer set of tools for Quantum Information (Operators, Channels, States, etc.)\n",
    "\n",
    "Keep in mind:\n",
    "\n",
    "  * Terra is not a language per se, but more of a large piece of infrastructure. Some code may seem unnecessary for the one thing you’re doing, but in many cases it’s necessary for Qiskit to be robust.\n",
    "  * Qiskit is very much a work in progress. It is changing rapidly to converge toward the needs of its users. \n",
    "\n",
    "🎉**You are now in the inner circle of people who have a strong voice about the direction of Qiskit.** 🎉"
   ]
  },
  {
   "cell_type": "code",
   "execution_count": 3,
   "metadata": {
    "slideshow": {
     "slide_type": "slide"
    }
   },
   "outputs": [],
   "source": [
    "# Housekeeping: uncomment this to suppress deprecation warnings\n",
    "import warnings\n",
    "warnings.filterwarnings('ignore')"
   ]
  },
  {
   "cell_type": "markdown",
   "metadata": {
    "slideshow": {
     "slide_type": "slide"
    }
   },
   "source": [
    "# Structural Elements\n",
    "\n",
    "Let's start building circuits to get acquainted with Terra's structural elements."
   ]
  },
  {
   "cell_type": "code",
   "execution_count": 4,
   "metadata": {
    "slideshow": {
     "slide_type": "fragment"
    }
   },
   "outputs": [],
   "source": [
    "from qiskit import QuantumRegister, ClassicalRegister, QuantumCircuit\n",
    "import numpy as np"
   ]
  },
  {
   "cell_type": "code",
   "execution_count": 5,
   "metadata": {
    "slideshow": {
     "slide_type": "fragment"
    }
   },
   "outputs": [],
   "source": [
    "# Create a Quantum Register with 3 qubits\n",
    "qr = QuantumRegister(3)\n",
    "\n",
    "# Create a Classical Register with 3 bits\n",
    "# Only necessary if you want to do measurement!\n",
    "cr = ClassicalRegister(3)\n",
    "\n",
    "# Create a Quantum Circuit acting on the qr and cr register\n",
    "bell = QuantumCircuit(qr, cr)"
   ]
  },
  {
   "cell_type": "markdown",
   "metadata": {
    "slideshow": {
     "slide_type": "slide"
    }
   },
   "source": [
    "# QuantumCircuits are the primary unit of computation in Terra\n",
    "* QuantumCircuits are backend agnostic\n",
    "* They contain 3 instance variables:\n",
    "  * `name` - for referencing the circuit later (e.g. in the results object)\n",
    "  * `data` - a 1d list of tuples containing `Instructions` in the circuit and the registers they act upon\n",
    "  * `regs` - the `QuantumRegisters` and `ClassicalRegisters` in the instructions of the circuit\n",
    "    * Behind the scenes these are mostly labels, they do not have any fancy instance methods\n"
   ]
  },
  {
   "cell_type": "markdown",
   "metadata": {
    "slideshow": {
     "slide_type": "slide"
    }
   },
   "source": [
    "# I highly recommend scrolling through the `QuantumCircuit` module to gain a feel for what it can do:"
   ]
  },
  {
   "cell_type": "code",
   "execution_count": 6,
   "metadata": {},
   "outputs": [
    {
     "name": "stdout",
     "output_type": "stream",
     "text": [
      "Help on class QuantumCircuit in module qiskit.circuit.quantumcircuit:\n",
      "\n",
      "class QuantumCircuit(builtins.object)\n",
      " |  Quantum circuit.\n",
      " |  \n",
      " |  Methods defined here:\n",
      " |  \n",
      " |  __add__(self, rhs)\n",
      " |      Overload + to implement self.combine.\n",
      " |  \n",
      " |  __eq__(self, other)\n",
      " |      Return self==value.\n",
      " |  \n",
      " |  __getitem__(self, item)\n",
      " |      Return indexed operation.\n",
      " |  \n",
      " |  __iadd__(self, rhs)\n",
      " |      Overload += to implement self.extend.\n",
      " |  \n",
      " |  __init__(self, *regs, name=None)\n",
      " |      Create a new circuit.\n",
      " |      A circuit is a list of instructions bound to some registers.\n",
      " |      Args:\n",
      " |          *regs (list(Register) or list(Int)): To be included in the circuit.\n",
      " |                - If [Register], the QuantumRegister and/or ClassicalRegister\n",
      " |                  to include in the circuit.\n",
      " |                  E.g.: QuantumCircuit(QuantumRegister(4))\n",
      " |                        QuantumCircuit(QuantumRegister(4), ClassicalRegister(3))\n",
      " |                        QuantumCircuit(QuantumRegister(4, 'qr0'), QuantumRegister(2, 'qr1'))\n",
      " |                - If [Int], the amount of qubits and/or classical bits to include\n",
      " |                in the circuit. It can be (Int, ) or (Int, Int).\n",
      " |                  E.g.: QuantumCircuit(4) # A QuantumCircuit with 4 qubits\n",
      " |                        QuantumCircuit(4, 3) # A QuantumCircuit with 4 qubits and 3 classical bits\n",
      " |          name (str or None): the name of the quantum circuit. If\n",
      " |              None, an automatically generated string will be assigned.\n",
      " |      \n",
      " |      Raises:\n",
      " |          QiskitError: if the circuit name, if given, is not valid.\n",
      " |  \n",
      " |  __len__(self)\n",
      " |      Return number of operations in circuit.\n",
      " |  \n",
      " |  __str__(self)\n",
      " |      Return str(self).\n",
      " |  \n",
      " |  add_register(self, *regs)\n",
      " |      Add registers.\n",
      " |  \n",
      " |  append(self, instruction, qargs=None, cargs=None)\n",
      " |      Append an instruction to the end of the circuit, modifying\n",
      " |      the circuit in place.\n",
      " |      \n",
      " |      Args:\n",
      " |          instruction (Instruction): Instruction instance to append\n",
      " |          qargs (list(tuple)): qubits to attach instruction to\n",
      " |          cargs (list(tuple)): clbits to attach instruction to\n",
      " |      \n",
      " |      Returns:\n",
      " |          Instruction: a handle to the instruction that was just added\n",
      " |      \n",
      " |      Raises:\n",
      " |          QiskitError: if the gate is of a different shape than the wires\n",
      " |              it is being attached to.\n",
      " |  \n",
      " |  assign_variables(self, value_dict)\n",
      " |      Assign variables to values yielding a new circuit.\n",
      " |      \n",
      " |      Args:\n",
      " |          value_dict (dict): {variable: value, ...}\n",
      " |      \n",
      " |      Returns:\n",
      " |          QuantumCircuit: copy of self with assignment substitution.\n",
      " |  \n",
      " |  barrier(self, *qargs)\n",
      " |      Apply barrier to circuit.\n",
      " |      If qargs is None, applies to all the qbits.\n",
      " |      Args is a list of QuantumRegister or single qubits.\n",
      " |      For QuantumRegister, applies barrier to all the qubits in that register.\n",
      " |  \n",
      " |  ccx(self, ctl1, ctl2, tgt)\n",
      " |      Apply Toffoli to from ctl1 and ctl2 to tgt.\n",
      " |  \n",
      " |  ch(self, ctl, tgt)\n",
      " |      Apply CH from ctl to tgt.\n",
      " |  \n",
      " |  clbits(self)\n",
      " |      Returns a list of classical bits in the order that the registers had been added.\n",
      " |  \n",
      " |  combine(self, rhs)\n",
      " |      Append rhs to self if self contains compatible registers.\n",
      " |      \n",
      " |      Two circuits are compatible if they contain the same registers\n",
      " |      or if they contain different registers with unique names. The\n",
      " |      returned circuit will contain all unique registers between both\n",
      " |      circuits.\n",
      " |      \n",
      " |      Return self + rhs as a new object.\n",
      " |  \n",
      " |  copy(self, name=None)\n",
      " |      Args:\n",
      " |        name (str): name to be given to the copied circuit, if None then the name stays the same\n",
      " |      Returns:\n",
      " |        QuantumCircuit: a deepcopy of the current circuit, with the name updated if\n",
      " |                        it was provided\n",
      " |  \n",
      " |  count_ops(self)\n",
      " |      Count each operation kind in the circuit.\n",
      " |      \n",
      " |      Returns:\n",
      " |          dict: a breakdown of how many operations of each kind.\n",
      " |  \n",
      " |  crz(self, theta, ctl, tgt)\n",
      " |      Apply crz from ctl to tgt with angle theta.\n",
      " |  \n",
      " |  cswap(self, ctl, tgt1, tgt2)\n",
      " |      Apply Fredkin to circuit.\n",
      " |  \n",
      " |  cu1(self, theta, ctl, tgt)\n",
      " |      Apply cu1 from ctl to tgt with angle theta.\n",
      " |  \n",
      " |  cu3(self, theta, phi, lam, ctl, tgt)\n",
      " |      Apply cu3 from ctl to tgt with angle theta, phi, lam.\n",
      " |  \n",
      " |  cx(self, ctl, tgt)\n",
      " |      Apply CX from ctl to tgt.\n",
      " |  \n",
      " |  cx_base(self, ctl, tgt)\n",
      " |      Apply CX ctl, tgt.\n",
      " |  \n",
      " |  cy(self, ctl, tgt)\n",
      " |      Apply CY to circuit.\n",
      " |  \n",
      " |  cz(self, ctl, tgt)\n",
      " |      Apply CZ to circuit.\n",
      " |  \n",
      " |  decompose(self)\n",
      " |      Call a decomposition pass on this circuit,\n",
      " |      to decompose one level (shallow decompose).\n",
      " |      \n",
      " |      Returns:\n",
      " |          QuantumCircuit: a circuit one level decomposed\n",
      " |  \n",
      " |  depth(self)\n",
      " |      Return circuit depth (i.e. length of critical path).\n",
      " |      This does not include compiler or simulator directives\n",
      " |      such as 'barrier' or 'snapshot'.\n",
      " |      \n",
      " |      Returns:\n",
      " |          int: Depth of circuit.\n",
      " |      \n",
      " |      Notes:\n",
      " |          The circuit depth and the DAG depth need not bt the\n",
      " |          same.\n",
      " |  \n",
      " |  draw(self, scale=0.7, filename=None, style=None, output='text', interactive=False, line_length=None, plot_barriers=True, reverse_bits=False, justify=None)\n",
      " |      Draw the quantum circuit\n",
      " |      \n",
      " |      Using the output parameter you can specify the format. The choices are:\n",
      " |      0. text: ASCII art string\n",
      " |      1. latex: high-quality images, but heavy external software dependencies\n",
      " |      2. matplotlib: purely in Python with no external dependencies\n",
      " |      \n",
      " |      Defaults to an overcomplete basis, in order to not alter gates.\n",
      " |      \n",
      " |      Args:\n",
      " |          scale (float): scale of image to draw (shrink if < 1)\n",
      " |          filename (str): file path to save image to\n",
      " |          style (dict or str): dictionary of style or file name of style\n",
      " |              file. You can refer to the\n",
      " |              :ref:`Style Dict Doc <style-dict-doc>` for more information\n",
      " |              on the contents.\n",
      " |          output (str): Select the output method to use for drawing the\n",
      " |              circuit. Valid choices are `text`, `latex`, `latex_source`,\n",
      " |              `mpl`.\n",
      " |          interactive (bool): when set true show the circuit in a new window\n",
      " |              (for `mpl` this depends on the matplotlib backend being used\n",
      " |              supporting this). Note when used with either the `text` or the\n",
      " |              `latex_source` output type this has no effect and will be\n",
      " |              silently ignored.\n",
      " |          line_length (int): sets the length of the lines generated by `text`\n",
      " |          reverse_bits (bool): When set to True reverse the bit order inside\n",
      " |              registers for the output visualization.\n",
      " |          plot_barriers (bool): Enable/disable drawing barriers in the output\n",
      " |              circuit. Defaults to True.\n",
      " |          justify (string): Options are `left`, `right` or `none`, if anything\n",
      " |              else is supplied it defaults to left justified. It refers to where\n",
      " |              gates should be placed in the output circuit if there is an option.\n",
      " |              `none` results in each gate being placed in its own column. Currently\n",
      " |              only supported by text drawer.\n",
      " |      \n",
      " |      Returns:\n",
      " |          PIL.Image or matplotlib.figure or str or TextDrawing:\n",
      " |              * PIL.Image: (output `latex`) an in-memory representation of the\n",
      " |                image of the circuit diagram.\n",
      " |              * matplotlib.figure: (output `mpl`) a matplotlib figure object\n",
      " |                for the circuit diagram.\n",
      " |              * str: (output `latex_source`). The LaTeX source code.\n",
      " |              * TextDrawing: (output `text`). A drawing that can be printed as\n",
      " |                ascii art\n",
      " |      \n",
      " |      Raises:\n",
      " |          VisualizationError: when an invalid output method is selected\n",
      " |  \n",
      " |  extend(self, rhs)\n",
      " |      Append rhs to self if self contains compatible registers.\n",
      " |      \n",
      " |      Two circuits are compatible if they contain the same registers\n",
      " |      or if they contain different registers with unique names. The\n",
      " |      returned circuit will contain all unique registers between both\n",
      " |      circuits.\n",
      " |      \n",
      " |      Modify and return self.\n",
      " |  \n",
      " |  h(self, q)\n",
      " |      Apply H to q.\n",
      " |  \n",
      " |  has_register(self, register)\n",
      " |      Test if this circuit has the register r.\n",
      " |      \n",
      " |      Args:\n",
      " |          register (Register): a quantum or classical register.\n",
      " |      \n",
      " |      Returns:\n",
      " |          bool: True if the register is contained in this circuit.\n",
      " |  \n",
      " |  iden(self, q)\n",
      " |      Apply Identity to q.\n",
      " |  \n",
      " |  initialize(self, params, qubits)\n",
      " |      Apply initialize to circuit.\n",
      " |  \n",
      " |  inverse(self)\n",
      " |      Invert this circuit.\n",
      " |      \n",
      " |      This is done by recursively inverting all gates.\n",
      " |      \n",
      " |      Returns:\n",
      " |          QuantumCircuit: the inverted circuit\n",
      " |      \n",
      " |      Raises:\n",
      " |          QiskitError: if the circuit cannot be inverted.\n",
      " |  \n",
      " |  measure(self, qubit, cbit)\n",
      " |      Measure quantum bit into classical bit (tuples).\n",
      " |      \n",
      " |      Args:\n",
      " |          qubit (QuantumRegister|list|tuple): quantum register\n",
      " |          cbit (ClassicalRegister|list|tuple): classical register\n",
      " |      \n",
      " |      Returns:\n",
      " |          qiskit.Instruction: the attached measure instruction.\n",
      " |      \n",
      " |      Raises:\n",
      " |          QiskitError: if qubit is not in this circuit or bad format;\n",
      " |              if cbit is not in this circuit or not creg.\n",
      " |  \n",
      " |  mirror(self)\n",
      " |      Mirror the circuit by reversing the instructions.\n",
      " |      \n",
      " |      This is done by recursively mirroring all instructions.\n",
      " |      It does not invert any gate.\n",
      " |      \n",
      " |      Returns:\n",
      " |          QuantumCircuit: the mirrored circuit\n",
      " |  \n",
      " |  num_connected_components(self, unitary_only=False)\n",
      " |      How many non-entangled subcircuits can the circuit be factored to.\n",
      " |      \n",
      " |      Args:\n",
      " |          unitary_only (bool): Compute only unitary part of graph.\n",
      " |      \n",
      " |      Returns:\n",
      " |          int: Number of connected components in circuit.\n",
      " |  \n",
      " |  num_tensor_factors(self)\n",
      " |      Computes the number of tensor factors in the unitary\n",
      " |      (quantum) part of the circuit only.\n",
      " |      \n",
      " |      Notes:\n",
      " |          This is here for backwards compatibility, and will be\n",
      " |          removed in a future release of qiskit. You should call\n",
      " |          `num_unitary_factors` instead.\n",
      " |  \n",
      " |  num_unitary_factors(self)\n",
      " |      Computes the number of tensor factors in the unitary\n",
      " |      (quantum) part of the circuit only.\n",
      " |  \n",
      " |  qasm(self)\n",
      " |      Return OpenQASM string.\n",
      " |  \n",
      " |  qubits(self)\n",
      " |      Returns a list of quantum bits in the order that the registers had been added.\n",
      " |  \n",
      " |  reset(self, qubit)\n",
      " |      Reset q.\n",
      " |  \n",
      " |  rx(self, theta, q)\n",
      " |      Apply Rx to q.\n",
      " |  \n",
      " |  ry(self, theta, q)\n",
      " |      Apply Ry to q.\n",
      " |  \n",
      " |  rz(self, phi, q)\n",
      " |      Apply Rz to q.\n",
      " |  \n",
      " |  rzz(self, theta, qubit1, qubit2)\n",
      " |      Apply RZZ to circuit.\n",
      " |  \n",
      " |  s(self, q)\n",
      " |      Apply S to q.\n",
      " |  \n",
      " |  sdg(self, q)\n",
      " |      Apply Sdg to q.\n",
      " |  \n",
      " |  size(self)\n",
      " |      Returns total number of gate operations in circuit.\n",
      " |      \n",
      " |      Returns:\n",
      " |          int: Total number of gate operations.\n",
      " |  \n",
      " |  swap(self, qubit1, qubit2)\n",
      " |      Apply SWAP from qubit1 to qubit2.\n",
      " |  \n",
      " |  t(self, q)\n",
      " |      Apply T to q.\n",
      " |  \n",
      " |  tdg(self, q)\n",
      " |      Apply Tdg to q.\n",
      " |  \n",
      " |  to_instruction(self)\n",
      " |      Create an Instruction out of this circuit.\n",
      " |      \n",
      " |      Returns:\n",
      " |          Instruction: a composite instruction encapsulating this circuit\n",
      " |              (can be decomposed back)\n",
      " |  \n",
      " |  u0(self, m, q)\n",
      " |      Apply u0 with length m to q.\n",
      " |  \n",
      " |  u1(self, theta, q)\n",
      " |      Apply u1 with angle theta to q.\n",
      " |  \n",
      " |  u2(self, phi, lam, q)\n",
      " |      Apply u2 to q.\n",
      " |  \n",
      " |  u3(self, theta, phi, lam, q)\n",
      " |      Apply u3 to q.\n",
      " |  \n",
      " |  u_base(self, theta, phi, lam, q)\n",
      " |      Apply U to q.\n",
      " |  \n",
      " |  width(self)\n",
      " |      Return number of qubits plus clbits in circuit.\n",
      " |      \n",
      " |      Returns:\n",
      " |          int: Width of circuit.\n",
      " |  \n",
      " |  x(self, q)\n",
      " |      Apply X to q.\n",
      " |  \n",
      " |  y(self, q)\n",
      " |      Apply Y to q.\n",
      " |  \n",
      " |  z(self, q)\n",
      " |      Apply Z to q.\n",
      " |  \n",
      " |  ----------------------------------------------------------------------\n",
      " |  Class methods defined here:\n",
      " |  \n",
      " |  cls_instances() from builtins.type\n",
      " |      Return the current number of instances of this class,\n",
      " |      useful for auto naming.\n",
      " |  \n",
      " |  cls_prefix() from builtins.type\n",
      " |      Return the prefix to use for auto naming.\n",
      " |  \n",
      " |  ----------------------------------------------------------------------\n",
      " |  Static methods defined here:\n",
      " |  \n",
      " |  from_qasm_file(path)\n",
      " |      Take in a QASM file and generate a QuantumCircuit object.\n",
      " |      \n",
      " |      Args:\n",
      " |        path (str): Path to the file for a QASM program\n",
      " |      Return:\n",
      " |        QuantumCircuit: The QuantumCircuit object for the input QASM\n",
      " |  \n",
      " |  from_qasm_str(qasm_str)\n",
      " |      Take in a QASM string and generate a QuantumCircuit object.\n",
      " |      \n",
      " |      Args:\n",
      " |        qasm_str (str): A QASM program string\n",
      " |      Return:\n",
      " |        QuantumCircuit: The QuantumCircuit object for the input QASM\n",
      " |  \n",
      " |  ----------------------------------------------------------------------\n",
      " |  Data descriptors defined here:\n",
      " |  \n",
      " |  __dict__\n",
      " |      dictionary for instance variables (if defined)\n",
      " |  \n",
      " |  __weakref__\n",
      " |      list of weak references to the object (if defined)\n",
      " |  \n",
      " |  unassigned_variables\n",
      " |      Returns a set containing any variables which have not yet been assigned.\n",
      " |  \n",
      " |  variable_table\n",
      " |      get the circuit variable table\n",
      " |  \n",
      " |  variables\n",
      " |      convenience function to get the variables defined in the variable table\n",
      " |  \n",
      " |  ----------------------------------------------------------------------\n",
      " |  Data and other attributes defined here:\n",
      " |  \n",
      " |  __hash__ = None\n",
      " |  \n",
      " |  extension_lib = 'include \"qelib1.inc\";'\n",
      " |  \n",
      " |  header = 'OPENQASM 2.0;'\n",
      " |  \n",
      " |  instances = 1\n",
      " |  \n",
      " |  prefix = 'circuit'\n",
      "\n"
     ]
    }
   ],
   "source": [
    "help(QuantumCircuit)"
   ]
  },
  {
   "cell_type": "markdown",
   "metadata": {
    "slideshow": {
     "slide_type": "slide"
    }
   },
   "source": [
    "# Gates! There are many. And they're called `Instructions`.\n",
    "\n",
    "Qiskit supports many gates. They are located in the `qiskit/extensions/standard directory`, but are loaded in sneakily so you don’t need to import them one by one.\n",
    "\n",
    "The basis gateset of the IBM Q devices is {u1, u2, u3, CX}, so you might find that a lot of code uses u3 for all single-qubit operations, rather than rx, ry, or rz.\n",
    "\n",
    "Gates are technically objects, but in practice you're likely to use them in the form of static functions on the circuit object. Don't go looking for these functions in the QuantumCircuit class, they're dynamically added by each gate module import 🙈. More info on gates [here](https://github.com/Qiskit/qiskit-tutorial/blob/master/qiskit/terra/summary_of_quantum_operations.ipynb) 📒."
   ]
  },
  {
   "cell_type": "markdown",
   "metadata": {
    "slideshow": {
     "slide_type": "slide"
    }
   },
   "source": [
    "After we add some gates, we can print our circuit's Qasm:"
   ]
  },
  {
   "cell_type": "code",
   "execution_count": 7,
   "metadata": {
    "slideshow": {
     "slide_type": "fragment"
    }
   },
   "outputs": [
    {
     "name": "stdout",
     "output_type": "stream",
     "text": [
      "OPENQASM 2.0;\n",
      "include \"qelib1.inc\";\n",
      "qreg q0[3];\n",
      "creg c0[3];\n",
      "h q0[0];\n",
      "cx q0[0],q0[1];\n",
      "\n"
     ]
    }
   ],
   "source": [
    "# Hadamard gate on qubit 0\n",
    "bell.h(qr[0])\n",
    "\n",
    "# CNOT (Controlled-NOT) gate from qubit 0 to qubit 1\n",
    "bell.cx(qr[0], qr[1])\n",
    "\n",
    "print(bell.qasm())"
   ]
  },
  {
   "cell_type": "markdown",
   "metadata": {},
   "source": [
    "Here we've added an H gate to qubit 0 in register `qr`, and a CX gate from qubit 0 to qubit 1 in register `qr`. Composing circuits by adding gates one by one like this can be tedious, and fancier 🎩, more powerful 💪 methods will be arriving in 0.9 (some with most of the groundwork already in 0.8)."
   ]
  },
  {
   "cell_type": "markdown",
   "metadata": {
    "slideshow": {
     "slide_type": "slide"
    }
   },
   "source": [
    "# Seeing what's inside a QuantumCircuit\n",
    "\n",
    "The contents of the circuit sits inside `circuit.data`, but I wouldn't recommend doing much in there. It's considered \"behind the scenes\" and likely to change often (as it just did from 0.7 to 0.8).\n",
    "\n",
    "The standard way to visualize a circuit is to `draw` it (`print(circuit)` also works):"
   ]
  },
  {
   "cell_type": "code",
   "execution_count": 8,
   "metadata": {
    "slideshow": {
     "slide_type": "fragment"
    }
   },
   "outputs": [
    {
     "data": {
      "text/html": [
       "<pre style=\"word-wrap: normal;white-space: pre;line-height: 15px;\">         ┌───┐     \n",
       "q0_0: |0>┤ H ├──■──\n",
       "         └───┘┌─┴─┐\n",
       "q0_1: |0>─────┤ X ├\n",
       "              └───┘\n",
       "q0_2: |0>──────────\n",
       "                   \n",
       " c0_0: 0 ══════════\n",
       "                   \n",
       " c0_1: 0 ══════════\n",
       "                   \n",
       " c0_2: 0 ══════════\n",
       "                   </pre>"
      ],
      "text/plain": [
       "<qiskit.visualization.text.TextDrawing at 0x112195e48>"
      ]
     },
     "execution_count": 8,
     "metadata": {},
     "output_type": "execute_result"
    }
   ],
   "source": [
    "bell.draw()"
   ]
  },
  {
   "cell_type": "markdown",
   "metadata": {
    "slideshow": {
     "slide_type": "fragment"
    }
   },
   "source": [
    "## Guess what? There's more info about visualizing circuits [here](https://github.com/Qiskit/qiskit-tutorials/blob/master/qiskit/terra/visualizing_a_quantum_circuit.ipynb) 📒"
   ]
  },
  {
   "cell_type": "markdown",
   "metadata": {
    "slideshow": {
     "slide_type": "slide"
    }
   },
   "source": [
    "# What's the deal with Registers?\n",
    "\n",
    "Registers are in a sort of in-between state for the moment. They are useful for grouping qubits, such as making some group \"anc\" and calling `qc.h(anc)` on all anc qubits, or knowing which qubits line up where if you're composing circuits together:"
   ]
  },
  {
   "cell_type": "code",
   "execution_count": 9,
   "metadata": {},
   "outputs": [
    {
     "name": "stdout",
     "output_type": "stream",
     "text": [
      "         ┌───┐     ┌───┐     ┌───┐     ┌───┐     \n",
      "q0_0: |0>┤ H ├──■──┤ H ├──■──┤ H ├──■──┤ H ├──■──\n",
      "         └───┘┌─┴─┐└───┘┌─┴─┐└───┘┌─┴─┐└───┘┌─┴─┐\n",
      "q0_1: |0>─────┤ X ├─────┤ X ├─────┤ X ├─────┤ X ├\n",
      "              └───┘     └───┘     └───┘     └───┘\n",
      "q0_2: |0>────────────────────────────────────────\n",
      "                                                 \n",
      " c0_0: 0 ════════════════════════════════════════\n",
      "                                                 \n",
      " c0_1: 0 ════════════════════════════════════════\n",
      "                                                 \n",
      " c0_2: 0 ════════════════════════════════════════\n",
      "                                                 \n"
     ]
    }
   ],
   "source": [
    "print(bell + bell + bell + bell)"
   ]
  },
  {
   "cell_type": "markdown",
   "metadata": {},
   "source": [
    "But they are also a bit tedious, having to be declared and kept track of all the time. By 0.9, the form factor for constructing and gluing circuits together will be clearer, and registers shouldn't be as in the way."
   ]
  },
  {
   "cell_type": "markdown",
   "metadata": {
    "slideshow": {
     "slide_type": "slide"
    }
   },
   "source": [
    "Now, we already have enough to run the circuit if we like. Let's import a backend, in this case a simulator, and run the circuit."
   ]
  },
  {
   "cell_type": "code",
   "execution_count": 10,
   "metadata": {
    "slideshow": {
     "slide_type": "fragment"
    }
   },
   "outputs": [
    {
     "name": "stderr",
     "output_type": "stream",
     "text": [
      "No measurements in circuit \"circuit0\": count data will return all zeros.\n"
     ]
    },
    {
     "data": {
      "text/plain": [
       "{'000': 1024}"
      ]
     },
     "execution_count": 10,
     "metadata": {},
     "output_type": "execute_result"
    }
   ],
   "source": [
    "from qiskit import Aer, execute\n",
    "qasm_backend = Aer.get_backend('qasm_simulator')\n",
    "\n",
    "job = execute(bell, qasm_backend)\n",
    "\n",
    "result = job.result()\n",
    "result.get_counts(bell)"
   ]
  },
  {
   "cell_type": "markdown",
   "metadata": {
    "slideshow": {
     "slide_type": "slide"
    }
   },
   "source": [
    "Whoops! We forgot to measure. Let's do that."
   ]
  },
  {
   "cell_type": "code",
   "execution_count": 11,
   "metadata": {},
   "outputs": [
    {
     "data": {
      "text/plain": [
       "{'000': 505, '011': 519}"
      ]
     },
     "execution_count": 11,
     "metadata": {},
     "output_type": "execute_result"
    }
   ],
   "source": [
    "bell.measure(qr, cr)\n",
    "\n",
    "job = execute(bell, qasm_backend)\n",
    "\n",
    "result = job.result()\n",
    "result.get_counts(bell)"
   ]
  },
  {
   "cell_type": "markdown",
   "metadata": {
    "slideshow": {
     "slide_type": "-"
    }
   },
   "source": [
    "**Note** that Terra .8 treats the rightmost qubit as qubit 0 (!), which is consistent with binary endianness, but slightly counterintuitive."
   ]
  },
  {
   "cell_type": "markdown",
   "metadata": {
    "slideshow": {
     "slide_type": "slide"
    }
   },
   "source": [
    "# DAGs, Passes, Qobjs, Jobs\n",
    "\n",
    "We've actually skipped a few steps that happen under the hood within `execute`. Let's look at them in more detail. \n",
    "\n",
    "```\n",
    "transpile(circuits, backend=None, basis_gates=None, coupling_map=None,\n",
    "              initial_layout=None, seed_mapper=None, pass_manager=None)\n",
    "```\n",
    "\n",
    "`execute` calls `transpile` on the circuits and a `PassManager` of transpiler passes, which converts the circuit into a Directed Acyclic Graph, or `DAG`, of gates, executes the passes on the `DAG`, and the converts the `DAG` back into a circuit. There are over 30 different passes in Terra and counting, including:\n",
    "* cx_cancellation, optimize_1q_gates\n",
    "* **12** different mapping passes for rearranging qubits to fit on a particular backend, including `NoiseAdaptiveLayout`\n",
    "* Unroller - Unroll to an abitrary (sufficient) basis!\n",
    "   \n",
    "```\n",
    "qobj = assemble_circuits(new_circuits, qobj_header=qobj_header, run_config=run_config) \n",
    "```\n",
    "\n",
    "`execute` then calls `assemble_circuits` to produce a `Qobj`, an object which is executable by OpenQASM-compliant backends. Standard execution settings, such as the number of shots or memory, are packaged in the `Qobj`.\n",
    "\n",
    "```\n",
    "return backend.run(qobj, **kwargs)\n",
    "```\n",
    "\n",
    "Finally, `execute` passes the `Qobj` to the user-specified `backend` object for execution, and returns a `Job`, not the result proper (as some executions can take a long time).\n"
   ]
  },
  {
   "cell_type": "markdown",
   "metadata": {
    "slideshow": {
     "slide_type": "slide"
    }
   },
   "source": [
    "As mentioned above, the PassManager is a container of transpiler passes to be executed on the circuit.  It's worthwhile to take a brief look at the default PassManager, which is constructed when `pass_manager=None` in the execute call:\n",
    "```\n",
    "def default_pass_manager(basis_gates, coupling_map, initial_layout,\n",
    "                         skip_numeric_passes, seed_mapper):\n",
    "    \"\"\"\n",
    "    The default pass manager that maps to the coupling map.\n",
    "\n",
    "    Args:\n",
    "        basis_gates (list[str]): list of basis gate names supported by the\n",
    "            target. Default: ['u1','u2','u3','cx','id']\n",
    "        initial_layout (Layout or None): If None, trivial layout will be chosen.\n",
    "        skip_numeric_passes (bool): If true, skip passes which require fixed parameter values\n",
    "        coupling_map (CouplingMap): coupling map (perhaps custom) to target\n",
    "            in mapping.\n",
    "        seed_mapper (int or None): random seed for the swap_mapper.\n",
    "\n",
    "    Returns:\n",
    "        PassManager: A pass manager to map and optimize.\n",
    "    \"\"\"\n",
    "    pass_manager = PassManager()\n",
    "    pass_manager.property_set['layout'] = initial_layout\n",
    "\n",
    "    pass_manager.append(Unroller(basis_gates))\n",
    "\n",
    "    # Use the trivial layout if no layouto is found\n",
    "    pass_manager.append(TrivialLayout(coupling_map),\n",
    "                        condition=lambda property_set: not property_set['layout'])\n",
    "\n",
    "    # if the circuit and layout already satisfy the coupling_constraints, use that layout\n",
    "    # otherwise layout on the most densely connected physical qubit subset\n",
    "    pass_manager.append(CheckMap(coupling_map))\n",
    "    pass_manager.append(DenseLayout(coupling_map),\n",
    "                        condition=lambda property_set: not property_set['is_swap_mapped'])\n",
    "\n",
    "    # Extend the the dag/layout with ancillas using the full coupling map\n",
    "    pass_manager.append(FullAncillaAllocation(coupling_map))\n",
    "    pass_manager.append(EnlargeWithAncilla())\n",
    "\n",
    "    # Swap mapper\n",
    "    pass_manager.append(LegacySwap(coupling_map, trials=20, seed=seed_mapper))\n",
    "\n",
    "    # Expand swaps\n",
    "    pass_manager.append(Decompose(SwapGate))\n",
    "\n",
    "    # Change CX directions\n",
    "    pass_manager.append(CXDirection(coupling_map))\n",
    "\n",
    "    # Unroll to the basis\n",
    "    pass_manager.append(Unroller(['u1', 'u2', 'u3', 'id', 'cx']))\n",
    "\n",
    "    # Simplify single qubit gates and CXs\n",
    "    if not skip_numeric_passes:\n",
    "        simplification_passes = [Optimize1qGates(), CXCancellation()]\n",
    "    else:\n",
    "        simplification_passes = [CXCancellation()]\n",
    "\n",
    "    pass_manager.append(simplification_passes + [Depth(), FixedPoint('depth')],\n",
    "                        do_while=lambda property_set: not property_set['depth_fixed_point'])\n",
    "\n",
    "    return pass_manager\n",
    "```"
   ]
  },
  {
   "cell_type": "markdown",
   "metadata": {
    "slideshow": {
     "slide_type": "slide"
    }
   },
   "source": [
    "# Notes on Transpilation\n",
    "\n",
    " * You can disable all transpilation (**at your own risk**) by passing an empty pass manager to the execute call\n",
    "   ```\n",
    "   execute(circuits, backend, pass_manager=PassMananger()):\n",
    "   ```\n",
    " * However, backends each accept only a particular set of gates and follow a strict topology for 2-qubit connectivity. For example, the IBM Q backends only accept ['u1', 'u2', 'u3', 'id', 'cx'] gates, and submitting an `RZ` gate will throw an error. If you submit a circuit with 2-qubit gates which are not present on the chip, the backend will yell at you.\n",
    "  * Note that backends will dutifully execute the instructions exactly as specified in the Qobj. As of now there is no further rearranging or unrolling once a `Qobj` is submitted.\n",
    "  * If you are doing fancy things that require less aggressive transpilation, you should probably build a `PassManager` with a restricted set of passes rather than try to hand-compile.\n",
    "\n",
    " * You can call `transpile` yourself and print your circuit if you want to see what the transpiler did!"
   ]
  },
  {
   "cell_type": "code",
   "execution_count": 12,
   "metadata": {
    "slideshow": {
     "slide_type": "fragment"
    }
   },
   "outputs": [],
   "source": [
    "from qiskit.transpiler import transpile"
   ]
  },
  {
   "cell_type": "code",
   "execution_count": 13,
   "metadata": {
    "slideshow": {
     "slide_type": "fragment"
    }
   },
   "outputs": [
    {
     "name": "stdout",
     "output_type": "stream",
     "text": [
      "                              ░       ┌─┐\n",
      "q_0: |0>──────────────────────░───────┤M├\n",
      "        ┌──────────────┐      ░ ┌─┐   └╥┘\n",
      "q_1: |0>┤ U2(0,3.1416) ├──■───░─┤M├────╫─\n",
      "        └──────────────┘┌─┴─┐ ░ └╥┘┌─┐ ║ \n",
      "q_2: |0>────────────────┤ X ├─░──╫─┤M├─╫─\n",
      "                        └───┘ ░  ║ └╥┘ ║ \n",
      "c0_0: 0 ═════════════════════════╩══╬══╬═\n",
      "                                    ║  ║ \n",
      "c0_1: 0 ════════════════════════════╩══╬═\n",
      "                                       ║ \n",
      "c0_2: 0 ═══════════════════════════════╩═\n",
      "                                         \n"
     ]
    }
   ],
   "source": [
    "chewed_circuit = transpile(bell, backend=qasm_backend, \n",
    "                           basis_gates=['u1','u2','u3','cx','id'], \n",
    "                           coupling_map=[[0, 2], [1, 2]])\n",
    "print(chewed_circuit)"
   ]
  },
  {
   "cell_type": "markdown",
   "metadata": {
    "slideshow": {
     "slide_type": "slide"
    }
   },
   "source": [
    "# Execution Settings, All Together Now - a Good Picture of Terra’s robustness"
   ]
  },
  {
   "cell_type": "code",
   "execution_count": 14,
   "metadata": {},
   "outputs": [
    {
     "name": "stdout",
     "output_type": "stream",
     "text": [
      "Help on function execute in module qiskit.execute:\n",
      "\n",
      "execute(circuits, backend, qobj_header=None, config=None, basis_gates=None, coupling_map=None, initial_layout=None, shots=1024, max_credits=10, seed=None, qobj_id=None, seed_mapper=None, pass_manager=None, memory=False, **kwargs)\n",
      "    Executes a set of circuits.\n",
      "    \n",
      "    Args:\n",
      "        circuits (QuantumCircuit or list[QuantumCircuit]): circuits to execute\n",
      "        backend (BaseBackend): a backend to execute the circuits on\n",
      "        qobj_header (QobjHeader or dict): user input to go into the header\n",
      "        config (dict): dictionary of parameters (e.g. noise) used by runner\n",
      "        basis_gates (list[str]): list of basis gate names supported by the\n",
      "            target. Default: ['u1','u2','u3','cx','id']\n",
      "        coupling_map (list): coupling map (perhaps custom) to target in mapping\n",
      "        initial_layout (list): initial layout of qubits in mapping\n",
      "        shots (int): number of repetitions of each circuit, for sampling\n",
      "        max_credits (int): maximum credits to use\n",
      "        seed (int): random seed for simulators\n",
      "        seed_mapper (int): random seed for swapper mapper\n",
      "        qobj_id (int): identifier for the generated qobj\n",
      "        pass_manager (PassManager): a pass manger for the transpiler pipeline\n",
      "        memory (bool): if True, per-shot measurement bitstrings are returned as well.\n",
      "        kwargs: extra arguments used by AER for running configurable backends.\n",
      "                Refer to the backend documentation for details on these arguments\n",
      "    \n",
      "    Returns:\n",
      "        BaseJob: returns job instance derived from BaseJob\n",
      "\n"
     ]
    }
   ],
   "source": [
    "help(execute)"
   ]
  },
  {
   "cell_type": "markdown",
   "metadata": {
    "slideshow": {
     "slide_type": "slide"
    }
   },
   "source": [
    "# Computational Flow\n",
    "\n",
    "Let's review our running count of Terra's core objects:\n",
    "* QuantumCircuit\n",
    "* QuantumRegister, ClassicalRegister\n",
    "* Instruction\n",
    "* Backend\n",
    "* DAG\n",
    "* Qobj\n",
    "* Job, result\n",
    "\n",
    "And the computational flow of Terra is:\n",
    "* Instructions are added to QuantumCircuits\n",
    "* QuantumCircuits are converted into DAGs, transpiled, and converted back into circuits\n",
    "* Circuits are assembled into Qobjs\n",
    "* Qobjs are sent to backends\n",
    "* Backends return results"
   ]
  },
  {
   "cell_type": "markdown",
   "metadata": {
    "slideshow": {
     "slide_type": "slide"
    }
   },
   "source": [
    "So far we've run a very vanilla Bell state. Let's do some more interesting things."
   ]
  },
  {
   "cell_type": "code",
   "execution_count": 15,
   "metadata": {
    "slideshow": {
     "slide_type": "fragment"
    }
   },
   "outputs": [
    {
     "data": {
      "text/html": [
       "<pre style=\"word-wrap: normal;white-space: pre;line-height: 15px;\">         ┌────────────┐      ░      ┌───┐ ░ ┌─┐   \n",
       "q0_0: |0>┤ Ry(1.5708) ├──────░───■──┤ H ├─░─┤M├───\n",
       "         ├────────────┤      ░ ┌─┴─┐└───┘ ░ └╥┘┌─┐\n",
       "q0_1: |0>┤     H      ├──■───░─┤ X ├──────░──╫─┤M├\n",
       "         └────────────┘┌─┴─┐ ░ └───┘      ░  ║ └╥┘\n",
       "q0_2: |0>──────────────┤ X ├─░────────────░──╫──╫─\n",
       "                       └───┘ ░            ░  ║  ║ \n",
       " c0_0: 0 ════════════════════════════════════╩══╬═\n",
       "                                                ║ \n",
       " c0_1: 0 ═══════════════════════════════════════╩═\n",
       "                                                  \n",
       " c0_2: 0 ═════════════════════════════════════════\n",
       "                                                  </pre>"
      ],
      "text/plain": [
       "<qiskit.visualization.text.TextDrawing at 0x1221eed30>"
      ]
     },
     "execution_count": 15,
     "metadata": {},
     "output_type": "execute_result"
    }
   ],
   "source": [
    "tele = QuantumCircuit(qr, cr)\n",
    "tele.ry(np.pi/2, qr[0])\n",
    "tele.h(qr[1])\n",
    "tele.cx(qr[1], qr[2])\n",
    "tele.barrier()\n",
    "\n",
    "tele.cx(qr[0], qr[1])\n",
    "tele.h(qr[0])\n",
    "tele.barrier()\n",
    "\n",
    "tele.measure(qr[0], cr[0])\n",
    "tele.measure(qr[1], cr[1])\n",
    "\n",
    "tele.draw()"
   ]
  },
  {
   "cell_type": "markdown",
   "metadata": {
    "slideshow": {
     "slide_type": "slide"
    }
   },
   "source": [
    "Qiskit allows conditional gates in simulation, but not on the real quantum hardware (yet)."
   ]
  },
  {
   "cell_type": "code",
   "execution_count": 16,
   "metadata": {
    "slideshow": {
     "slide_type": "fragment"
    }
   },
   "outputs": [
    {
     "data": {
      "text/html": [
       "<pre style=\"word-wrap: normal;white-space: pre;line-height: 15px;\">         ┌────────────┐      ░      ┌───┐ ░ ┌─┐                           \n",
       "q0_0: |0>┤ Ry(1.5708) ├──────░───■──┤ H ├─░─┤M├───────────────────────────\n",
       "         ├────────────┤      ░ ┌─┴─┐└───┘ ░ └╥┘┌─┐                        \n",
       "q0_1: |0>┤     H      ├──■───░─┤ X ├──────░──╫─┤M├────────────────────────\n",
       "         └────────────┘┌─┴─┐ ░ └───┘      ░  ║ └╥┘┌─────┐┌─────┐┌─────┐┌─┐\n",
       "q0_2: |0>──────────────┤ X ├─░────────────░──╫──╫─┤  Z  ├┤  X  ├┤  Y  ├┤M├\n",
       "                       └───┘ ░            ░  ║  ║ ├──┴──┤├──┴──┤├──┴──┤└╥┘\n",
       " c0_0: 0 ════════════════════════════════════╩══╬═╡     ╞╡     ╞╡     ╞═╬═\n",
       "                                                ║ │     ││     ││     │ ║ \n",
       " c0_1: 0 ═══════════════════════════════════════╩═╡ = 1 ╞╡ = 2 ╞╡ = 3 ╞═╬═\n",
       "                                                  │     ││     ││     │ ║ \n",
       " c0_2: 0 ═════════════════════════════════════════╡     ╞╡     ╞╡     ╞═╩═\n",
       "                                                  └─────┘└─────┘└─────┘   </pre>"
      ],
      "text/plain": [
       "<qiskit.visualization.text.TextDrawing at 0x1101c0be0>"
      ]
     },
     "execution_count": 16,
     "metadata": {},
     "output_type": "execute_result"
    }
   ],
   "source": [
    "tele.z(qr[2]).c_if(cr, 1)\n",
    "tele.x(qr[2]).c_if(cr, 2)\n",
    "tele.y(qr[2]).c_if(cr, 3) # Note that ZX =iY\n",
    "tele.measure(qr[2], cr[2])\n",
    "tele.draw()"
   ]
  },
  {
   "cell_type": "markdown",
   "metadata": {
    "slideshow": {
     "slide_type": "slide"
    }
   },
   "source": [
    "You might recognize this as Qauntum Teleportation. You can find a more in depth guide to teleportation in Anna Phan's notebook on the topic, [here](https://github.com/Qiskit/qiskit-tutorial/blob/master/community/terra/qis_intro/teleportation_superdensecoding.ipynb) 📒.\n",
    "\n",
    "Let's see what pops out."
   ]
  },
  {
   "cell_type": "code",
   "execution_count": 17,
   "metadata": {
    "slideshow": {
     "slide_type": "fragment"
    }
   },
   "outputs": [
    {
     "data": {
      "text/plain": [
       "{'001': 126,\n",
       " '000': 144,\n",
       " '100': 122,\n",
       " '010': 116,\n",
       " '101': 126,\n",
       " '110': 138,\n",
       " '111': 127,\n",
       " '011': 125}"
      ]
     },
     "execution_count": 17,
     "metadata": {},
     "output_type": "execute_result"
    }
   ],
   "source": [
    "job = execute(tele, qasm_backend)\n",
    "\n",
    "result = job.result()\n",
    "result.get_counts(tele)"
   ]
  },
  {
   "cell_type": "markdown",
   "metadata": {
    "slideshow": {
     "slide_type": "slide"
    }
   },
   "source": [
    "Maybe this isn't accurate enough to tell what we encoded on qubit 1. Let's increase the number of shots."
   ]
  },
  {
   "cell_type": "code",
   "execution_count": 18,
   "metadata": {
    "slideshow": {
     "slide_type": "fragment"
    }
   },
   "outputs": [
    {
     "data": {
      "text/plain": [
       "{'001': 1263,\n",
       " '000': 1277,\n",
       " '100': 1218,\n",
       " '010': 1278,\n",
       " '101': 1255,\n",
       " '110': 1259,\n",
       " '111': 1239,\n",
       " '011': 1211}"
      ]
     },
     "execution_count": 18,
     "metadata": {},
     "output_type": "execute_result"
    }
   ],
   "source": [
    "job = execute(tele, qasm_backend, shots = 10000)\n",
    "\n",
    "result = job.result()\n",
    "result.get_counts(tele)"
   ]
  },
  {
   "cell_type": "markdown",
   "metadata": {
    "slideshow": {
     "slide_type": "slide"
    }
   },
   "source": [
    "Now let's visualize those results as a histogram"
   ]
  },
  {
   "cell_type": "code",
   "execution_count": 19,
   "metadata": {
    "slideshow": {
     "slide_type": "fragment"
    }
   },
   "outputs": [],
   "source": [
    "from qiskit.tools.visualization import plot_histogram"
   ]
  },
  {
   "cell_type": "code",
   "execution_count": 20,
   "metadata": {
    "slideshow": {
     "slide_type": "fragment"
    }
   },
   "outputs": [
    {
     "data": {
      "image/png": "[encoded data removed]",
      "text/plain": [
       "<Figure size 504x360 with 1 Axes>"
      ]
     },
     "execution_count": 20,
     "metadata": {},
     "output_type": "execute_result"
    }
   ],
   "source": [
    "plot_histogram(result.get_counts(tele))"
   ]
  },
  {
   "cell_type": "markdown",
   "metadata": {
    "slideshow": {
     "slide_type": "slide"
    }
   },
   "source": [
    "And now, calculating the percentage of shots with $|0\\rangle$ measured on qubit 2 (but qubit 0 in our results)."
   ]
  },
  {
   "cell_type": "code",
   "execution_count": 21,
   "metadata": {
    "slideshow": {
     "slide_type": "fragment"
    }
   },
   "outputs": [
    {
     "data": {
      "text/plain": [
       "0.5029"
      ]
     },
     "execution_count": 21,
     "metadata": {},
     "output_type": "execute_result"
    }
   ],
   "source": [
    "counts = result.get_counts(tele)\n",
    "qubit3_p0 = sum([v for k, v in counts.items() if k[0]=='0'])/10000\n",
    "qubit3_p0"
   ]
  },
  {
   "cell_type": "markdown",
   "metadata": {
    "slideshow": {
     "slide_type": "slide"
    }
   },
   "source": [
    "Our probability of finding 0 is 50%, which is correct, because $ry(\\pi / 2)$ should put qubit 0 in the $|+\\rangle$ state. \n",
    "\n",
    "But how do we know that we're not in the $|-\\rangle$ state, or any other state along the equator of the Bloch sphere? Let's use a Hadamard to see whether our phase is correct. We'll need to delete the final measurement and add the Hadamard to do this."
   ]
  },
  {
   "cell_type": "code",
   "execution_count": 22,
   "metadata": {
    "slideshow": {
     "slide_type": "fragment"
    }
   },
   "outputs": [
    {
     "data": {
      "text/html": [
       "<pre style=\"word-wrap: normal;white-space: pre;line-height: 15px;\">         ┌────────────┐      ░      ┌───┐ ░ ┌─┐                                \n",
       "q0_0: |0>┤ Ry(1.5708) ├──────░───■──┤ H ├─░─┤M├────────────────────────────────\n",
       "         ├────────────┤      ░ ┌─┴─┐└───┘ ░ └╥┘┌─┐                             \n",
       "q0_1: |0>┤     H      ├──■───░─┤ X ├──────░──╫─┤M├─────────────────────────────\n",
       "         └────────────┘┌─┴─┐ ░ └───┘      ░  ║ └╥┘┌─────┐┌─────┐┌─────┐┌───┐┌─┐\n",
       "q0_2: |0>──────────────┤ X ├─░────────────░──╫──╫─┤  Z  ├┤  X  ├┤  Y  ├┤ H ├┤M├\n",
       "                       └───┘ ░            ░  ║  ║ ├──┴──┤├──┴──┤├──┴──┤└───┘└╥┘\n",
       " c0_0: 0 ════════════════════════════════════╩══╬═╡     ╞╡     ╞╡     ╞══════╬═\n",
       "                                                ║ │     ││     ││     │      ║ \n",
       " c0_1: 0 ═══════════════════════════════════════╩═╡ = 1 ╞╡ = 2 ╞╡ = 3 ╞══════╬═\n",
       "                                                  │     ││     ││     │      ║ \n",
       " c0_2: 0 ═════════════════════════════════════════╡     ╞╡     ╞╡     ╞══════╩═\n",
       "                                                  └─────┘└─────┘└─────┘        </pre>"
      ],
      "text/plain": [
       "<qiskit.visualization.text.TextDrawing at 0x1242f4f98>"
      ]
     },
     "execution_count": 22,
     "metadata": {},
     "output_type": "execute_result"
    }
   ],
   "source": [
    "del(tele.data[-1])\n",
    "tele.h(qr[2])\n",
    "tele.measure(qr[2], cr[2])\n",
    "tele.draw(line_length=200)"
   ]
  },
  {
   "cell_type": "code",
   "execution_count": 23,
   "metadata": {
    "slideshow": {
     "slide_type": "fragment"
    }
   },
   "outputs": [
    {
     "data": {
      "text/plain": [
       "1.0"
      ]
     },
     "execution_count": 23,
     "metadata": {},
     "output_type": "execute_result"
    }
   ],
   "source": [
    "shots = 100000\n",
    "job = execute(tele, qasm_backend, shots=shots)\n",
    "\n",
    "result = job.result()\n",
    "result.get_counts(tele)\n",
    "counts = result.get_counts(tele)\n",
    "qubit3_p0 = sum([v for k, v in counts.items() if k[0]=='0'])/100000\n",
    "qubit3_p0"
   ]
  },
  {
   "cell_type": "markdown",
   "metadata": {
    "slideshow": {
     "slide_type": "fragment"
    }
   },
   "source": [
    "Looks like our final state is indeed $|+\\rangle$, because our P($\\langle\\phi|H|0\\rangle$) = 100%. "
   ]
  },
  {
   "cell_type": "markdown",
   "metadata": {
    "slideshow": {
     "slide_type": "slide"
    }
   },
   "source": [
    "# Part II: Providers and Backends - Aer, IBM Q, and 3P Providers"
   ]
  },
  {
   "cell_type": "markdown",
   "metadata": {
    "slideshow": {
     "slide_type": "slide"
    }
   },
   "source": [
    "## Our Running Example: Phase Estimation\n",
    "\n",
    "All this talk of checking phases is making me want to check my phases robustly. Let's see if we can work out a small phase estimation function, and sanity check it on simulators before trying it on the quantum hardware. We'll start with a QFT circuit which I've copied out of `qiskit_terra/examples/python/`. I'm also going to use the Pauli X as my controlled unitary, which simplifies things a lot. Then I'll start defining a function to give me my circuit."
   ]
  },
  {
   "cell_type": "code",
   "execution_count": 24,
   "metadata": {
    "slideshow": {
     "slide_type": "fragment"
    }
   },
   "outputs": [],
   "source": [
    "def qft(circ, q, n):\n",
    "    \"\"\"n-qubit QFT on q in circ.\"\"\"\n",
    "    for j in range(n):\n",
    "        for k in range(j):\n",
    "            circ.cu1(np.pi / float(2**(j - k)), q[j], q[k])\n",
    "        circ.h(q[j])"
   ]
  },
  {
   "cell_type": "code",
   "execution_count": 25,
   "metadata": {
    "slideshow": {
     "slide_type": "fragment"
    }
   },
   "outputs": [],
   "source": [
    "#Takes in a circuit with an operator on qubit n and appends the qpe circuit\n",
    "def x_qpe(circ, q, n):\n",
    "    for i in range(n-1):\n",
    "        circ.h(q[i])\n",
    "    for j in range(0, n-1, 2): # Only place a CX^n on every other qubit, because CX^n = I for n even\n",
    "        circ.cx(q[j], q[n-1])\n",
    "    circ.barrier()\n",
    "    qft(circ, q, n-1)"
   ]
  },
  {
   "cell_type": "markdown",
   "metadata": {
    "slideshow": {
     "slide_type": "slide"
    }
   },
   "source": [
    "Now let's build and print a circuit using these functions. Play around with the ancilla number, the operator, the initial state, etc. below, see what happens:"
   ]
  },
  {
   "cell_type": "code",
   "execution_count": 26,
   "metadata": {
    "slideshow": {
     "slide_type": "-"
    }
   },
   "outputs": [],
   "source": [
    "# n-1 is the number of ancilla\n",
    "n = 4\n",
    "qr = QuantumRegister(n)\n",
    "cr = ClassicalRegister(n)\n",
    "x_qpe_qc = QuantumCircuit(qr, cr)\n",
    "x_qpe_qc.rx(np.pi/2, qr[n-1])\n",
    "x_qpe_qc.barrier()\n",
    "x_qpe(x_qpe_qc, qr, n)"
   ]
  },
  {
   "cell_type": "code",
   "execution_count": 27,
   "metadata": {
    "slideshow": {
     "slide_type": "fragment"
    }
   },
   "outputs": [
    {
     "data": {
      "text/html": [
       "<pre style=\"word-wrap: normal;white-space: pre;line-height: 15px;\">                        ░ ┌───┐           ░ ┌───┐                                     \n",
       "q1_0: |0>───────────────░─┤ H ├──■────────░─┤ H ├─■────────■──────────────────────────\n",
       "                        ░ ├───┤  │        ░ └───┘ │1.5708  │       ┌───┐              \n",
       "q1_1: |0>───────────────░─┤ H ├──┼────────░───────■────────┼───────┤ H ├─■────────────\n",
       "                        ░ ├───┤  │        ░                │0.7854 └───┘ │1.5708 ┌───┐\n",
       "q1_2: |0>───────────────░─┤ H ├──┼────■───░────────────────■─────────────■───────┤ H ├\n",
       "         ┌────────────┐ ░ └───┘┌─┴─┐┌─┴─┐ ░                                      └───┘\n",
       "q1_3: |0>┤ Rx(1.5708) ├─░──────┤ X ├┤ X ├─░───────────────────────────────────────────\n",
       "         └────────────┘ ░      └───┘└───┘ ░                                           \n",
       " c1_0: 0 ═════════════════════════════════════════════════════════════════════════════\n",
       "                                                                                      \n",
       " c1_1: 0 ═════════════════════════════════════════════════════════════════════════════\n",
       "                                                                                      \n",
       " c1_2: 0 ═════════════════════════════════════════════════════════════════════════════\n",
       "                                                                                      \n",
       " c1_3: 0 ═════════════════════════════════════════════════════════════════════════════\n",
       "                                                                                      </pre>"
      ],
      "text/plain": [
       "<qiskit.visualization.text.TextDrawing at 0x1242f6da0>"
      ]
     },
     "execution_count": 27,
     "metadata": {},
     "output_type": "execute_result"
    }
   ],
   "source": [
    "x_qpe_qc.draw(line_length=200)"
   ]
  },
  {
   "cell_type": "markdown",
   "metadata": {},
   "source": [
    "Now that we have our basic algorithm, let's start trying to test and validate it in some quantum execution environments, or **backends**."
   ]
  },
  {
   "cell_type": "markdown",
   "metadata": {
    "slideshow": {
     "slide_type": "slide"
    }
   },
   "source": [
    "# Interlude: Providers and Backends\n",
    "\n",
    "Qiskit offers connectors into three core execution `providers`, each providing several `backends`:\n",
    "\n",
    "* Aer: Qiskit's suite of simulators\n",
    "* BasicAer: Simple and lightweight numpy-based simulators built into Terra for convenience\n",
    "* IBMQ: IBM's Quantum devices, and an HPC simulator\n",
    "\n",
    "In addition, there are several other non-core or 3P providers:\n",
    "* [QCGPU](https://qcgpu.github.io/)\n",
    "* [JKU](https://github.com/Qiskit/qiskit-jku-provider)\n",
    "* [ProjectQ Provider](https://github.com/Qiskit/qiskit-projectq-provider)\n",
    "\n",
    "As we saw above, you ask a provider library for a backend object like this:\n",
    "```\n",
    "Aer.get_backend('statevector_simulator')\n",
    "IBMQ.get_backend('ibmqx4')\n",
    "```"
   ]
  },
  {
   "cell_type": "code",
   "execution_count": 28,
   "metadata": {
    "slideshow": {
     "slide_type": "fragment"
    }
   },
   "outputs": [],
   "source": [
    "from qiskit import IBMQ, Aer, BasicAer"
   ]
  },
  {
   "cell_type": "markdown",
   "metadata": {
    "slideshow": {
     "slide_type": "slide"
    }
   },
   "source": [
    "# Aer and BasicAer Simuators\n",
    "\n",
    "* **qasm_simulator** - cpp simulator, old faithful - a shot-based simulator\n",
    "  * Input: a Qobj and execution config\n",
    "  * Output: a results object containing a dictionary with basis states and shots per state\n",
    "    * {‘00’: 425, ‘01’: 267, ‘11’: 90}\n",
    "  * You can specify a random seed so the probabilistic measurement and noise stays the same\n",
    "  * Noise - In Aer (not BasicAer), includes sophisticated noise models, which you can find more info about [here](https://github.com/Qiskit/qiskit-terra/blob/0.7.0/src/qasm-simulator-cpp/README.md) 📒\n",
    "    * Unfortunately, the noise modelling in Aer does not yet have public documentation.\n",
    "    * **🚨Note that non-noisy simulation runs a single monte carlo to produce the final wavefunction and samples from it randomly to produce counts. For noisy simulation we _do not_ simulate density matrices, so noisy simulation runs one monte carlo per shot and is O(shots) slower than noiseless!**\n",
    "  * `pip install qiskit` comes with binaries for many platforms so you don’t need to compile cpp\n",
    "  * If you’re running on another platform, check out the [Aer contributing file on github](https://github.com/Qiskit/qiskit-aer/blob/master/.github/CONTRIBUTING.md#install-from-source) for make instructions. Like any C++ compilation, it might take some finagling\n",
    "* **statevector_simulator** - This is the qasm_simulator with a statevector snapshot at the end\n",
    "  * Returns a result object containing a dictionary of computational basis states with **complex amplitudes** for each, not counts\n",
    "* **unitary_simulator** - Returns a matrix of your circuit!\n",
    "* **ibmq_qasm_simulator** - a public simulator on an HPC machine run by IBM (Note, this is under the `IBMQ Provider`)"
   ]
  },
  {
   "cell_type": "code",
   "execution_count": 29,
   "metadata": {
    "slideshow": {
     "slide_type": "fragment"
    }
   },
   "outputs": [
    {
     "name": "stdout",
     "output_type": "stream",
     "text": [
      "qasm_simulator\n"
     ]
    }
   ],
   "source": [
    "backend = Aer.get_backend(\"qasm_simulator\")\n",
    "print(backend)"
   ]
  },
  {
   "cell_type": "markdown",
   "metadata": {
    "slideshow": {
     "slide_type": "slide"
    }
   },
   "source": [
    "## The Qunatum Algorithm Testing Flow\n",
    "\n",
    "Most of our researchers follow a sort of backend-execution-difficulty continuum as we're testing new algorithms and applications.\n",
    "1. We start by testing on the statevector_simulator to verify that the algorithm works in the most idealized possible environment, and with high transparency if something is wrong\n",
    "1. Then we test on the qasm_simulator with no noise, to validate that the algoirthm works in the presence of sampling noise, but not simulated physical noise. This helps us distinguish between possible sources of error. If we also tested with simulated physical noise at this stage, we'd be unable to tell whether any issues were rooted in sampling noise or physical noise.\n",
    "1. Next we test in simulation with basic noise models, in most cases to obtain a very rough read of whether to spend time running on quantum hardware (because this is quite slow).\n",
    "1. Finally we test our algorithm on Quantum hardware."
   ]
  },
  {
   "cell_type": "markdown",
   "metadata": {
    "slideshow": {
     "slide_type": "slide"
    }
   },
   "source": [
    "## Putting Our Phase Estimation Circuit Through the Gauntlet:"
   ]
  },
  {
   "cell_type": "markdown",
   "metadata": {
    "slideshow": {
     "slide_type": "-"
    }
   },
   "source": [
    "First, we'll run on the statevector simulator to verify that the core of our algorithm works in the ideal case, where complete state is preserved and no noise is present, including shot noise."
   ]
  },
  {
   "cell_type": "code",
   "execution_count": 30,
   "metadata": {
    "slideshow": {
     "slide_type": "fragment"
    }
   },
   "outputs": [
    {
     "name": "stdout",
     "output_type": "stream",
     "text": [
      "statevector_simulator\n"
     ]
    }
   ],
   "source": [
    "sv_backend = BasicAer.get_backend('statevector_simulator')\n",
    "print(sv_backend)"
   ]
  },
  {
   "cell_type": "code",
   "execution_count": 31,
   "metadata": {
    "slideshow": {
     "slide_type": "fragment"
    }
   },
   "outputs": [
    {
     "data": {
      "text/plain": [
       "0.5"
      ]
     },
     "execution_count": 31,
     "metadata": {},
     "output_type": "execute_result"
    }
   ],
   "source": [
    "job = execute(x_qpe_qc, sv_backend)\n",
    "\n",
    "result = job.result()\n",
    "amps = result.get_statevector(x_qpe_qc)\n",
    "probs = np.absolute(amps)**2\n",
    "probs_anc = probs[0:2**(n-1)] + probs[2**(n-1):]\n",
    "angles = probs_anc * range(0, 2**(n-1)) / (2**(n-1))\n",
    "res = 2*sum(angles)\n",
    "np.around(res, decimals=5)"
   ]
  },
  {
   "cell_type": "markdown",
   "metadata": {},
   "source": [
    "This is saying that our algorithm estimates the phase difference between $ry(\\pi/2)|0\\rangle$ and $X ry(\\pi/2)|0\\rangle$ to be $.5*2\\pi$, or just $\\pi$. We know this to be correct by thinking about the Bloch sphere."
   ]
  },
  {
   "cell_type": "markdown",
   "metadata": {
    "slideshow": {
     "slide_type": "slide"
    }
   },
   "source": [
    "Let's also run our single unitary on the statevector simulator to check that we have the right phase difference."
   ]
  },
  {
   "cell_type": "code",
   "execution_count": 32,
   "metadata": {
    "slideshow": {
     "slide_type": "fragment"
    }
   },
   "outputs": [
    {
     "data": {
      "text/plain": [
       "0.5"
      ]
     },
     "execution_count": 32,
     "metadata": {},
     "output_type": "execute_result"
    }
   ],
   "source": [
    "x_qr = QuantumRegister(1)\n",
    "x_cr = ClassicalRegister(1)\n",
    "x_circuit = QuantumCircuit(x_qr, x_cr)\n",
    "x_circuit.rx(np.pi/2, x_qr[0])\n",
    "job = execute(x_circuit, sv_backend)\n",
    "\n",
    "result = job.result()\n",
    "angles = np.angle(result.get_statevector(x_circuit))/(2*np.pi)\n",
    "p0 = angles[1] - angles[0]\n",
    "\n",
    "x_circuit.x(x_qr[0])\n",
    "job = execute(x_circuit, sv_backend)\n",
    "\n",
    "result = job.result()\n",
    "angles = np.angle(result.get_statevector(x_circuit))/(2*np.pi)\n",
    "p1 = angles[1] - angles[0]\n",
    "\n",
    "difference = p1-p0\n",
    "\n",
    "res = difference if difference > 0 else difference+1\n",
    "res"
   ]
  },
  {
   "cell_type": "markdown",
   "metadata": {
    "slideshow": {
     "slide_type": "fragment"
    }
   },
   "source": [
    "👍"
   ]
  },
  {
   "cell_type": "markdown",
   "metadata": {
    "slideshow": {
     "slide_type": "slide"
    }
   },
   "source": [
    "Now let's introduce shot noise by running on the qasm_simulator:"
   ]
  },
  {
   "cell_type": "code",
   "execution_count": 33,
   "metadata": {
    "slideshow": {
     "slide_type": "fragment"
    }
   },
   "outputs": [],
   "source": [
    "qasm_backend = Aer.get_backend('qasm_simulator')"
   ]
  },
  {
   "cell_type": "markdown",
   "metadata": {
    "slideshow": {
     "slide_type": "fragment"
    }
   },
   "source": [
    "Don't forget to measure! Recall that we don't measure our $|u\\rangle$ qubit."
   ]
  },
  {
   "cell_type": "code",
   "execution_count": 34,
   "metadata": {
    "slideshow": {
     "slide_type": "fragment"
    }
   },
   "outputs": [],
   "source": [
    "x_qpe_qc.barrier()\n",
    "for i in range(n-1):\n",
    "    x_qpe_qc.measure(qr[i], cr[i])"
   ]
  },
  {
   "cell_type": "code",
   "execution_count": 35,
   "metadata": {
    "slideshow": {
     "slide_type": "fragment"
    }
   },
   "outputs": [
    {
     "data": {
      "text/plain": [
       "0.50728"
      ]
     },
     "execution_count": 35,
     "metadata": {},
     "output_type": "execute_result"
    }
   ],
   "source": [
    "shots = 10000\n",
    "job = execute(x_qpe_qc, qasm_backend, shots = shots)\n",
    "\n",
    "result = job.result()\n",
    "counts = result.get_counts(x_qpe_qc)\n",
    "angles = np.array([v*int(k, 2) for k, v in counts.items()]) / shots / 2**(n-1)\n",
    "res = 2*sum(angles)\n",
    "np.around(res, decimals=5)"
   ]
  },
  {
   "cell_type": "code",
   "execution_count": 36,
   "metadata": {
    "slideshow": {
     "slide_type": "slide"
    }
   },
   "outputs": [
    {
     "data": {
      "image/png": "[encoded data removed]",
      "text/plain": [
       "<Figure size 504x360 with 1 Axes>"
      ]
     },
     "execution_count": 36,
     "metadata": {},
     "output_type": "execute_result"
    }
   ],
   "source": [
    "plot_histogram(counts)"
   ]
  },
  {
   "cell_type": "markdown",
   "metadata": {
    "slideshow": {
     "slide_type": "-"
    }
   },
   "source": [
    "Not bad - but this only includes shot noise. Let's introduce some physical noise into the simulation based on the callibration data from a real device."
   ]
  },
  {
   "cell_type": "markdown",
   "metadata": {
    "slideshow": {
     "slide_type": "slide"
    }
   },
   "source": [
    "## The IBMQ Provider: Pulling Device Information and Executing on Quantum Hardware\n",
    "\n",
    "The IBMQ Provider has a few core functionalities:\n",
    "* Providing the IBMQ quantum hardware and cloud simulator backend objects, which include hooks into the APIs necessary to interact with these execution environments\n",
    "* Providing system information for user consumption and for use in transpilation (e.g. coupling map, basis set)\n",
    "* Providing quantum hardware properties based on callibration data\n",
    "\n",
    "To use the Q provider, you'll either get your Q Network API token and URL from the [console](https://q-console.mybluemix.net/) (if you are are a member of the Q Network), or you'll need to get an IBM Q Experience API token from the [Q Experience accounts page](https://quantumexperience.ng.bluemix.net/qx/account/advanced).\n",
    "\n",
    "Below we'll obtain for a hardware backend object, pull some data, build a noise model based on the hardware data, execute a noisy simulation with our model, and finally execute on the real device."
   ]
  },
  {
   "cell_type": "markdown",
   "metadata": {
    "slideshow": {
     "slide_type": "slide"
    }
   },
   "source": [
    "### First, load up your Q accounts and pull the list of backends to which you have access (more info [here](https://github.com/Qiskit/qiskit-tutorials/blob/master/qiskit/basics/the_ibmq_provider.ipynb) 📒):"
   ]
  },
  {
   "cell_type": "code",
   "execution_count": 37,
   "metadata": {},
   "outputs": [
    {
     "name": "stdout",
     "output_type": "stream",
     "text": [
      "Available backends:\n"
     ]
    },
    {
     "data": {
      "text/plain": [
       "[<IBMQBackend('ibmq_20_tokyo') from IBMQ(ibm-q-dev, support, default)>,\n",
       " <IBMQBackend('ibmq_poughkeepsie') from IBMQ(ibm-q-dev, support, default)>,\n",
       " <IBMQSimulator('ibmq_qasm_simulator') from IBMQ(ibm-q-dev, support, default)>,\n",
       " <IBMQBackend('ibmqx4') from IBMQ()>,\n",
       " <IBMQBackend('ibmqx2') from IBMQ()>,\n",
       " <IBMQBackend('ibmq_16_melbourne') from IBMQ()>,\n",
       " <IBMQSimulator('ibmq_qasm_simulator') from IBMQ()>]"
      ]
     },
     "execution_count": 37,
     "metadata": {},
     "output_type": "execute_result"
    }
   ],
   "source": [
    "# IBMQ.enable_account('<key>')\n",
    "# uncomment this ^^^ and insert your API key. Add a 'url' argument for Q Network users\n",
    "\n",
    "# Or you can use:\n",
    "IBMQ.load_accounts()\n",
    "\n",
    "print(\"Available backends:\")\n",
    "IBMQ.backends()"
   ]
  },
  {
   "cell_type": "markdown",
   "metadata": {},
   "source": [
    "Next, let's grab a backend:"
   ]
  },
  {
   "cell_type": "code",
   "execution_count": 75,
   "metadata": {},
   "outputs": [],
   "source": [
    "q_backend = IBMQ.get_backend('ibmq_16_melbourne')\n",
    "# NOTE: I used a private device for the executions below"
   ]
  },
  {
   "cell_type": "markdown",
   "metadata": {
    "slideshow": {
     "slide_type": "slide"
    }
   },
   "source": [
    "# Visualizing Devices, and Pulling Device Info\n",
    "\n",
    "We can pull a relatively large quantity of data about a particular backend from the IBMQ API, but it's very difficult to read. Luckily, Terra has some neat built-in Jupyter magics for browsing this device information, such as qubit error, job queues for public devices, coupling maps, and more. More info [here](https://github.com/Qiskit/qiskit-tutorials/blob/master/qiskit/jupyter/jupyter_backend_tools.ipynb) 📒.\n",
    "\n",
    "Let's start by pulling the raw data just to see what it looks like, and because we'll need it to build our noise model later:"
   ]
  },
  {
   "cell_type": "code",
   "execution_count": 76,
   "metadata": {},
   "outputs": [
    {
     "name": "stdout",
     "output_type": "stream",
     "text": [
      "BackendConfiguration(allow_q_object=True, backend_name='ibmq_16_melbourne', backend_version='1.0.0', basis_gates=['u1', 'u2', 'u3', 'cx', 'id'], conditional=False, coupling_map=[[1, 0], [1, 2], [2, 3], [4, 3], [4, 10], [5, 4], [5, 6], [5, 9], [6, 8], [7, 8], [9, 8], [9, 10], [11, 3], [11, 10], [11, 12], [12, 2], [13, 1], [13, 12]], credits_required=True, description='14 qubit device', gates=[GateConfig(coupling_map=[[0], [1], [2], [3], [4], [5], [6], [7], [8], [9], [10], [11], [12], [13]], name='id', parameters=[], qasm_def='gate id q { U(0,0,0) q; }'), GateConfig(coupling_map=[[0], [1], [2], [3], [4], [5], [6], [7], [8], [9], [10], [11], [12], [13]], name='u1', parameters=['lambda'], qasm_def='gate u1(lambda) q { U(0,0,lambda) q; }'), GateConfig(coupling_map=[[0], [1], [2], [3], [4], [5], [6], [7], [8], [9], [10], [11], [12], [13]], name='u2', parameters=['phi', 'lambda'], qasm_def='gate u2(phi,lambda) q { U(pi/2,phi,lambda) q; }'), GateConfig(coupling_map=[[0], [1], [2], [3], [4], [5], [6], [7], [8], [9], [10], [11], [12], [13]], name='u3', parameters=['theta', 'phi', 'lambda'], qasm_def='u3(theta,phi,lambda) q { U(theta,phi,lambda) q; }'), GateConfig(coupling_map=[[1, 0], [1, 2], [2, 3], [4, 3], [4, 10], [5, 4], [5, 6], [5, 9], [6, 8], [7, 8], [9, 8], [9, 10], [11, 3], [11, 10], [11, 12], [12, 2], [13, 1], [13, 12]], name='cx', parameters=[], qasm_def='gate cx q1,q2 { CX q1,q2; }')], local=False, max_experiments=75, max_shots=8192, memory=False, n_qubits=14, n_registers=1, online_date=datetime.datetime(2018, 11, 6, 5, 0, tzinfo=tzutc()), open_pulse=False, sample_name='albatross', simulator=False, url='None')\n"
     ]
    }
   ],
   "source": [
    "configuration = q_backend.configuration()\n",
    "print(configuration)"
   ]
  },
  {
   "cell_type": "code",
   "execution_count": 77,
   "metadata": {
    "slideshow": {
     "slide_type": "slide"
    }
   },
   "outputs": [
    {
     "name": "stdout",
     "output_type": "stream",
     "text": [
      "BackendProperties(backend_name='ibmq_16_melbourne', backend_version='1.0.0', gates=[Gate(gate='u1', parameters=[Nduv(date=datetime.datetime(2019, 4, 24, 6, 41, tzinfo=tzutc()), name='gate_error', unit='', value=0.0)], qubits=[0]), Gate(gate='u2', parameters=[Nduv(date=datetime.datetime(2019, 4, 24, 6, 41, tzinfo=tzutc()), name='gate_error', unit='', value=0.002585646633761818)], qubits=[0]), Gate(gate='u3', parameters=[Nduv(date=datetime.datetime(2019, 4, 24, 6, 41, tzinfo=tzutc()), name='gate_error', unit='', value=0.005171293267523636)], qubits=[0]), Gate(gate='u1', parameters=[Nduv(date=datetime.datetime(2019, 4, 24, 6, 41, tzinfo=tzutc()), name='gate_error', unit='', value=0.0)], qubits=[1]), Gate(gate='u2', parameters=[Nduv(date=datetime.datetime(2019, 4, 24, 6, 41, tzinfo=tzutc()), name='gate_error', unit='', value=0.011931610872511267)], qubits=[1]), Gate(gate='u3', parameters=[Nduv(date=datetime.datetime(2019, 4, 24, 6, 41, tzinfo=tzutc()), name='gate_error', unit='', value=0.023863221745022534)], qubits=[1]), Gate(gate='u1', parameters=[Nduv(date=datetime.datetime(2019, 4, 24, 6, 41, tzinfo=tzutc()), name='gate_error', unit='', value=0.0)], qubits=[2]), Gate(gate='u2', parameters=[Nduv(date=datetime.datetime(2019, 4, 24, 6, 41, tzinfo=tzutc()), name='gate_error', unit='', value=0.00566488507567503)], qubits=[2]), Gate(gate='u3', parameters=[Nduv(date=datetime.datetime(2019, 4, 24, 6, 41, tzinfo=tzutc()), name='gate_error', unit='', value=0.01132977015135006)], qubits=[2]), Gate(gate='u1', parameters=[Nduv(date=datetime.datetime(2019, 4, 24, 6, 41, tzinfo=tzutc()), name='gate_error', unit='', value=0.0)], qubits=[3]), Gate(gate='u2', parameters=[Nduv(date=datetime.datetime(2019, 4, 24, 6, 41, tzinfo=tzutc()), name='gate_error', unit='', value=0.0010268184493827381)], qubits=[3]), Gate(gate='u3', parameters=[Nduv(date=datetime.datetime(2019, 4, 24, 6, 41, tzinfo=tzutc()), name='gate_error', unit='', value=0.0020536368987654763)], qubits=[3]), Gate(gate='u1', parameters=[Nduv(date=datetime.datetime(2019, 4, 24, 6, 41, tzinfo=tzutc()), name='gate_error', unit='', value=0.0)], qubits=[4]), Gate(gate='u2', parameters=[Nduv(date=datetime.datetime(2019, 4, 24, 6, 41, tzinfo=tzutc()), name='gate_error', unit='', value=0.0019344623672307715)], qubits=[4]), Gate(gate='u3', parameters=[Nduv(date=datetime.datetime(2019, 4, 24, 6, 41, tzinfo=tzutc()), name='gate_error', unit='', value=0.003868924734461543)], qubits=[4]), Gate(gate='u1', parameters=[Nduv(date=datetime.datetime(2019, 4, 24, 6, 41, tzinfo=tzutc()), name='gate_error', unit='', value=0.0)], qubits=[5]), Gate(gate='u2', parameters=[Nduv(date=datetime.datetime(2019, 4, 24, 6, 41, tzinfo=tzutc()), name='gate_error', unit='', value=0.0022439181023224397)], qubits=[5]), Gate(gate='u3', parameters=[Nduv(date=datetime.datetime(2019, 4, 24, 6, 41, tzinfo=tzutc()), name='gate_error', unit='', value=0.004487836204644879)], qubits=[5]), Gate(gate='u1', parameters=[Nduv(date=datetime.datetime(2019, 4, 24, 6, 41, tzinfo=tzutc()), name='gate_error', unit='', value=0.0)], qubits=[6]), Gate(gate='u2', parameters=[Nduv(date=datetime.datetime(2019, 4, 24, 6, 41, tzinfo=tzutc()), name='gate_error', unit='', value=0.0014504428552118975)], qubits=[6]), Gate(gate='u3', parameters=[Nduv(date=datetime.datetime(2019, 4, 24, 6, 41, tzinfo=tzutc()), name='gate_error', unit='', value=0.002900885710423795)], qubits=[6]), Gate(gate='u1', parameters=[Nduv(date=datetime.datetime(2019, 4, 24, 6, 41, tzinfo=tzutc()), name='gate_error', unit='', value=0.0)], qubits=[7]), Gate(gate='u2', parameters=[Nduv(date=datetime.datetime(2019, 4, 24, 6, 41, tzinfo=tzutc()), name='gate_error', unit='', value=0.002684570169041667)], qubits=[7]), Gate(gate='u3', parameters=[Nduv(date=datetime.datetime(2019, 4, 24, 6, 41, tzinfo=tzutc()), name='gate_error', unit='', value=0.005369140338083334)], qubits=[7]), Gate(gate='u1', parameters=[Nduv(date=datetime.datetime(2019, 4, 24, 6, 41, tzinfo=tzutc()), name='gate_error', unit='', value=0.0)], qubits=[8]), Gate(gate='u2', parameters=[Nduv(date=datetime.datetime(2019, 4, 24, 6, 41, tzinfo=tzutc()), name='gate_error', unit='', value=0.0019193751117658753)], qubits=[8]), Gate(gate='u3', parameters=[Nduv(date=datetime.datetime(2019, 4, 24, 6, 41, tzinfo=tzutc()), name='gate_error', unit='', value=0.0038387502235317505)], qubits=[8]), Gate(gate='u1', parameters=[Nduv(date=datetime.datetime(2019, 4, 24, 6, 41, tzinfo=tzutc()), name='gate_error', unit='', value=0.0)], qubits=[9]), Gate(gate='u2', parameters=[Nduv(date=datetime.datetime(2019, 4, 24, 6, 41, tzinfo=tzutc()), name='gate_error', unit='', value=0.0029682100351519636)], qubits=[9]), Gate(gate='u3', parameters=[Nduv(date=datetime.datetime(2019, 4, 24, 6, 41, tzinfo=tzutc()), name='gate_error', unit='', value=0.005936420070303927)], qubits=[9]), Gate(gate='u1', parameters=[Nduv(date=datetime.datetime(2019, 4, 24, 6, 41, tzinfo=tzutc()), name='gate_error', unit='', value=0.0)], qubits=[10]), Gate(gate='u2', parameters=[Nduv(date=datetime.datetime(2019, 4, 24, 6, 41, tzinfo=tzutc()), name='gate_error', unit='', value=0.002120230484888075)], qubits=[10]), Gate(gate='u3', parameters=[Nduv(date=datetime.datetime(2019, 4, 24, 6, 41, tzinfo=tzutc()), name='gate_error', unit='', value=0.00424046096977615)], qubits=[10]), Gate(gate='u1', parameters=[Nduv(date=datetime.datetime(2019, 4, 24, 6, 41, tzinfo=tzutc()), name='gate_error', unit='', value=0.0)], qubits=[11]), Gate(gate='u2', parameters=[Nduv(date=datetime.datetime(2019, 4, 24, 6, 41, tzinfo=tzutc()), name='gate_error', unit='', value=0.0021507940247202373)], qubits=[11]), Gate(gate='u3', parameters=[Nduv(date=datetime.datetime(2019, 4, 24, 6, 41, tzinfo=tzutc()), name='gate_error', unit='', value=0.004301588049440475)], qubits=[11]), Gate(gate='u1', parameters=[Nduv(date=datetime.datetime(2019, 4, 24, 6, 41, tzinfo=tzutc()), name='gate_error', unit='', value=0.0)], qubits=[12]), Gate(gate='u2', parameters=[Nduv(date=datetime.datetime(2019, 4, 24, 6, 41, tzinfo=tzutc()), name='gate_error', unit='', value=0.004080686532658473)], qubits=[12]), Gate(gate='u3', parameters=[Nduv(date=datetime.datetime(2019, 4, 24, 6, 41, tzinfo=tzutc()), name='gate_error', unit='', value=0.008161373065316946)], qubits=[12]), Gate(gate='u1', parameters=[Nduv(date=datetime.datetime(2019, 4, 24, 6, 41, tzinfo=tzutc()), name='gate_error', unit='', value=0.0)], qubits=[13]), Gate(gate='u2', parameters=[Nduv(date=datetime.datetime(2019, 4, 24, 6, 41, tzinfo=tzutc()), name='gate_error', unit='', value=0.008654629795961544)], qubits=[13]), Gate(gate='u3', parameters=[Nduv(date=datetime.datetime(2019, 4, 24, 6, 41, tzinfo=tzutc()), name='gate_error', unit='', value=0.017309259591923087)], qubits=[13]), Gate(gate='cx', name='CX1_0', parameters=[Nduv(date=datetime.datetime(2019, 4, 22, 2, 26, tzinfo=tzutc()), name='gate_error', unit='', value=0.044033454201700184)], qubits=[1, 0]), Gate(gate='cx', name='CX1_2', parameters=[Nduv(date=datetime.datetime(2019, 4, 22, 2, 29, 15, tzinfo=tzutc()), name='gate_error', unit='', value=0.05275060299548459)], qubits=[1, 2]), Gate(gate='cx', name='CX2_3', parameters=[Nduv(date=datetime.datetime(2019, 4, 23, 2, 42, 28, tzinfo=tzutc()), name='gate_error', unit='', value=0.06270687968135702)], qubits=[2, 3]), Gate(gate='cx', name='CX4_3', parameters=[Nduv(date=datetime.datetime(2019, 4, 23, 2, 45, 46, tzinfo=tzutc()), name='gate_error', unit='', value=0.0408534035353382)], qubits=[4, 3]), Gate(gate='cx', name='CX4_10', parameters=[Nduv(date=datetime.datetime(2019, 4, 23, 2, 49, 3, tzinfo=tzutc()), name='gate_error', unit='', value=0.042585994487224305)], qubits=[4, 10]), Gate(gate='cx', name='CX5_4', parameters=[Nduv(date=datetime.datetime(2019, 4, 23, 2, 52, 19, tzinfo=tzutc()), name='gate_error', unit='', value=0.06664432129341102)], qubits=[5, 4]), Gate(gate='cx', name='CX5_6', parameters=[Nduv(date=datetime.datetime(2019, 4, 23, 2, 55, 45, tzinfo=tzutc()), name='gate_error', unit='', value=0.09384316840900091)], qubits=[5, 6]), Gate(gate='cx', name='CX5_9', parameters=[Nduv(date=datetime.datetime(2019, 4, 23, 2, 59, 35, tzinfo=tzutc()), name='gate_error', unit='', value=0.07770803272916688)], qubits=[5, 9]), Gate(gate='cx', name='CX6_8', parameters=[Nduv(date=datetime.datetime(2019, 4, 23, 3, 3, tzinfo=tzutc()), name='gate_error', unit='', value=0.02674010108462585)], qubits=[6, 8]), Gate(gate='cx', name='CX7_8', parameters=[Nduv(date=datetime.datetime(2019, 4, 23, 3, 6, 31, tzinfo=tzutc()), name='gate_error', unit='', value=0.034000380732042784)], qubits=[7, 8]), Gate(gate='cx', name='CX9_8', parameters=[Nduv(date=datetime.datetime(2019, 4, 23, 3, 9, 43, tzinfo=tzutc()), name='gate_error', unit='', value=0.035249739339179964)], qubits=[9, 8]), Gate(gate='cx', name='CX9_10', parameters=[Nduv(date=datetime.datetime(2019, 4, 23, 3, 13, 42, tzinfo=tzutc()), name='gate_error', unit='', value=0.045388116486941216)], qubits=[9, 10]), Gate(gate='cx', name='CX11_3', parameters=[Nduv(date=datetime.datetime(2019, 4, 23, 3, 23, 31, tzinfo=tzutc()), name='gate_error', unit='', value=0.03718497544907873)], qubits=[11, 3]), Gate(gate='cx', name='CX11_10', parameters=[Nduv(date=datetime.datetime(2019, 4, 23, 3, 17, 7, tzinfo=tzutc()), name='gate_error', unit='', value=0.03849978893652431)], qubits=[11, 10]), Gate(gate='cx', name='CX11_12', parameters=[Nduv(date=datetime.datetime(2019, 4, 23, 3, 20, 22, tzinfo=tzutc()), name='gate_error', unit='', value=0.04396078226800121)], qubits=[11, 12]), Gate(gate='cx', name='CX12_2', parameters=[Nduv(date=datetime.datetime(2019, 4, 23, 3, 26, 48, tzinfo=tzutc()), name='gate_error', unit='', value=0.0932965467065826)], qubits=[12, 2]), Gate(gate='cx', name='CX13_1', parameters=[Nduv(date=datetime.datetime(2019, 4, 22, 3, 22, 10, tzinfo=tzutc()), name='gate_error', unit='', value=0.1115135784460601)], qubits=[13, 1]), Gate(gate='cx', name='CX13_12', parameters=[Nduv(date=datetime.datetime(2019, 4, 23, 3, 35, 21, tzinfo=tzutc()), name='gate_error', unit='', value=0.04026371390128103)], qubits=[13, 12])], general=[], last_update_date=datetime.datetime(2019, 4, 23, 3, 35, 21, tzinfo=tzutc()), qubits=[[Nduv(date=datetime.datetime(2019, 4, 23, 1, 39, 54, tzinfo=tzutc()), name='T1', unit='µs', value=80.93276814257615), Nduv(date=datetime.datetime(2019, 4, 23, 1, 41, 8, tzinfo=tzutc()), name='T2', unit='µs', value=24.51731268227694), Nduv(date=datetime.datetime(2019, 4, 23, 3, 35, 21, tzinfo=tzutc()), name='frequency', unit='GHz', value=5.100095178343964), Nduv(date=datetime.datetime(2019, 4, 23, 1, 39, 29, tzinfo=tzutc()), name='readout_error', unit='', value=0.028100000000000014)], [Nduv(date=datetime.datetime(2019, 4, 22, 1, 30, 15, tzinfo=tzutc()), name='T1', unit='µs', value=57.397746445609975), Nduv(date=datetime.datetime(2019, 4, 22, 1, 32, 32, tzinfo=tzutc()), name='T2', unit='µs', value=98.47976889309517), Nduv(date=datetime.datetime(2019, 4, 23, 3, 35, 21, tzinfo=tzutc()), name='frequency', unit='GHz', value=5.238529161001356), Nduv(date=datetime.datetime(2019, 4, 23, 1, 39, 29, tzinfo=tzutc()), name='readout_error', unit='', value=0.3841)], [Nduv(date=datetime.datetime(2019, 4, 23, 1, 39, 54, tzinfo=tzutc()), name='T1', unit='µs', value=41.637643856090016), Nduv(date=datetime.datetime(2019, 4, 23, 1, 43, 9, tzinfo=tzutc()), name='T2', unit='µs', value=71.05996417944921), Nduv(date=datetime.datetime(2019, 4, 23, 3, 35, 21, tzinfo=tzutc()), name='frequency', unit='GHz', value=5.032900410534101), Nduv(date=datetime.datetime(2019, 4, 23, 1, 39, 29, tzinfo=tzutc()), name='readout_error', unit='', value=0.15579999999999994)], [Nduv(date=datetime.datetime(2019, 4, 22, 1, 30, 15, tzinfo=tzutc()), name='T1', unit='µs', value=68.14048367144501), Nduv(date=datetime.datetime(2019, 4, 23, 1, 44, 10, tzinfo=tzutc()), name='T2', unit='µs', value=54.97103525393542), Nduv(date=datetime.datetime(2019, 4, 23, 3, 35, 21, tzinfo=tzutc()), name='frequency', unit='GHz', value=4.896180184656652), Nduv(date=datetime.datetime(2019, 4, 23, 1, 39, 29, tzinfo=tzutc()), name='readout_error', unit='', value=0.2077)], [Nduv(date=datetime.datetime(2019, 4, 23, 1, 39, 54, tzinfo=tzutc()), name='T1', unit='µs', value=72.21766194453383), Nduv(date=datetime.datetime(2019, 4, 23, 1, 41, 8, tzinfo=tzutc()), name='T2', unit='µs', value=38.74411016173489), Nduv(date=datetime.datetime(2019, 4, 23, 3, 35, 21, tzinfo=tzutc()), name='frequency', unit='GHz', value=5.026409838098578), Nduv(date=datetime.datetime(2019, 4, 23, 1, 39, 29, tzinfo=tzutc()), name='readout_error', unit='', value=0.031299999999999994)], [Nduv(date=datetime.datetime(2019, 4, 23, 1, 39, 54, tzinfo=tzutc()), name='T1', unit='µs', value=15.660035504928235), Nduv(date=datetime.datetime(2019, 4, 23, 1, 42, 9, tzinfo=tzutc()), name='T2', unit='µs', value=19.054604430368816), Nduv(date=datetime.datetime(2019, 4, 23, 3, 35, 21, tzinfo=tzutc()), name='frequency', unit='GHz', value=5.067296608087905), Nduv(date=datetime.datetime(2019, 4, 23, 1, 39, 29, tzinfo=tzutc()), name='readout_error', unit='', value=0.07099999999999995)], [Nduv(date=datetime.datetime(2019, 4, 23, 1, 39, 54, tzinfo=tzutc()), name='T1', unit='µs', value=80.03219925226475), Nduv(date=datetime.datetime(2019, 4, 23, 1, 43, 9, tzinfo=tzutc()), name='T2', unit='µs', value=69.36152541094712), Nduv(date=datetime.datetime(2019, 4, 23, 3, 35, 21, tzinfo=tzutc()), name='frequency', unit='GHz', value=4.9239463101870244), Nduv(date=datetime.datetime(2019, 4, 23, 1, 39, 29, tzinfo=tzutc()), name='readout_error', unit='', value=0.03310000000000002)], [Nduv(date=datetime.datetime(2019, 4, 23, 1, 39, 54, tzinfo=tzutc()), name='T1', unit='µs', value=49.67668954971679), Nduv(date=datetime.datetime(2019, 4, 23, 1, 44, 10, tzinfo=tzutc()), name='T2', unit='µs', value=70.27619224779839), Nduv(date=datetime.datetime(2019, 4, 23, 3, 35, 21, tzinfo=tzutc()), name='frequency', unit='GHz', value=4.974519940718283), Nduv(date=datetime.datetime(2019, 4, 23, 1, 39, 29, tzinfo=tzutc()), name='readout_error', unit='', value=0.21310000000000007)], [Nduv(date=datetime.datetime(2019, 4, 23, 1, 39, 54, tzinfo=tzutc()), name='T1', unit='µs', value=113.48688253653535), Nduv(date=datetime.datetime(2019, 4, 23, 1, 41, 8, tzinfo=tzutc()), name='T2', unit='µs', value=260.24690339867084), Nduv(date=datetime.datetime(2019, 4, 23, 3, 35, 21, tzinfo=tzutc()), name='frequency', unit='GHz', value=4.737874076437356), Nduv(date=datetime.datetime(2019, 4, 23, 1, 39, 29, tzinfo=tzutc()), name='readout_error', unit='', value=0.048899999999999944)], [Nduv(date=datetime.datetime(2019, 4, 23, 1, 39, 54, tzinfo=tzutc()), name='T1', unit='µs', value=46.23407549044834), Nduv(date=datetime.datetime(2019, 4, 23, 1, 43, 9, tzinfo=tzutc()), name='T2', unit='µs', value=69.44103035404216), Nduv(date=datetime.datetime(2019, 4, 23, 3, 35, 21, tzinfo=tzutc()), name='frequency', unit='GHz', value=4.963448097014044), Nduv(date=datetime.datetime(2019, 4, 23, 1, 39, 29, tzinfo=tzutc()), name='readout_error', unit='', value=0.03400000000000003)], [Nduv(date=datetime.datetime(2019, 4, 23, 1, 39, 54, tzinfo=tzutc()), name='T1', unit='µs', value=57.599960427932636), Nduv(date=datetime.datetime(2019, 4, 23, 1, 42, 9, tzinfo=tzutc()), name='T2', unit='µs', value=63.907830090550675), Nduv(date=datetime.datetime(2019, 4, 23, 3, 35, 21, tzinfo=tzutc()), name='frequency', unit='GHz', value=4.944994567879446), Nduv(date=datetime.datetime(2019, 4, 23, 1, 39, 29, tzinfo=tzutc()), name='readout_error', unit='', value=0.04959999999999998)], [Nduv(date=datetime.datetime(2019, 4, 23, 1, 39, 54, tzinfo=tzutc()), name='T1', unit='µs', value=48.16058489508115), Nduv(date=datetime.datetime(2019, 4, 23, 1, 43, 9, tzinfo=tzutc()), name='T2', unit='µs', value=80.15981567261086), Nduv(date=datetime.datetime(2019, 4, 23, 3, 35, 21, tzinfo=tzutc()), name='frequency', unit='GHz', value=5.005081730711091), Nduv(date=datetime.datetime(2019, 4, 23, 1, 39, 29, tzinfo=tzutc()), name='readout_error', unit='', value=0.2614000000000001)], [Nduv(date=datetime.datetime(2019, 4, 23, 1, 39, 54, tzinfo=tzutc()), name='T1', unit='µs', value=70.56963227285841), Nduv(date=datetime.datetime(2019, 4, 23, 1, 42, 9, tzinfo=tzutc()), name='T2', unit='µs', value=122.67145629316363), Nduv(date=datetime.datetime(2019, 4, 23, 3, 35, 21, tzinfo=tzutc()), name='frequency', unit='GHz', value=4.760031947513272), Nduv(date=datetime.datetime(2019, 4, 23, 1, 39, 29, tzinfo=tzutc()), name='readout_error', unit='', value=0.030399999999999983)], [Nduv(date=datetime.datetime(2019, 4, 23, 1, 39, 54, tzinfo=tzutc()), name='T1', unit='µs', value=26.084106499505722), Nduv(date=datetime.datetime(2019, 4, 23, 1, 41, 8, tzinfo=tzutc()), name='T2', unit='µs', value=53.18226461649173), Nduv(date=datetime.datetime(2019, 4, 23, 3, 35, 21, tzinfo=tzutc()), name='frequency', unit='GHz', value=4.9684721323827095), Nduv(date=datetime.datetime(2019, 4, 23, 1, 39, 29, tzinfo=tzutc()), name='readout_error', unit='', value=0.055499999999999994)]])\n"
     ]
    }
   ],
   "source": [
    "properties = q_backend.properties()\n",
    "print(properties)"
   ]
  },
  {
   "cell_type": "markdown",
   "metadata": {
    "slideshow": {
     "slide_type": "slide"
    }
   },
   "source": [
    "# A Prettier Device Overview\n",
    "\n",
    "Terra's Jupyter tools can display this in human-readable format. Note that explanations of much of the data below can be found in the [Qiskit Backend Specifications for OpenQASM and OpenPulse Experiments](https://arxiv.org/abs/1809.03452) paper."
   ]
  },
  {
   "cell_type": "code",
   "execution_count": 78,
   "metadata": {
    "slideshow": {
     "slide_type": "-"
    }
   },
   "outputs": [],
   "source": [
    "from qiskit.tools.jupyter import *"
   ]
  },
  {
   "cell_type": "code",
   "execution_count": 61,
   "metadata": {
    "slideshow": {
     "slide_type": "slide"
    }
   },
   "outputs": [
    {
     "data": {
      "application/vnd.jupyter.widget-view+json": {
       "model_id": "016e498f6c5b403385b51750b9718238",
       "version_major": 2,
       "version_minor": 0
      },
      "text/plain": [
       "VBox(children=(HTML(value=\"<h2 style ='color:#ffffff; background-color:#000000;padding-top: 1%; padding-bottom…"
      ]
     },
     "metadata": {},
     "output_type": "display_data"
    }
   ],
   "source": [
    "%qiskit_backend_overview"
   ]
  },
  {
   "cell_type": "markdown",
   "metadata": {
    "slideshow": {
     "slide_type": "slide"
    }
   },
   "source": [
    "# Diving into a Specific Backend"
   ]
  },
  {
   "cell_type": "code",
   "execution_count": 79,
   "metadata": {},
   "outputs": [
    {
     "data": {
      "application/vnd.jupyter.widget-view+json": {
       "model_id": "b0157cb149ef45a390d78e47bd9fda3b",
       "version_major": 2,
       "version_minor": 0
      },
      "text/plain": [
       "VBox(children=(HTML(value=\"<h1 style='color:#ffffff;background-color:#000000;padding-top: 1%;padding-bottom: 1…"
      ]
     },
     "metadata": {},
     "output_type": "display_data"
    }
   ],
   "source": [
    "%qiskit_backend_monitor q_backend"
   ]
  },
  {
   "cell_type": "markdown",
   "metadata": {
    "slideshow": {
     "slide_type": "slide"
    }
   },
   "source": [
    "# Modelling Noise in Aer Based on a Device's Properties\n",
    "\n",
    "Now that we have these properties, we want to create a noise model for the qasm_simulator which closely resembles this device. A new feature in Aer allows you to do just that. Much of the content below is drawn from [this notebook](https://github.com/Qiskit/qiskit-tutorials/blob/master/qiskit/aer/device_noise_simulation.ipynb) 📒."
   ]
  },
  {
   "cell_type": "code",
   "execution_count": 63,
   "metadata": {
    "slideshow": {
     "slide_type": "-"
    }
   },
   "outputs": [],
   "source": [
    "from qiskit.providers.aer import noise"
   ]
  },
  {
   "cell_type": "code",
   "execution_count": 64,
   "metadata": {
    "slideshow": {
     "slide_type": "-"
    }
   },
   "outputs": [
    {
     "name": "stdout",
     "output_type": "stream",
     "text": [
      "NoiseModel:\n",
      "  Instructions with noise: ['u3', 'u2', 'measure', 'cx']\n",
      "  Specific qubit errors: [('u2', [0]), ('u2', [1]), ('u2', [2]), ('u2', [3]), ('u2', [4]), ('u2', [5]), ('u2', [6]), ('u2', [7]), ('u2', [8]), ('u2', [9]), ('u2', [10]), ('u2', [11]), ('u2', [12]), ('u2', [13]), ('u2', [14]), ('u2', [15]), ('u2', [16]), ('u2', [17]), ('u2', [18]), ('u2', [19]), ('u3', [0]), ('u3', [1]), ('u3', [2]), ('u3', [3]), ('u3', [4]), ('u3', [5]), ('u3', [6]), ('u3', [7]), ('u3', [8]), ('u3', [9]), ('u3', [10]), ('u3', [11]), ('u3', [12]), ('u3', [13]), ('u3', [14]), ('u3', [15]), ('u3', [16]), ('u3', [17]), ('u3', [18]), ('u3', [19]), ('cx', [0, 1]), ('cx', [0, 5]), ('cx', [1, 0]), ('cx', [1, 2]), ('cx', [2, 1]), ('cx', [2, 3]), ('cx', [3, 2]), ('cx', [3, 4]), ('cx', [4, 3]), ('cx', [4, 9]), ('cx', [5, 0]), ('cx', [5, 6]), ('cx', [5, 10]), ('cx', [6, 5]), ('cx', [6, 7]), ('cx', [7, 6]), ('cx', [7, 8]), ('cx', [7, 12]), ('cx', [8, 7]), ('cx', [8, 9]), ('cx', [9, 4]), ('cx', [9, 8]), ('cx', [9, 14]), ('cx', [10, 5]), ('cx', [10, 11]), ('cx', [10, 15]), ('cx', [11, 10]), ('cx', [11, 12]), ('cx', [12, 7]), ('cx', [12, 11]), ('cx', [12, 13]), ('cx', [13, 12]), ('cx', [13, 14]), ('cx', [14, 9]), ('cx', [14, 13]), ('cx', [14, 19]), ('cx', [15, 10]), ('cx', [15, 16]), ('cx', [16, 15]), ('cx', [16, 17]), ('cx', [17, 16]), ('cx', [17, 18]), ('cx', [18, 17]), ('cx', [18, 19]), ('cx', [19, 14]), ('cx', [19, 18]), ('measure', [0]), ('measure', [1]), ('measure', [2]), ('measure', [3]), ('measure', [4]), ('measure', [5]), ('measure', [6]), ('measure', [7]), ('measure', [8]), ('measure', [9]), ('measure', [10]), ('measure', [11]), ('measure', [12]), ('measure', [13]), ('measure', [14]), ('measure', [15]), ('measure', [16]), ('measure', [17]), ('measure', [18]), ('measure', [19])]\n"
     ]
    }
   ],
   "source": [
    "# List of gate times for ibmq_14_melbourne device\n",
    "# Note that the None parameter for u1, u2, u3 is because gate\n",
    "# times are the same for all qubits\n",
    "gate_times = [\n",
    "    ('u1', None, 0), ('u2', None, 50), ('u3', None, 100),\n",
    "    ('cx', [1, 0], 478), # I can add gate times for specific couplings, or all couplings\n",
    "    ('cx', [], 400)\n",
    "]\n",
    "\n",
    "# Construct the noise model from backend properties\n",
    "# and custom gate times\n",
    "noise_model = noise.device.basic_device_noise_model(properties, gate_times=gate_times)\n",
    "print(noise_model)"
   ]
  },
  {
   "cell_type": "markdown",
   "metadata": {
    "slideshow": {
     "slide_type": "slide"
    }
   },
   "source": [
    "# Executing Our QPE Circuit with Our Noise Model\n",
    "\n",
    "Now, let's use this model to simulate our QPE circuit. Note, this can take a few minutes to run."
   ]
  },
  {
   "cell_type": "code",
   "execution_count": 65,
   "metadata": {
    "slideshow": {
     "slide_type": "-"
    }
   },
   "outputs": [
    {
     "data": {
      "image/png": "[encoded data removed]",
      "text/plain": [
       "<Figure size 504x360 with 1 Axes>"
      ]
     },
     "execution_count": 65,
     "metadata": {},
     "output_type": "execute_result"
    }
   ],
   "source": [
    "shots = 100\n",
    "basis_gates = noise_model.basis_gates\n",
    "\n",
    "# Select the QasmSimulator from the Aer provider\n",
    "simulator = Aer.get_backend('qasm_simulator')\n",
    "coupling_map = configuration.coupling_map\n",
    "\n",
    "# Execute noisy simulation and get counts\n",
    "result_noise = execute(x_qpe_qc, simulator, \n",
    "                       shots=shots,\n",
    "                       noise_model=noise_model,\n",
    "                       coupling_map=coupling_map,\n",
    "                       basis_gates=basis_gates).result()\n",
    "counts_noise = result_noise.get_counts(x_qpe_qc)\n",
    "plot_histogram(counts_noise, title=\"Counts for QPE circuit with depolarizing noise model\")"
   ]
  },
  {
   "cell_type": "code",
   "execution_count": 66,
   "metadata": {
    "slideshow": {
     "slide_type": "slide"
    }
   },
   "outputs": [
    {
     "data": {
      "text/plain": [
       "0.6175"
      ]
     },
     "execution_count": 66,
     "metadata": {},
     "output_type": "execute_result"
    }
   ],
   "source": [
    "# And now our phase estimate:\n",
    "angles = np.array([v*int(k, 2) for k, v in counts_noise.items()]) / shots / 2**(n-1)\n",
    "res = 2*sum(angles)\n",
    "np.around(res, decimals=5)"
   ]
  },
  {
   "cell_type": "markdown",
   "metadata": {},
   "source": [
    "This is not great (we'll investigate why in a moment), but let's try running on the **Qauntum hardware anyway 🌈**."
   ]
  },
  {
   "cell_type": "markdown",
   "metadata": {
    "slideshow": {
     "slide_type": "slide"
    }
   },
   "source": [
    "# Executing on Quantum Hardware\n",
    "\n",
    "### Back again to our circuit:"
   ]
  },
  {
   "cell_type": "code",
   "execution_count": 67,
   "metadata": {
    "slideshow": {
     "slide_type": "-"
    }
   },
   "outputs": [
    {
     "data": {
      "text/html": [
       "<pre style=\"word-wrap: normal;white-space: pre;line-height: 15px;\">                        ░ ┌───┐           ░ ┌───┐                                      ░ ┌─┐      \n",
       "q1_0: |0>───────────────░─┤ H ├──■────────░─┤ H ├─■────────■───────────────────────────░─┤M├──────\n",
       "                        ░ ├───┤  │        ░ └───┘ │1.5708  │       ┌───┐               ░ └╥┘┌─┐   \n",
       "q1_1: |0>───────────────░─┤ H ├──┼────────░───────■────────┼───────┤ H ├─■─────────────░──╫─┤M├───\n",
       "                        ░ ├───┤  │        ░                │0.7854 └───┘ │1.5708 ┌───┐ ░  ║ └╥┘┌─┐\n",
       "q1_2: |0>───────────────░─┤ H ├──┼────■───░────────────────■─────────────■───────┤ H ├─░──╫──╫─┤M├\n",
       "         ┌────────────┐ ░ └───┘┌─┴─┐┌─┴─┐ ░                                      └───┘ ░  ║  ║ └╥┘\n",
       "q1_3: |0>┤ Rx(1.5708) ├─░──────┤ X ├┤ X ├─░────────────────────────────────────────────░──╫──╫──╫─\n",
       "         └────────────┘ ░      └───┘└───┘ ░                                            ░  ║  ║  ║ \n",
       " c1_0: 0 ═════════════════════════════════════════════════════════════════════════════════╩══╬══╬═\n",
       "                                                                                             ║  ║ \n",
       " c1_1: 0 ════════════════════════════════════════════════════════════════════════════════════╩══╬═\n",
       "                                                                                                ║ \n",
       " c1_2: 0 ═══════════════════════════════════════════════════════════════════════════════════════╩═\n",
       "                                                                                                  \n",
       " c1_3: 0 ═════════════════════════════════════════════════════════════════════════════════════════\n",
       "                                                                                                  </pre>"
      ],
      "text/plain": [
       "<qiskit.visualization.text.TextDrawing at 0x125bd9b38>"
      ]
     },
     "execution_count": 67,
     "metadata": {},
     "output_type": "execute_result"
    }
   ],
   "source": [
    "x_qpe_qc.draw(line_length=200)"
   ]
  },
  {
   "cell_type": "markdown",
   "metadata": {
    "slideshow": {
     "slide_type": "slide"
    }
   },
   "source": [
    "Let's briefly peek at what the transpiler does to the circuit to allow it to execute on our selected device:"
   ]
  },
  {
   "cell_type": "code",
   "execution_count": 68,
   "metadata": {},
   "outputs": [
    {
     "data": {
      "text/html": [
       "<pre style=\"word-wrap: normal;white-space: pre;line-height: 15px;\">                                ░ ┌──────────────┐               ┌───┐          ┌───┐┌───┐ ░                           ┌───┐                                                                  ┌────────────┐     ┌───┐                                               ░ ┌─┐      \n",
       " q_0: |0>───────────────────────░─┤ U2(0,3.1416) ├──■────────────┤ X ├───────■──┤ X ├┤ X ├─░────────────────────────■──┤ X ├──────────────────────■────────────────────■───────────────────■──┤ U1(0.7854) ├──■──┤ X ├──■────────────────────────────────────────────░─┤M├──────\n",
       "                                ░ ├──────────────┤  │       ┌───┐└─┬─┘       │  └─┬─┘└─┬─┘ ░ ┌──────────────┐┌───┐  │  └─┬─┘┌─────────────┐┌───┐  │  ┌──────────────┐┌─┴─┐┌─────────────┐┌─┴─┐├────────────┤┌─┴─┐└─┬─┘┌─┴─┐                         ┌──────────────┐ ░ └╥┘   ┌─┐\n",
       " q_1: |0>───────────────────────░─┤ U2(0,3.1416) ├──┼────■──┤ X ├──┼────■────┼────■────┼───░─┤ U2(0,3.1416) ├┤ X ├──┼────┼──┤ U1(-0.7854) ├┤ X ├──┼──┤  U1(0.7854)  ├┤ X ├┤ U1(-0.3927) ├┤ X ├┤ U1(0.3927) ├┤ X ├──■──┤ X ├──■───────────────────■──┤ U2(0,3.1416) ├─░──╫────┤M├\n",
       "                                ░ ├──────────────┤  │  ┌─┴─┐└─┬─┘  │  ┌─┴─┐  │         │   ░ ├──────────────┤└─┬─┘  │    │  └─────────────┘└─┬─┘  │  ├──────────────┤└───┘└─────────────┘└───┘└────────────┘└───┘     └───┘┌─┴─┐┌─────────────┐┌─┴─┐├──────────────┤ ░  ║ ┌─┐└╥┘\n",
       " q_2: |0>───────────────────────░─┤ U2(0,3.1416) ├──┼──┤ X ├──■────┼──┤ X ├──┼─────────┼───░─┤  U1(0.7854)  ├──■────┼────┼───────────────────■────┼──┤ U2(0,3.1416) ├──────────────────────────────────────────────────────┤ X ├┤ U1(-0.7854) ├┤ X ├┤  U1(0.7854)  ├─░──╫─┤M├─╫─\n",
       "                                ░ └──────────────┘  │  └───┘       │  └───┘  │         │   ░ └──────────────┘       │    │                        │  └──────────────┘                                                      └───┘└─────────────┘└───┘└──────────────┘ ░  ║ └╥┘ ║ \n",
       " q_3: |0>───────────────────────────────────────────┼──────────────┼─────────┼─────────┼────────────────────────────┼────┼────────────────────────┼─────────────────────────────────────────────────────────────────────────────────────────────────────────────────────╫──╫──╫─\n",
       "                                                    │              │         │         │                            │    │                        │                                                                                                                     ║  ║  ║ \n",
       " q_4: |0>───────────────────────────────────────────┼──────────────┼─────────┼─────────┼────────────────────────────┼────┼────────────────────────┼─────────────────────────────────────────────────────────────────────────────────────────────────────────────────────╫──╫──╫─\n",
       "         ┌────────────────────┐ ░                 ┌─┴─┐            │       ┌─┴─┐       │   ░ ┌──────────────┐     ┌─┴─┐  │                      ┌─┴─┐                                                                                                                ░  ║  ║  ║ \n",
       " q_5: |0>┤ U2(-1.5708,1.5708) ├─░─────────────────┤ X ├────────────■───────┤ X ├───────■───░─┤  U1(0.3927)  ├─────┤ X ├──■──────────────────────┤ X ├────────────────────────────────────────────────────────────────────────────────────────────────────────────────░──╫──╫──╫─\n",
       "         └────────────────────┘ ░                 └───┘                    └───┘           ░ └──────────────┘     └───┘                         └───┘                                                                                                                ░  ║  ║  ║ \n",
       " q_6: |0>───────────────────────────────────────────────────────────────────────────────────────────────────────────────────────────────────────────────────────────────────────────────────────────────────────────────────────────────────────────────────────────────╫──╫──╫─\n",
       "                                                                                                                                                                                                                                                                        ║  ║  ║ \n",
       " q_7: |0>───────────────────────────────────────────────────────────────────────────────────────────────────────────────────────────────────────────────────────────────────────────────────────────────────────────────────────────────────────────────────────────────╫──╫──╫─\n",
       "                                                                                                                                                                                                                                                                        ║  ║  ║ \n",
       " q_8: |0>───────────────────────────────────────────────────────────────────────────────────────────────────────────────────────────────────────────────────────────────────────────────────────────────────────────────────────────────────────────────────────────────╫──╫──╫─\n",
       "                                                                                                                                                                                                                                                                        ║  ║  ║ \n",
       " q_9: |0>───────────────────────────────────────────────────────────────────────────────────────────────────────────────────────────────────────────────────────────────────────────────────────────────────────────────────────────────────────────────────────────────╫──╫──╫─\n",
       "                                                                                                                                                                                                                                                                        ║  ║  ║ \n",
       "q_10: |0>───────────────────────────────────────────────────────────────────────────────────────────────────────────────────────────────────────────────────────────────────────────────────────────────────────────────────────────────────────────────────────────────╫──╫──╫─\n",
       "                                                                                                                                                                                                                                                                        ║  ║  ║ \n",
       "q_11: |0>───────────────────────────────────────────────────────────────────────────────────────────────────────────────────────────────────────────────────────────────────────────────────────────────────────────────────────────────────────────────────────────────╫──╫──╫─\n",
       "                                                                                                                                                                                                                                                                        ║  ║  ║ \n",
       "q_12: |0>───────────────────────────────────────────────────────────────────────────────────────────────────────────────────────────────────────────────────────────────────────────────────────────────────────────────────────────────────────────────────────────────╫──╫──╫─\n",
       "                                                                                                                                                                                                                                                                        ║  ║  ║ \n",
       "q_13: |0>───────────────────────────────────────────────────────────────────────────────────────────────────────────────────────────────────────────────────────────────────────────────────────────────────────────────────────────────────────────────────────────────╫──╫──╫─\n",
       "                                                                                                                                                                                                                                                                        ║  ║  ║ \n",
       "q_14: |0>───────────────────────────────────────────────────────────────────────────────────────────────────────────────────────────────────────────────────────────────────────────────────────────────────────────────────────────────────────────────────────────────╫──╫──╫─\n",
       "                                                                                                                                                                                                                                                                        ║  ║  ║ \n",
       "q_15: |0>───────────────────────────────────────────────────────────────────────────────────────────────────────────────────────────────────────────────────────────────────────────────────────────────────────────────────────────────────────────────────────────────╫──╫──╫─\n",
       "                                                                                                                                                                                                                                                                        ║  ║  ║ \n",
       "q_16: |0>───────────────────────────────────────────────────────────────────────────────────────────────────────────────────────────────────────────────────────────────────────────────────────────────────────────────────────────────────────────────────────────────╫──╫──╫─\n",
       "                                                                                                                                                                                                                                                                        ║  ║  ║ \n",
       "q_17: |0>───────────────────────────────────────────────────────────────────────────────────────────────────────────────────────────────────────────────────────────────────────────────────────────────────────────────────────────────────────────────────────────────╫──╫──╫─\n",
       "                                                                                                                                                                                                                                                                        ║  ║  ║ \n",
       "q_18: |0>───────────────────────────────────────────────────────────────────────────────────────────────────────────────────────────────────────────────────────────────────────────────────────────────────────────────────────────────────────────────────────────────╫──╫──╫─\n",
       "                                                                                                                                                                                                                                                                        ║  ║  ║ \n",
       "q_19: |0>───────────────────────────────────────────────────────────────────────────────────────────────────────────────────────────────────────────────────────────────────────────────────────────────────────────────────────────────────────────────────────────────╫──╫──╫─\n",
       "                                                                                                                                                                                                                                                                        ║  ║  ║ \n",
       " c1_0: 0 ═══════════════════════════════════════════════════════════════════════════════════════════════════════════════════════════════════════════════════════════════════════════════════════════════════════════════════════════════════════════════════════════════╩══╬══╬═\n",
       "                                                                                                                                                                                                                                                                           ║  ║ \n",
       " c1_1: 0 ══════════════════════════════════════════════════════════════════════════════════════════════════════════════════════════════════════════════════════════════════════════════════════════════════════════════════════════════════════════════════════════════════╩══╬═\n",
       "                                                                                                                                                                                                                                                                              ║ \n",
       " c1_2: 0 ═════════════════════════════════════════════════════════════════════════════════════════════════════════════════════════════════════════════════════════════════════════════════════════════════════════════════════════════════════════════════════════════════════╩═\n",
       "                                                                                                                                                                                                                                                                                \n",
       " c1_3: 0 ═══════════════════════════════════════════════════════════════════════════════════════════════════════════════════════════════════════════════════════════════════════════════════════════════════════════════════════════════════════════════════════════════════════\n",
       "                                                                                                                                                                                                                                                                                </pre>"
      ],
      "text/plain": [
       "<qiskit.visualization.text.TextDrawing at 0x1258cc898>"
      ]
     },
     "execution_count": 68,
     "metadata": {},
     "output_type": "execute_result"
    }
   ],
   "source": [
    "chewed_x_qpe = transpile(x_qpe_qc, q_backend)\n",
    "chewed_x_qpe.draw(line_length=400)"
   ]
  },
  {
   "cell_type": "markdown",
   "metadata": {
    "slideshow": {
     "slide_type": "slide"
    }
   },
   "source": [
    "# Now, Executing Our Circuit:"
   ]
  },
  {
   "cell_type": "code",
   "execution_count": 69,
   "metadata": {
    "slideshow": {
     "slide_type": "-"
    }
   },
   "outputs": [],
   "source": [
    "shots = 8192        # Number of shots to run the program (experiment); maximum is 8192 shots.\n",
    "job_exp = execute(x_qpe_qc, q_backend, shots = shots)"
   ]
  },
  {
   "cell_type": "code",
   "execution_count": 70,
   "metadata": {
    "slideshow": {
     "slide_type": "fragment"
    }
   },
   "outputs": [
    {
     "data": {
      "text/plain": [
       "<JobStatus.INITIALIZING: 'job is being initialized'>"
      ]
     },
     "execution_count": 70,
     "metadata": {},
     "output_type": "execute_result"
    }
   ],
   "source": [
    "# Check the job status\n",
    "job_exp.status()"
   ]
  },
  {
   "cell_type": "markdown",
   "metadata": {},
   "source": [
    "# 🚨Note🚨: 'job is actively running' includes waiting in the queue!"
   ]
  },
  {
   "cell_type": "markdown",
   "metadata": {
    "slideshow": {
     "slide_type": "slide"
    }
   },
   "source": [
    "Note that I increase the timeout and wait time below considerably - this is completely necessary. The defaults are way too short."
   ]
  },
  {
   "cell_type": "code",
   "execution_count": 71,
   "metadata": {
    "slideshow": {
     "slide_type": "fragment"
    }
   },
   "outputs": [
    {
     "data": {
      "image/png": "[encoded data removed]",
      "text/plain": [
       "<Figure size 504x360 with 1 Axes>"
      ]
     },
     "execution_count": 71,
     "metadata": {},
     "output_type": "execute_result"
    }
   ],
   "source": [
    "# We recommend increasing the timeout to 30 minutes to avoid timeout errors when the queue is long.\n",
    "result_real = job_exp.result(timeout=3600, wait=5)\n",
    "counts = result_real.get_counts(x_qpe_qc)\n",
    "plot_histogram(counts)"
   ]
  },
  {
   "cell_type": "code",
   "execution_count": 72,
   "metadata": {
    "slideshow": {
     "slide_type": "fragment"
    }
   },
   "outputs": [
    {
     "data": {
      "text/plain": [
       "0.82169"
      ]
     },
     "execution_count": 72,
     "metadata": {},
     "output_type": "execute_result"
    }
   ],
   "source": [
    "angles = np.array([v*int(k, 2) for k, v in counts.items()]) / shots / 2**(n-1)\n",
    "res = 2*sum(angles)\n",
    "np.around(res, decimals=5)"
   ]
  },
  {
   "cell_type": "markdown",
   "metadata": {
    "slideshow": {
     "slide_type": "-"
    }
   },
   "source": [
    "Uh... not ideal, but the important peaks are coming through. More work to do..."
   ]
  },
  {
   "cell_type": "markdown",
   "metadata": {
    "slideshow": {
     "slide_type": "slide"
    }
   },
   "source": [
    "FYI, you can also retrieve an old job by its job_id."
   ]
  },
  {
   "cell_type": "code",
   "execution_count": 73,
   "metadata": {
    "slideshow": {
     "slide_type": "-"
    }
   },
   "outputs": [
    {
     "name": "stdout",
     "output_type": "stream",
     "text": [
      "JOB ID: 5cc05ec41aa79a006f46c0fa\n"
     ]
    },
    {
     "data": {
      "text/plain": [
       "{'0001': 784,\n",
       " '0000': 1801,\n",
       " '0100': 1229,\n",
       " '0010': 416,\n",
       " '0101': 1188,\n",
       " '0110': 541,\n",
       " '0111': 1127,\n",
       " '0011': 1106}"
      ]
     },
     "execution_count": 73,
     "metadata": {},
     "output_type": "execute_result"
    }
   ],
   "source": [
    "jobID = job_exp.job_id()\n",
    "\n",
    "print('JOB ID: {}'.format(jobID))\n",
    "\n",
    "job_get=q_backend.retrieve_job(jobID)\n",
    "job_get.result().get_counts(x_qpe_qc)"
   ]
  },
  {
   "cell_type": "markdown",
   "metadata": {
    "slideshow": {
     "slide_type": "slide"
    }
   },
   "source": [
    "# Tips and tricks\n",
    "\n",
    "* Put many circuits into a single execution!\n",
    "  * Simulators will (generally) execute these in parallel\n",
    "  * Quantum Hardware does a lot of calibration for each new job, so if you send 100 jobs it will generally take ~100x as long as one job with 100 circuits, even if the circuits are completely different!\n",
    "* Increase your timeout when waiting for results! Default is 30 seconds, better to set to 1800 (30 mins)\n",
    "  * See notebook above (ctrl-f for 'timeout')\n",
    "* Consider commenting out Qobj validation if you need more speed in an iterative algo, but don’t tell anyone who told you so!\n",
    "* Use an IDE!! A lot of people at IBM use Pycharm. Being able to step through the code is critical!"
   ]
  },
  {
   "cell_type": "markdown",
   "metadata": {
    "slideshow": {
     "slide_type": "slide"
    }
   },
   "source": [
    "* Look at the debug log messages. There is a ton of important info in there.\n",
    "  * Even better, save them to a file."
   ]
  },
  {
   "cell_type": "code",
   "execution_count": 74,
   "metadata": {
    "slideshow": {
     "slide_type": "fragment"
    }
   },
   "outputs": [],
   "source": [
    "import logging\n",
    "logging.getLogger('qiskit').setLevel(logging.DEBUG)"
   ]
  },
  {
   "cell_type": "markdown",
   "metadata": {
    "slideshow": {
     "slide_type": "fragment"
    }
   },
   "source": [
    "Redirecting logs to a file:\n",
    "\n",
    "```\n",
    "# Redirecting debug logs to a file (can't be done in colab):\n",
    "    loggerc = logging.getLogger('qiskit_aqua_chemistry')\n",
    "    loggerc.setLevel(logging.DEBUG)\n",
    "    loggera = logging.getLogger('qiskit_aqua')\n",
    "    loggera.setLevel(logging.DEBUG)\n",
    "    loggerq = logging.getLogger('qiskit')\n",
    "    loggerq.setLevel(logging.DEBUG)\n",
    "    formatter = logging.Formatter(fmt='%(asctime)s %(levelname)-8s %(message)s', datefmt='%Y-%m-%d %H:%M:%S')\n",
    "    hdlr = logging.FileHandler(outdir + log_file_name, mode='w')\n",
    "    hdlr.setFormatter(formatter)\n",
    "    loggerc.addHandler(hdlr)\n",
    "    loggera.addHandler(hdlr)\n",
    "    loggerq.addHandler(hdlr)\n",
    "    print('\\nlog file: {}'.format(outdir + log_file_name))\n",
    "# <build, execute, etc.>\n",
    "# close up handlers\n",
    "    loggerc.removeHandler(hdlr)\n",
    "    loggera.removeHandler(hdlr)\n",
    "    loggerq.removeHandler(hdlr)\n",
    "    hdlr.close()\n",
    "```"
   ]
  },
  {
   "cell_type": "markdown",
   "metadata": {
    "slideshow": {
     "slide_type": "slide"
    }
   },
   "source": [
    "Handling errors from the hardware and APIs is hard! Don't reinvent the wheel. The Aqua team have built a sophisticated system for robust and fault-resilient execution. I highly recommend you use it, or copy its methods: [run_circuits.py](https://github.com/Qiskit/aqua/blob/master/qiskit_aqua/utils/run_circuits.py)"
   ]
  },
  {
   "cell_type": "markdown",
   "metadata": {
    "slideshow": {
     "slide_type": "slide"
    }
   },
   "source": [
    "# Learning more\n",
    "\n",
    "The [qiskit-tutorials](https://github.com/Qiskit/qiskit-tutorials) 📒 repo on Github has dozens of thoughtful and sophisticated tutorials. I highly recommend going through both the “[qiskit/](https://github.com/Qiskit/qiskit-tutorials/tree/master/qiskit)” directory and the “[community/](https://github.com/Qiskit/qiskit-tutorials/tree/master/community)” directory. I learn new things every time I look through them, and reference them regularly.\n",
    "\n",
    "The order in which I investigate if I'm confused about something:\n",
    "* Look at the tutorials for an example\n",
    "* Look at the code directly to understand the behavior\n",
    "* Look at the tests for an example\n",
    "* Debug in my IDE, relying heavily on inspecting objects during execution\n",
    "* Look at the documentation"
   ]
  },
  {
   "cell_type": "markdown",
   "metadata": {
    "slideshow": {
     "slide_type": "slide"
    }
   },
   "source": [
    "# Review - Quantum Algorithm Building Blocks\n",
    "\n",
    "Four major building blocks of quantum algorithms:\n",
    "\n",
    "* Quantum Fourier Transform\n",
    "   * Period-finding and phase↔norm swapping\n",
    "   * Speedup from O(n2n) to O(n2)\n",
    "   * E.g. Shor’s algorithm, Quantum Phase Estimation\n",
    "* Hamiltonian Evolution\n",
    "   * Applying a Hamiltonian to an initial state over an arbitrary time period\n",
    "   * Exponential speedup (mostly, with complicated factors)\n",
    "   * E.g. HHL, QAOA, QPE\n",
    "* Unstructured Search (Grover’s)\n",
    "   * Search for a state (string) exhibiting a binary condition (e.g. satisfy my 3SAT problem…)\n",
    "   * Speedup of O(√n)\n",
    "* Variational Optimization\n",
    "   * Prepare a quantum state using a parameterized short circuit, use a classical optimizer to optimize parameters toward some desired quality evaluated on the QC (e.g. binary classification)\n",
    "   * Speedups vary, usually no guaranteed speedup, but good for NISQ machines\n",
    "   * E.g. VQE, VSVM, QAOA"
   ]
  },
  {
   "cell_type": "markdown",
   "metadata": {
    "slideshow": {
     "slide_type": "slide"
    }
   },
   "source": [
    "# Quantum Fourier Transform\n",
    "\n",
    "We've used it above and it is straightforward to implement, but it is not very intuitive as a building block, and I recommend the [tutorial dedicated to it](https://github.com/Qiskit/qiskit-tutorial/blob/master/community/terra/qis_adv/fourier_transform.ipynb) 📒 by Anna Phan. I also highly recommmend 3Blue1Brown's video on the [continuous fourier transform](https://www.youtube.com/watch?v=spUNpyF58BY)."
   ]
  },
  {
   "cell_type": "markdown",
   "metadata": {
    "slideshow": {
     "slide_type": "slide"
    }
   },
   "source": [
    "# Hamiltonian Evolution\n",
    "\n",
    "This is trickier, we're working on it. For now, the best way to learn about this in Qiskit is in the [Aqua operator class](https://github.com/Qiskit/aqua/blob/master/qiskit_aqua/operator.py#L1119), which includes lots of evolution logic."
   ]
  },
  {
   "cell_type": "markdown",
   "metadata": {
    "slideshow": {
     "slide_type": "slide"
    }
   },
   "source": [
    "# Grover’s Algorithm\n",
    "\n",
    "Pretty straightforward in Terra. See [this notebook](https://github.com/Qiskit/qiskit-tutorial/blob/master/community/algorithms/grover_algorithm.ipynb) 📒 by Giacomo Nannicini and Raymond Harry Rudy.\n",
    "\n"
   ]
  },
  {
   "cell_type": "markdown",
   "metadata": {
    "slideshow": {
     "slide_type": "slide"
    }
   },
   "source": [
    "# Variational Optimization\n",
    "\n",
    "This also doesn't have a standalone tutorial, but the [Aqua VQE](https://github.com/Qiskit/aqua/blob/master/qiskit_aqua/algorithms/adaptive/vqe/vqe.py) is a straightforward, well engineered example of variational optimization. The [Aqua Variational SVM](https://github.com/Qiskit/aqua/blob/master/qiskit_aqua/algorithms/adaptive/qsvm/qsvm_variational.py) is also a good example."
   ]
  },
  {
   "cell_type": "markdown",
   "metadata": {
    "slideshow": {
     "slide_type": "slide"
    }
   },
   "source": [
    "# Learning More - A Longer Course\n",
    "\n",
    "[This doc](https://docs.google.com/document/d/1WoUQky2NXdbrdGkxaUA28VE7W3fryTQG6ezn8Fw-l4E/edit) details a longer course to fluency in Quantum Programming."
   ]
  }
 ],
 "metadata": {
  "celltoolbar": "Slideshow",
  "kernelspec": {
   "display_name": "code",
   "language": "python",
   "name": "code"
  },
  "language_info": {
   "codemirror_mode": {
    "name": "ipython",
    "version": 3
   },
   "file_extension": ".py",
   "mimetype": "text/x-python",
   "name": "python",
   "nbconvert_exporter": "python",
   "pygments_lexer": "ipython3",
   "version": "3.6.5"
  }
 },
 "nbformat": 4,
 "nbformat_minor": 2
}
